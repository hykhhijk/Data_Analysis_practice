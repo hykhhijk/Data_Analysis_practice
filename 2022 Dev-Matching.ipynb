{
 "cells": [
  {
   "cell_type": "code",
   "execution_count": 1,
   "id": "6210fdac",
   "metadata": {
    "ExecuteTime": {
     "end_time": "2022-05-28T08:24:27.270275Z",
     "start_time": "2022-05-28T08:24:20.672075Z"
    }
   },
   "outputs": [],
   "source": [
    "import pandas as pd\n",
    "import numpy as np\n",
    "import os\n",
    "from sklearn.preprocessing import LabelEncoder\n",
    "from sklearn.metrics import f1_score, classification_report\n",
    "import tensorflow.keras as keras\n",
    "import tensorflow as tf\n",
    "import matplotlib.pyplot as plt"
   ]
  },
  {
   "cell_type": "code",
   "execution_count": 233,
   "id": "152edbba",
   "metadata": {
    "ExecuteTime": {
     "end_time": "2022-05-28T09:53:48.088227Z",
     "start_time": "2022-05-28T09:53:48.070001Z"
    }
   },
   "outputs": [],
   "source": [
    "path=\"D:/Programmers/datasets/\"\n",
    "dataset0_train_path = \"D:/Programmers/datasets/dataset0/dataset0/train/\"\n",
    "dataset0_test_path = \"D:/Programmers/datasets/dataset0/dataset0/test/\"\n",
    "dataset1_train_path = \"D:/Programmers/datasets/dataset1/dataset1/train/\"\n",
    "dataset1_test_path = \"D:/Programmers/datasets/dataset1/dataset1/test/\"\n",
    "submission = pd.read_csv(\"D:/Programmers/submission_sample.csv\")"
   ]
  },
  {
   "cell_type": "code",
   "execution_count": 90,
   "id": "60b1655f",
   "metadata": {
    "ExecuteTime": {
     "end_time": "2022-05-28T08:47:54.951645Z",
     "start_time": "2022-05-28T08:47:54.937541Z"
    }
   },
   "outputs": [
    {
     "name": "stdout",
     "output_type": "stream",
     "text": [
      "['class0' 'class1' 'class11' 'class12' 'class13' 'class14' 'class15'\n",
      " 'class2' 'class3' 'class4' 'class5' 'class6' 'class7' 'class8' 'class9']\n",
      "['class0' 'class1' 'class10' 'class2' 'class3' 'class4' 'class5' 'class6'\n",
      " 'class7' 'class8' 'class9']\n"
     ]
    }
   ],
   "source": [
    "dataset0_classes = os.listdir(dataset0_train_path)\n",
    "dataset0_label_encoder = LabelEncoder()\n",
    "\n",
    "dataset0_label_encoder.fit(dataset0_classes)\n",
    "print(dataset0_label_encoder.classes_)\n",
    "\n",
    "dataset1_classes = os.listdir(dataset1_train_path)\n",
    "dataset1_label_encoder = LabelEncoder()\n",
    "\n",
    "dataset1_label_encoder.fit(dataset1_classes)\n",
    "print(dataset1_label_encoder.classes_)"
   ]
  },
  {
   "cell_type": "code",
   "execution_count": 200,
   "id": "82992a51",
   "metadata": {
    "ExecuteTime": {
     "end_time": "2022-05-28T09:24:18.063192Z",
     "start_time": "2022-05-28T09:24:18.045714Z"
    }
   },
   "outputs": [],
   "source": [
    "def create_dataset(dataset_dir):\n",
    "  X, y = [], []\n",
    "  labels = os.listdir(dataset_dir)\n",
    "  for label in labels:\n",
    "    file_list = os.listdir(dataset_dir + label + '/')\n",
    "    for f in file_list:\n",
    "      temp = pd.read_csv(dataset_dir + label + '/' + f)\n",
    "      X.append(tf.convert_to_tensor(temp))\n",
    "      y.append(label)\n",
    "  X = keras.preprocessing.sequence.pad_sequences(X, padding=\"post\")\n",
    "  return X, y"
   ]
  },
  {
   "cell_type": "code",
   "execution_count": 194,
   "id": "2bf32c77",
   "metadata": {
    "ExecuteTime": {
     "end_time": "2022-05-28T09:23:05.177485Z",
     "start_time": "2022-05-28T09:23:05.163841Z"
    }
   },
   "outputs": [],
   "source": [
    "#       X.append(temp.to_numpy().reshape(6, -1))"
   ]
  },
  {
   "cell_type": "code",
   "execution_count": 201,
   "id": "fc474bbf",
   "metadata": {
    "ExecuteTime": {
     "end_time": "2022-05-28T09:25:08.737569Z",
     "start_time": "2022-05-28T09:24:20.270543Z"
    }
   },
   "outputs": [],
   "source": [
    "dataset0_X_train, dataset0_y_train = create_dataset(dataset0_train_path)\n",
    "dataset0_y_train = dataset0_label_encoder.transform(dataset0_y_train)\n",
    "\n",
    "dataset0_X_test, dataset0_y_test = create_dataset(dataset0_test_path)\n",
    "dataset0_y_test = dataset0_label_encoder.transform(dataset0_y_test)"
   ]
  },
  {
   "cell_type": "code",
   "execution_count": 293,
   "id": "366781fb",
   "metadata": {
    "ExecuteTime": {
     "end_time": "2022-05-28T11:35:28.690912Z",
     "start_time": "2022-05-28T11:35:10.484333Z"
    }
   },
   "outputs": [],
   "source": [
    "dataset1_X_train, dataset1_y_train = create_dataset(dataset1_train_path)\n",
    "dataset1_y_train = dataset1_label_encoder.transform(dataset1_y_train)"
   ]
  },
  {
   "cell_type": "code",
   "execution_count": 203,
   "id": "08f9ce6e",
   "metadata": {
    "ExecuteTime": {
     "end_time": "2022-05-28T09:25:24.259624Z",
     "start_time": "2022-05-28T09:25:24.249653Z"
    }
   },
   "outputs": [],
   "source": [
    "# X_train = np.array(dataset0_X_train)\n",
    "# y_train = np.array(dataset0_y_train)\n",
    "# X_valid = np.array(dataset0_X_test)\n",
    "# y_valid = np.array(dataset0_y_test)"
   ]
  },
  {
   "cell_type": "code",
   "execution_count": 207,
   "id": "b5242276",
   "metadata": {
    "ExecuteTime": {
     "end_time": "2022-05-28T09:26:21.491825Z",
     "start_time": "2022-05-28T09:26:21.033673Z"
    }
   },
   "outputs": [],
   "source": [
    "dataset1_test_X = []\n",
    "test_list = os.listdir(dataset1_test_path)\n",
    "for f in test_list:\n",
    "  temp = pd.read_csv(dataset1_test_path + f)\n",
    "  dataset1_test_X.append(tf.convert_to_tensor(temp))\n",
    "dataset1_test_X = keras.preprocessing.sequence.pad_sequences(dataset1_test_X, padding=\"post\")"
   ]
  },
  {
   "cell_type": "markdown",
   "id": "6c4835ec",
   "metadata": {},
   "source": [
    "# Make model"
   ]
  },
  {
   "cell_type": "code",
   "execution_count": 220,
   "id": "afee86b6",
   "metadata": {
    "ExecuteTime": {
     "end_time": "2022-05-28T09:30:17.978661Z",
     "start_time": "2022-05-28T09:30:17.956918Z"
    }
   },
   "outputs": [
    {
     "data": {
      "text/plain": [
       "{0, 1, 2, 3, 4, 5, 6, 7, 8, 9, 10, 11, 12, 13, 14}"
      ]
     },
     "execution_count": 220,
     "metadata": {},
     "output_type": "execute_result"
    }
   ],
   "source": [
    "set(dataset0_y_train)"
   ]
  },
  {
   "cell_type": "code",
   "execution_count": 230,
   "id": "4b9440de",
   "metadata": {
    "ExecuteTime": {
     "end_time": "2022-05-28T09:52:56.128010Z",
     "start_time": "2022-05-28T09:50:03.144654Z"
    }
   },
   "outputs": [
    {
     "name": "stdout",
     "output_type": "stream",
     "text": [
      "Epoch 1/10\n",
      "437/437 [==============================] - 20s 40ms/step - loss: 1.8052 - accuracy: 0.4046 - val_loss: 1.6583 - val_accuracy: 0.4272\n",
      "Epoch 2/10\n",
      "437/437 [==============================] - 17s 38ms/step - loss: 1.4285 - accuracy: 0.5144 - val_loss: 1.4842 - val_accuracy: 0.4705\n",
      "Epoch 3/10\n",
      "437/437 [==============================] - 17s 38ms/step - loss: 1.3361 - accuracy: 0.5497 - val_loss: 1.4770 - val_accuracy: 0.5168\n",
      "Epoch 4/10\n",
      "437/437 [==============================] - 17s 38ms/step - loss: 1.4760 - accuracy: 0.5030 - val_loss: 1.6060 - val_accuracy: 0.4595\n",
      "Epoch 5/10\n",
      "437/437 [==============================] - 17s 38ms/step - loss: 1.3622 - accuracy: 0.5485 - val_loss: 1.4225 - val_accuracy: 0.5200\n",
      "Epoch 6/10\n",
      "437/437 [==============================] - 17s 38ms/step - loss: 1.2627 - accuracy: 0.5671 - val_loss: 1.3919 - val_accuracy: 0.5286\n",
      "Epoch 7/10\n",
      "437/437 [==============================] - 17s 39ms/step - loss: 1.1830 - accuracy: 0.5980 - val_loss: 1.4001 - val_accuracy: 0.5603\n",
      "Epoch 8/10\n",
      "437/437 [==============================] - 17s 39ms/step - loss: 1.0463 - accuracy: 0.6501 - val_loss: 1.1375 - val_accuracy: 0.6027\n",
      "Epoch 9/10\n",
      "437/437 [==============================] - 17s 39ms/step - loss: 0.9537 - accuracy: 0.6657 - val_loss: 1.1252 - val_accuracy: 0.6125\n",
      "Epoch 10/10\n",
      "437/437 [==============================] - 17s 38ms/step - loss: 0.9458 - accuracy: 0.6750 - val_loss: 1.0786 - val_accuracy: 0.6411\n"
     ]
    },
    {
     "data": {
      "text/plain": [
       "<keras.callbacks.History at 0x203335b86d0>"
      ]
     },
     "execution_count": 230,
     "metadata": {},
     "output_type": "execute_result"
    }
   ],
   "source": [
    "Input = keras.Input(shape=[None, 6])\n",
    "x = keras.layers.LSTM(20, return_sequences=True)(Input)\n",
    "x = keras.layers.LSTM(20)(x)\n",
    "output = keras.layers.Dense(15, activation=\"softmax\")(x)\n",
    "\n",
    "model = keras.Model(inputs = Input, outputs=output)\n",
    "model.compile(loss=\"sparse_categorical_crossentropy\", metrics=[\"accuracy\"], optimizer=\"adam\")\n",
    "model.fit(dataset0_X_train, dataset0_y_train, validation_data=(dataset0_X_test, dataset0_y_test), epochs=10)"
   ]
  },
  {
   "cell_type": "code",
   "execution_count": 258,
   "id": "6122969f",
   "metadata": {
    "ExecuteTime": {
     "end_time": "2022-05-28T10:02:15.778932Z",
     "start_time": "2022-05-28T10:02:15.616389Z"
    }
   },
   "outputs": [],
   "source": [
    "submission[\"label\"] = dataset0_label_encoder.inverse_transform(np.argmax(model.predict(dataset1_test_X), axis=-1))\n",
    "submission.to_csv(\"./base.csv\", index=None)"
   ]
  },
  {
   "cell_type": "markdown",
   "id": "b109fda2",
   "metadata": {},
   "source": [
    "데이터 전처리, 라벨값 변환, 모델 출력까지의 과정을 거쳐 제출 결과: 4.59\n",
    "이후 추가적인 모델 튜닝 진행"
   ]
  },
  {
   "cell_type": "markdown",
   "id": "3e330617",
   "metadata": {},
   "source": [
    "# Model Tuning"
   ]
  },
  {
   "cell_type": "code",
   "execution_count": 275,
   "id": "c6195731",
   "metadata": {
    "ExecuteTime": {
     "end_time": "2022-05-28T10:42:09.797607Z",
     "start_time": "2022-05-28T10:42:09.787633Z"
    }
   },
   "outputs": [],
   "source": [
    "def make_model(iter = 0,node= 0):\n",
    "    Input = keras.Input(shape=[None, 6])\n",
    "    for _ in range(iter):\n",
    "        x = keras.layers.LSTM(node, return_sequences=True)(Input)\n",
    "    if iter==0:\n",
    "        x = keras.layers.LSTM(node)(Input)\n",
    "    else:\n",
    "        x = keras.layers.LSTM(node)(x)\n",
    "    output = keras.layers.Dense(15, activation=\"softmax\")(x)\n",
    "\n",
    "    model = keras.Model(inputs = Input, outputs=output)\n",
    "    model.compile(loss=\"sparse_categorical_crossentropy\", metrics=[\"accuracy\"], optimizer=\"adam\")\n",
    "    return model"
   ]
  },
  {
   "cell_type": "code",
   "execution_count": 276,
   "id": "2dc8e0f4",
   "metadata": {
    "ExecuteTime": {
     "end_time": "2022-05-28T10:42:09.987468Z",
     "start_time": "2022-05-28T10:42:09.971836Z"
    }
   },
   "outputs": [],
   "source": [
    "es = keras.callbacks.EarlyStopping(monitor=\"val_loss\", mode=\"min\", patience=5)"
   ]
  },
  {
   "cell_type": "code",
   "execution_count": 277,
   "id": "a38f3d12",
   "metadata": {
    "ExecuteTime": {
     "end_time": "2022-05-28T11:17:27.204542Z",
     "start_time": "2022-05-28T10:42:10.156316Z"
    }
   },
   "outputs": [
    {
     "name": "stdout",
     "output_type": "stream",
     "text": [
      "Epoch 1/30\n",
      "437/437 [==============================] - 11s 22ms/step - loss: 2.2134 - accuracy: 0.2818 - val_loss: 1.9519 - val_accuracy: 0.3776\n",
      "Epoch 2/30\n",
      "437/437 [==============================] - 9s 21ms/step - loss: 1.7711 - accuracy: 0.4443 - val_loss: 1.6191 - val_accuracy: 0.5005\n",
      "Epoch 3/30\n",
      "437/437 [==============================] - 9s 21ms/step - loss: 1.4451 - accuracy: 0.5648 - val_loss: 1.3909 - val_accuracy: 0.5741\n",
      "Epoch 4/30\n",
      "437/437 [==============================] - 9s 21ms/step - loss: 1.2916 - accuracy: 0.6050 - val_loss: 1.3120 - val_accuracy: 0.5882\n",
      "Epoch 5/30\n",
      "437/437 [==============================] - 9s 22ms/step - loss: 1.2084 - accuracy: 0.6165 - val_loss: 1.2616 - val_accuracy: 0.5808\n",
      "Epoch 6/30\n",
      "437/437 [==============================] - 10s 22ms/step - loss: 1.1376 - accuracy: 0.6228 - val_loss: 1.2710 - val_accuracy: 0.5739\n",
      "Epoch 7/30\n",
      "437/437 [==============================] - 10s 22ms/step - loss: 1.0695 - accuracy: 0.6394 - val_loss: 1.1722 - val_accuracy: 0.5968\n",
      "Epoch 8/30\n",
      "437/437 [==============================] - 10s 23ms/step - loss: 1.0177 - accuracy: 0.6522 - val_loss: 1.1745 - val_accuracy: 0.6013\n",
      "Epoch 9/30\n",
      "437/437 [==============================] - 10s 23ms/step - loss: 0.9726 - accuracy: 0.6644 - val_loss: 1.1693 - val_accuracy: 0.5996\n",
      "Epoch 10/30\n",
      "437/437 [==============================] - 10s 22ms/step - loss: 0.9508 - accuracy: 0.6694 - val_loss: 1.1573 - val_accuracy: 0.6083\n",
      "Epoch 11/30\n",
      "437/437 [==============================] - 10s 23ms/step - loss: 0.9363 - accuracy: 0.6778 - val_loss: 1.1439 - val_accuracy: 0.6106\n",
      "Epoch 12/30\n",
      "437/437 [==============================] - 10s 23ms/step - loss: 0.9274 - accuracy: 0.6817 - val_loss: 1.1093 - val_accuracy: 0.6348\n",
      "Epoch 13/30\n",
      "437/437 [==============================] - 10s 23ms/step - loss: 0.9004 - accuracy: 0.6913 - val_loss: 1.1376 - val_accuracy: 0.6258\n",
      "Epoch 14/30\n",
      "437/437 [==============================] - 10s 22ms/step - loss: 0.8773 - accuracy: 0.7004 - val_loss: 1.1299 - val_accuracy: 0.6298\n",
      "Epoch 15/30\n",
      "437/437 [==============================] - 10s 22ms/step - loss: 0.8567 - accuracy: 0.7037 - val_loss: 1.1270 - val_accuracy: 0.6278\n",
      "Epoch 16/30\n",
      "437/437 [==============================] - 10s 23ms/step - loss: 0.8509 - accuracy: 0.7036 - val_loss: 1.1345 - val_accuracy: 0.6265\n",
      "Epoch 17/30\n",
      "437/437 [==============================] - 10s 22ms/step - loss: 0.8239 - accuracy: 0.7087 - val_loss: 1.1067 - val_accuracy: 0.6304\n",
      "Epoch 18/30\n",
      "437/437 [==============================] - 10s 22ms/step - loss: 0.8169 - accuracy: 0.7108 - val_loss: 1.1431 - val_accuracy: 0.6208\n",
      "Epoch 19/30\n",
      "437/437 [==============================] - 10s 22ms/step - loss: 0.8209 - accuracy: 0.7093 - val_loss: 1.0660 - val_accuracy: 0.6476\n",
      "Epoch 20/30\n",
      "437/437 [==============================] - 10s 22ms/step - loss: 0.8578 - accuracy: 0.7013 - val_loss: 1.1624 - val_accuracy: 0.6156\n",
      "Epoch 21/30\n",
      "437/437 [==============================] - 10s 23ms/step - loss: 0.8249 - accuracy: 0.7126 - val_loss: 1.1296 - val_accuracy: 0.6305\n",
      "Epoch 22/30\n",
      "437/437 [==============================] - 10s 22ms/step - loss: 0.8099 - accuracy: 0.7160 - val_loss: 1.1515 - val_accuracy: 0.6323\n",
      "Epoch 23/30\n",
      "437/437 [==============================] - 9s 22ms/step - loss: 0.7985 - accuracy: 0.7195 - val_loss: 1.1096 - val_accuracy: 0.6368\n",
      "Epoch 24/30\n",
      "437/437 [==============================] - 10s 22ms/step - loss: 0.7864 - accuracy: 0.7232 - val_loss: 1.0752 - val_accuracy: 0.6465\n",
      "Epoch 1/30\n",
      "437/437 [==============================] - 12s 23ms/step - loss: 1.9652 - accuracy: 0.3812 - val_loss: 1.7945 - val_accuracy: 0.4122\n",
      "Epoch 2/30\n",
      "437/437 [==============================] - 10s 22ms/step - loss: 1.5440 - accuracy: 0.5045 - val_loss: 1.5811 - val_accuracy: 0.4571\n",
      "Epoch 3/30\n",
      "437/437 [==============================] - 10s 22ms/step - loss: 1.3191 - accuracy: 0.5775 - val_loss: 1.4590 - val_accuracy: 0.5016\n",
      "Epoch 4/30\n",
      "437/437 [==============================] - 9s 22ms/step - loss: 1.1795 - accuracy: 0.6231 - val_loss: 1.2934 - val_accuracy: 0.5971\n",
      "Epoch 5/30\n",
      "437/437 [==============================] - 9s 22ms/step - loss: 1.0624 - accuracy: 0.6657 - val_loss: 1.2171 - val_accuracy: 0.6194\n",
      "Epoch 6/30\n",
      "437/437 [==============================] - 9s 22ms/step - loss: 0.9991 - accuracy: 0.6724 - val_loss: 1.1797 - val_accuracy: 0.6264\n",
      "Epoch 7/30\n",
      "437/437 [==============================] - 10s 22ms/step - loss: 0.9562 - accuracy: 0.6819 - val_loss: 1.1215 - val_accuracy: 0.6334\n",
      "Epoch 8/30\n",
      "437/437 [==============================] - 10s 22ms/step - loss: 0.9383 - accuracy: 0.6806 - val_loss: 1.1272 - val_accuracy: 0.6285\n",
      "Epoch 9/30\n",
      "437/437 [==============================] - 9s 22ms/step - loss: 0.9124 - accuracy: 0.6861 - val_loss: 1.0793 - val_accuracy: 0.6422\n",
      "Epoch 10/30\n",
      "437/437 [==============================] - 9s 22ms/step - loss: 0.8834 - accuracy: 0.6952 - val_loss: 1.0923 - val_accuracy: 0.6440\n",
      "Epoch 11/30\n",
      "437/437 [==============================] - 9s 22ms/step - loss: 0.8812 - accuracy: 0.6982 - val_loss: 1.1036 - val_accuracy: 0.6311\n",
      "Epoch 12/30\n",
      "437/437 [==============================] - 10s 22ms/step - loss: 0.8859 - accuracy: 0.6969 - val_loss: 1.0908 - val_accuracy: 0.6443\n",
      "Epoch 13/30\n",
      "437/437 [==============================] - 10s 22ms/step - loss: 0.8475 - accuracy: 0.7083 - val_loss: 1.0746 - val_accuracy: 0.6476\n",
      "Epoch 14/30\n",
      "437/437 [==============================] - 10s 22ms/step - loss: 0.8376 - accuracy: 0.7121 - val_loss: 1.0786 - val_accuracy: 0.6536\n",
      "Epoch 15/30\n",
      "437/437 [==============================] - 9s 22ms/step - loss: 0.8308 - accuracy: 0.7164 - val_loss: 1.0939 - val_accuracy: 0.6383\n",
      "Epoch 16/30\n",
      "437/437 [==============================] - 10s 22ms/step - loss: 0.8146 - accuracy: 0.7227 - val_loss: 1.0690 - val_accuracy: 0.6539\n",
      "Epoch 17/30\n",
      "437/437 [==============================] - 10s 22ms/step - loss: 0.8203 - accuracy: 0.7195 - val_loss: 1.1071 - val_accuracy: 0.6348\n",
      "Epoch 18/30\n",
      "437/437 [==============================] - 10s 23ms/step - loss: 0.8266 - accuracy: 0.7153 - val_loss: 1.0499 - val_accuracy: 0.6594\n",
      "Epoch 19/30\n",
      "437/437 [==============================] - 10s 22ms/step - loss: 0.8000 - accuracy: 0.7272 - val_loss: 1.0414 - val_accuracy: 0.6502\n",
      "Epoch 20/30\n",
      "437/437 [==============================] - 10s 22ms/step - loss: 0.7903 - accuracy: 0.7349 - val_loss: 1.0209 - val_accuracy: 0.6581\n",
      "Epoch 21/30\n",
      "437/437 [==============================] - 9s 22ms/step - loss: 0.7846 - accuracy: 0.7368 - val_loss: 1.0770 - val_accuracy: 0.6495\n",
      "Epoch 22/30\n",
      "437/437 [==============================] - 9s 22ms/step - loss: 0.7751 - accuracy: 0.7398 - val_loss: 0.9912 - val_accuracy: 0.6704\n",
      "Epoch 23/30\n",
      "437/437 [==============================] - 9s 22ms/step - loss: 0.7625 - accuracy: 0.7421 - val_loss: 1.0653 - val_accuracy: 0.6615\n",
      "Epoch 24/30\n",
      "437/437 [==============================] - 9s 22ms/step - loss: 0.7631 - accuracy: 0.7436 - val_loss: 1.0007 - val_accuracy: 0.6723\n",
      "Epoch 25/30\n",
      "437/437 [==============================] - 10s 22ms/step - loss: 0.7706 - accuracy: 0.7378 - val_loss: 1.0420 - val_accuracy: 0.6566\n",
      "Epoch 26/30\n",
      "437/437 [==============================] - 9s 22ms/step - loss: 0.7553 - accuracy: 0.7418 - val_loss: 0.9978 - val_accuracy: 0.6674\n",
      "Epoch 27/30\n",
      "437/437 [==============================] - 9s 22ms/step - loss: 0.7407 - accuracy: 0.7461 - val_loss: 1.0088 - val_accuracy: 0.6701\n",
      "Epoch 1/30\n",
      "437/437 [==============================] - 12s 24ms/step - loss: 1.9155 - accuracy: 0.3727 - val_loss: 1.6607 - val_accuracy: 0.4598\n",
      "Epoch 2/30\n",
      "437/437 [==============================] - 10s 22ms/step - loss: 1.4604 - accuracy: 0.5318 - val_loss: 1.4857 - val_accuracy: 0.4973\n",
      "Epoch 3/30\n",
      "437/437 [==============================] - 10s 22ms/step - loss: 1.2545 - accuracy: 0.5921 - val_loss: 1.3973 - val_accuracy: 0.5386\n",
      "Epoch 4/30\n",
      "437/437 [==============================] - 10s 23ms/step - loss: 1.1600 - accuracy: 0.6194 - val_loss: 1.3280 - val_accuracy: 0.5578\n",
      "Epoch 5/30\n",
      "437/437 [==============================] - 10s 23ms/step - loss: 1.1081 - accuracy: 0.6444 - val_loss: 1.2944 - val_accuracy: 0.5811\n",
      "Epoch 6/30\n"
     ]
    },
    {
     "name": "stdout",
     "output_type": "stream",
     "text": [
      "437/437 [==============================] - 10s 22ms/step - loss: 1.0780 - accuracy: 0.6462 - val_loss: 1.2566 - val_accuracy: 0.5822\n",
      "Epoch 7/30\n",
      "437/437 [==============================] - 10s 23ms/step - loss: 1.0275 - accuracy: 0.6558 - val_loss: 1.2348 - val_accuracy: 0.5864\n",
      "Epoch 8/30\n",
      "437/437 [==============================] - 10s 22ms/step - loss: 1.0160 - accuracy: 0.6589 - val_loss: 1.2308 - val_accuracy: 0.5872\n",
      "Epoch 9/30\n",
      "437/437 [==============================] - 10s 22ms/step - loss: 1.0033 - accuracy: 0.6644 - val_loss: 1.1635 - val_accuracy: 0.6110\n",
      "Epoch 10/30\n",
      "437/437 [==============================] - 10s 22ms/step - loss: 0.9792 - accuracy: 0.6656 - val_loss: 1.1961 - val_accuracy: 0.6089\n",
      "Epoch 11/30\n",
      "437/437 [==============================] - 10s 22ms/step - loss: 0.9496 - accuracy: 0.6795 - val_loss: 1.1397 - val_accuracy: 0.6159\n",
      "Epoch 12/30\n",
      "437/437 [==============================] - 10s 22ms/step - loss: 0.9416 - accuracy: 0.6849 - val_loss: 1.1250 - val_accuracy: 0.6168\n",
      "Epoch 13/30\n",
      "437/437 [==============================] - 10s 22ms/step - loss: 0.9247 - accuracy: 0.6864 - val_loss: 1.1408 - val_accuracy: 0.6077\n",
      "Epoch 14/30\n",
      "437/437 [==============================] - 10s 22ms/step - loss: 0.9777 - accuracy: 0.6691 - val_loss: 1.1720 - val_accuracy: 0.6139\n",
      "Epoch 15/30\n",
      "437/437 [==============================] - 10s 23ms/step - loss: 0.9658 - accuracy: 0.6689 - val_loss: 1.1480 - val_accuracy: 0.6130\n",
      "Epoch 16/30\n",
      "437/437 [==============================] - 10s 22ms/step - loss: 0.9328 - accuracy: 0.6787 - val_loss: 1.2021 - val_accuracy: 0.6011\n",
      "Epoch 17/30\n",
      "437/437 [==============================] - 10s 22ms/step - loss: 0.9275 - accuracy: 0.6787 - val_loss: 1.1118 - val_accuracy: 0.6242\n",
      "Epoch 18/30\n",
      "437/437 [==============================] - 10s 22ms/step - loss: 0.9057 - accuracy: 0.6852 - val_loss: 1.1262 - val_accuracy: 0.6254\n",
      "Epoch 19/30\n",
      "437/437 [==============================] - 10s 22ms/step - loss: 0.8958 - accuracy: 0.6871 - val_loss: 1.1658 - val_accuracy: 0.6044\n",
      "Epoch 20/30\n",
      "437/437 [==============================] - 10s 22ms/step - loss: 0.8794 - accuracy: 0.7019 - val_loss: 1.1867 - val_accuracy: 0.6006\n",
      "Epoch 21/30\n",
      "437/437 [==============================] - 10s 22ms/step - loss: 0.8671 - accuracy: 0.7014 - val_loss: 1.1431 - val_accuracy: 0.6067\n",
      "Epoch 22/30\n",
      "437/437 [==============================] - 10s 22ms/step - loss: 0.8507 - accuracy: 0.7056 - val_loss: 1.1536 - val_accuracy: 0.6022\n",
      "Epoch 1/30\n",
      "437/437 [==============================] - 23s 44ms/step - loss: 2.0961 - accuracy: 0.2886 - val_loss: 1.8733 - val_accuracy: 0.3677\n",
      "Epoch 2/30\n",
      "437/437 [==============================] - 18s 40ms/step - loss: 1.6603 - accuracy: 0.4452 - val_loss: 1.6222 - val_accuracy: 0.4370\n",
      "Epoch 3/30\n",
      "437/437 [==============================] - 18s 41ms/step - loss: 1.4511 - accuracy: 0.5243 - val_loss: 1.4682 - val_accuracy: 0.5267\n",
      "Epoch 4/30\n",
      "437/437 [==============================] - 18s 40ms/step - loss: 1.3122 - accuracy: 0.5714 - val_loss: 1.4633 - val_accuracy: 0.5382\n",
      "Epoch 5/30\n",
      "437/437 [==============================] - 17s 40ms/step - loss: 1.2034 - accuracy: 0.6143 - val_loss: 1.3564 - val_accuracy: 0.5718\n",
      "Epoch 6/30\n",
      "437/437 [==============================] - 18s 40ms/step - loss: 1.1258 - accuracy: 0.6447 - val_loss: 1.2741 - val_accuracy: 0.5977\n",
      "Epoch 7/30\n",
      "437/437 [==============================] - 17s 40ms/step - loss: 1.1739 - accuracy: 0.6317 - val_loss: 1.2751 - val_accuracy: 0.5931\n",
      "Epoch 8/30\n",
      "437/437 [==============================] - 17s 40ms/step - loss: 1.1275 - accuracy: 0.6399 - val_loss: 1.2852 - val_accuracy: 0.5991\n",
      "Epoch 9/30\n",
      "437/437 [==============================] - 18s 41ms/step - loss: 1.0923 - accuracy: 0.6499 - val_loss: 1.3327 - val_accuracy: 0.5878\n",
      "Epoch 10/30\n",
      "437/437 [==============================] - 18s 40ms/step - loss: 1.0770 - accuracy: 0.6509 - val_loss: 1.2835 - val_accuracy: 0.5944\n",
      "Epoch 11/30\n",
      "437/437 [==============================] - 17s 40ms/step - loss: 1.1151 - accuracy: 0.6319 - val_loss: 1.2150 - val_accuracy: 0.5953\n",
      "Epoch 12/30\n",
      "437/437 [==============================] - 18s 40ms/step - loss: 1.1071 - accuracy: 0.6290 - val_loss: 1.3363 - val_accuracy: 0.5310\n",
      "Epoch 13/30\n",
      "437/437 [==============================] - 17s 40ms/step - loss: 1.0586 - accuracy: 0.6418 - val_loss: 1.1939 - val_accuracy: 0.6129\n",
      "Epoch 14/30\n",
      "437/437 [==============================] - 18s 40ms/step - loss: 1.0379 - accuracy: 0.6525 - val_loss: 1.3399 - val_accuracy: 0.5947\n",
      "Epoch 15/30\n",
      "437/437 [==============================] - 17s 40ms/step - loss: 1.1060 - accuracy: 0.6449 - val_loss: 1.3037 - val_accuracy: 0.5695\n",
      "Epoch 16/30\n",
      "437/437 [==============================] - 17s 40ms/step - loss: 1.9894 - accuracy: 0.4268 - val_loss: 2.2272 - val_accuracy: 0.3713\n",
      "Epoch 17/30\n",
      "437/437 [==============================] - 17s 40ms/step - loss: 1.6868 - accuracy: 0.4734 - val_loss: 1.5951 - val_accuracy: 0.5039\n",
      "Epoch 18/30\n",
      "437/437 [==============================] - 18s 40ms/step - loss: 1.4119 - accuracy: 0.5419 - val_loss: 1.5963 - val_accuracy: 0.5227\n",
      "Epoch 1/30\n",
      "437/437 [==============================] - 21s 42ms/step - loss: 1.8532 - accuracy: 0.4018 - val_loss: 1.6203 - val_accuracy: 0.5052\n",
      "Epoch 2/30\n",
      "437/437 [==============================] - 18s 40ms/step - loss: 1.3374 - accuracy: 0.5849 - val_loss: 1.3420 - val_accuracy: 0.5778\n",
      "Epoch 3/30\n",
      "437/437 [==============================] - 17s 40ms/step - loss: 1.1645 - accuracy: 0.6201 - val_loss: 1.3107 - val_accuracy: 0.5613\n",
      "Epoch 4/30\n",
      "437/437 [==============================] - 17s 40ms/step - loss: 1.1340 - accuracy: 0.6424 - val_loss: 1.2273 - val_accuracy: 0.6032\n",
      "Epoch 5/30\n",
      "437/437 [==============================] - 18s 41ms/step - loss: 1.0112 - accuracy: 0.6609 - val_loss: 1.2184 - val_accuracy: 0.6040\n",
      "Epoch 6/30\n",
      "437/437 [==============================] - 18s 40ms/step - loss: 0.9570 - accuracy: 0.6796 - val_loss: 1.1958 - val_accuracy: 0.5937\n",
      "Epoch 7/30\n",
      "437/437 [==============================] - 18s 40ms/step - loss: 0.9390 - accuracy: 0.6805 - val_loss: 1.1065 - val_accuracy: 0.6308\n",
      "Epoch 8/30\n",
      "437/437 [==============================] - 17s 40ms/step - loss: 0.9281 - accuracy: 0.6845 - val_loss: 1.0600 - val_accuracy: 0.6493\n",
      "Epoch 9/30\n",
      "437/437 [==============================] - 18s 40ms/step - loss: 0.8386 - accuracy: 0.7064 - val_loss: 1.0460 - val_accuracy: 0.6505\n",
      "Epoch 10/30\n",
      "437/437 [==============================] - 18s 40ms/step - loss: 0.8396 - accuracy: 0.7047 - val_loss: 1.0405 - val_accuracy: 0.6469\n",
      "Epoch 11/30\n",
      "437/437 [==============================] - 18s 40ms/step - loss: 0.7874 - accuracy: 0.7188 - val_loss: 0.9921 - val_accuracy: 0.6750\n",
      "Epoch 12/30\n",
      "437/437 [==============================] - 17s 40ms/step - loss: 0.7834 - accuracy: 0.7256 - val_loss: 1.0426 - val_accuracy: 0.6694\n",
      "Epoch 13/30\n",
      "437/437 [==============================] - 17s 40ms/step - loss: 0.8019 - accuracy: 0.7229 - val_loss: 1.0370 - val_accuracy: 0.6743\n",
      "Epoch 14/30\n",
      "437/437 [==============================] - 17s 40ms/step - loss: 0.7377 - accuracy: 0.7416 - val_loss: 1.0225 - val_accuracy: 0.6778\n",
      "Epoch 15/30\n",
      "437/437 [==============================] - 17s 40ms/step - loss: 0.7789 - accuracy: 0.7302 - val_loss: 1.0479 - val_accuracy: 0.6584\n",
      "Epoch 16/30\n",
      "437/437 [==============================] - 18s 40ms/step - loss: 0.7204 - accuracy: 0.7472 - val_loss: 1.0111 - val_accuracy: 0.6714\n",
      "Epoch 1/30\n",
      "437/437 [==============================] - 21s 41ms/step - loss: 1.9191 - accuracy: 0.3393 - val_loss: 1.7739 - val_accuracy: 0.3795\n",
      "Epoch 2/30\n",
      "437/437 [==============================] - 17s 40ms/step - loss: 1.5696 - accuracy: 0.4631 - val_loss: 1.4887 - val_accuracy: 0.4718\n",
      "Epoch 3/30\n",
      "437/437 [==============================] - 17s 40ms/step - loss: 1.3103 - accuracy: 0.5615 - val_loss: 1.4486 - val_accuracy: 0.4756\n",
      "Epoch 4/30\n",
      "437/437 [==============================] - 17s 40ms/step - loss: 1.1975 - accuracy: 0.5977 - val_loss: 1.2355 - val_accuracy: 0.5907\n",
      "Epoch 5/30\n",
      "437/437 [==============================] - 17s 39ms/step - loss: 1.2248 - accuracy: 0.5987 - val_loss: 1.2200 - val_accuracy: 0.5915\n",
      "Epoch 6/30\n",
      "437/437 [==============================] - 17s 39ms/step - loss: 1.1571 - accuracy: 0.6076 - val_loss: 1.2686 - val_accuracy: 0.5773\n"
     ]
    },
    {
     "name": "stdout",
     "output_type": "stream",
     "text": [
      "Epoch 7/30\n",
      "437/437 [==============================] - 17s 39ms/step - loss: 1.1204 - accuracy: 0.6334 - val_loss: 1.3151 - val_accuracy: 0.5849\n",
      "Epoch 8/30\n",
      "437/437 [==============================] - 17s 39ms/step - loss: 1.0660 - accuracy: 0.6459 - val_loss: 1.2993 - val_accuracy: 0.5786\n",
      "Epoch 9/30\n",
      "437/437 [==============================] - 17s 39ms/step - loss: 1.1807 - accuracy: 0.6089 - val_loss: 1.4975 - val_accuracy: 0.5108\n",
      "Epoch 10/30\n",
      "437/437 [==============================] - 17s 39ms/step - loss: 1.2099 - accuracy: 0.5727 - val_loss: 1.4078 - val_accuracy: 0.4949\n",
      "Epoch 1/30\n",
      "437/437 [==============================] - 21s 42ms/step - loss: 2.0649 - accuracy: 0.3351 - val_loss: 1.8200 - val_accuracy: 0.4052\n",
      "Epoch 2/30\n",
      "437/437 [==============================] - 17s 40ms/step - loss: 1.5639 - accuracy: 0.5216 - val_loss: 1.6589 - val_accuracy: 0.4651\n",
      "Epoch 3/30\n",
      "437/437 [==============================] - 18s 40ms/step - loss: 1.3677 - accuracy: 0.5900 - val_loss: 1.4483 - val_accuracy: 0.5482\n",
      "Epoch 4/30\n",
      "437/437 [==============================] - 18s 40ms/step - loss: 1.2479 - accuracy: 0.6124 - val_loss: 1.3357 - val_accuracy: 0.5762\n",
      "Epoch 5/30\n",
      "437/437 [==============================] - 18s 40ms/step - loss: 1.1764 - accuracy: 0.6184 - val_loss: 1.3498 - val_accuracy: 0.5563\n",
      "Epoch 6/30\n",
      "437/437 [==============================] - 18s 40ms/step - loss: 1.2255 - accuracy: 0.5844 - val_loss: 1.3746 - val_accuracy: 0.5037\n",
      "Epoch 7/30\n",
      "437/437 [==============================] - 17s 40ms/step - loss: 1.3107 - accuracy: 0.5577 - val_loss: 1.4485 - val_accuracy: 0.5220\n",
      "Epoch 8/30\n",
      "437/437 [==============================] - 17s 40ms/step - loss: 1.1686 - accuracy: 0.5916 - val_loss: 1.3471 - val_accuracy: 0.5232\n",
      "Epoch 9/30\n",
      "437/437 [==============================] - 18s 40ms/step - loss: 1.2269 - accuracy: 0.5605 - val_loss: 1.4495 - val_accuracy: 0.5113\n",
      "Epoch 1/30\n",
      "437/437 [==============================] - 21s 42ms/step - loss: 1.8958 - accuracy: 0.3828 - val_loss: 1.7869 - val_accuracy: 0.4393\n",
      "Epoch 2/30\n",
      "437/437 [==============================] - 18s 40ms/step - loss: 1.4795 - accuracy: 0.5105 - val_loss: 1.4527 - val_accuracy: 0.5156\n",
      "Epoch 3/30\n",
      "437/437 [==============================] - 18s 40ms/step - loss: 1.3133 - accuracy: 0.5605 - val_loss: 1.3514 - val_accuracy: 0.5576\n",
      "Epoch 4/30\n",
      "437/437 [==============================] - 18s 40ms/step - loss: 1.2641 - accuracy: 0.5601 - val_loss: 1.3779 - val_accuracy: 0.5128\n",
      "Epoch 5/30\n",
      "437/437 [==============================] - 17s 40ms/step - loss: 1.1603 - accuracy: 0.5869 - val_loss: 1.2877 - val_accuracy: 0.5736\n",
      "Epoch 6/30\n",
      "437/437 [==============================] - 17s 40ms/step - loss: 1.2076 - accuracy: 0.6026 - val_loss: 1.2849 - val_accuracy: 0.5622\n",
      "Epoch 7/30\n",
      "437/437 [==============================] - 17s 40ms/step - loss: 1.1346 - accuracy: 0.6137 - val_loss: 1.5062 - val_accuracy: 0.5062\n",
      "Epoch 8/30\n",
      "437/437 [==============================] - 17s 40ms/step - loss: 1.2702 - accuracy: 0.5715 - val_loss: 1.3553 - val_accuracy: 0.5379\n",
      "Epoch 9/30\n",
      "437/437 [==============================] - 17s 40ms/step - loss: 1.1922 - accuracy: 0.6022 - val_loss: 1.2987 - val_accuracy: 0.5510\n",
      "Epoch 10/30\n",
      "437/437 [==============================] - 17s 40ms/step - loss: 1.1680 - accuracy: 0.6106 - val_loss: 1.2466 - val_accuracy: 0.5696\n",
      "Epoch 11/30\n",
      "437/437 [==============================] - 17s 40ms/step - loss: 1.1179 - accuracy: 0.6209 - val_loss: 1.2161 - val_accuracy: 0.5854\n",
      "Epoch 12/30\n",
      "437/437 [==============================] - 17s 40ms/step - loss: 1.0160 - accuracy: 0.6492 - val_loss: 1.3536 - val_accuracy: 0.5508\n",
      "Epoch 13/30\n",
      "437/437 [==============================] - 17s 40ms/step - loss: 1.1915 - accuracy: 0.5914 - val_loss: 1.3279 - val_accuracy: 0.5451\n",
      "Epoch 14/30\n",
      "437/437 [==============================] - 17s 40ms/step - loss: 1.3845 - accuracy: 0.5559 - val_loss: 1.4261 - val_accuracy: 0.5293\n",
      "Epoch 15/30\n",
      "437/437 [==============================] - 17s 40ms/step - loss: 1.2178 - accuracy: 0.5964 - val_loss: 1.5625 - val_accuracy: 0.5297\n",
      "Epoch 16/30\n",
      "437/437 [==============================] - 18s 40ms/step - loss: 1.1253 - accuracy: 0.6178 - val_loss: 1.2770 - val_accuracy: 0.5660\n",
      "Epoch 1/30\n",
      "437/437 [==============================] - 21s 42ms/step - loss: 1.8515 - accuracy: 0.3950 - val_loss: 1.6488 - val_accuracy: 0.4903\n",
      "Epoch 2/30\n",
      "437/437 [==============================] - 17s 40ms/step - loss: 1.4046 - accuracy: 0.5610 - val_loss: 1.4359 - val_accuracy: 0.5409\n",
      "Epoch 3/30\n",
      "437/437 [==============================] - 17s 39ms/step - loss: 1.2606 - accuracy: 0.6101 - val_loss: 1.4130 - val_accuracy: 0.5692\n",
      "Epoch 4/30\n",
      "437/437 [==============================] - 17s 39ms/step - loss: 1.1380 - accuracy: 0.6399 - val_loss: 1.2583 - val_accuracy: 0.5993\n",
      "Epoch 5/30\n",
      "437/437 [==============================] - 17s 39ms/step - loss: 1.0482 - accuracy: 0.6688 - val_loss: 1.1774 - val_accuracy: 0.6195\n",
      "Epoch 6/30\n",
      "437/437 [==============================] - 17s 39ms/step - loss: 1.0664 - accuracy: 0.6728 - val_loss: 1.3452 - val_accuracy: 0.6202\n",
      "Epoch 7/30\n",
      "437/437 [==============================] - 17s 40ms/step - loss: 1.0368 - accuracy: 0.6823 - val_loss: 1.3150 - val_accuracy: 0.6075\n",
      "Epoch 8/30\n",
      "437/437 [==============================] - 17s 40ms/step - loss: 1.0068 - accuracy: 0.6815 - val_loss: 1.2576 - val_accuracy: 0.6166\n",
      "Epoch 9/30\n",
      "437/437 [==============================] - 17s 40ms/step - loss: 1.0282 - accuracy: 0.6659 - val_loss: 1.2633 - val_accuracy: 0.6148\n",
      "Epoch 10/30\n",
      "437/437 [==============================] - 17s 40ms/step - loss: 0.9715 - accuracy: 0.6896 - val_loss: 1.4420 - val_accuracy: 0.6087\n"
     ]
    }
   ],
   "source": [
    "hist_list=[]\n",
    "name_list=[]\n",
    "for i in [0, 1, 2]:\n",
    "    for j in [10, 15, 20]:\n",
    "        model = make_model(i, j)\n",
    "        hist_list.append(model.fit(dataset0_X_train, dataset0_y_train,\n",
    "                                   validation_data=(dataset0_X_test, dataset0_y_test), epochs=30, callbacks=[es]))\n",
    "        name_list.append([i, j])"
   ]
  },
  {
   "cell_type": "code",
   "execution_count": 280,
   "id": "aac5176b",
   "metadata": {
    "ExecuteTime": {
     "end_time": "2022-05-28T11:19:07.079853Z",
     "start_time": "2022-05-28T11:19:06.292645Z"
    }
   },
   "outputs": [
    {
     "data": {
      "image/png": "[encoded data removed]",
      "text/plain": [
       "<Figure size 1440x1008 with 9 Axes>"
      ]
     },
     "metadata": {
      "needs_background": "light"
     },
     "output_type": "display_data"
    }
   ],
   "source": [
    "fig = plt.figure(figsize=(20, 14))\n",
    "for i in range(1, 10):\n",
    "    ax = plt.subplot(3, 3, i)\n",
    "#     plt.ylim(0.5, 0.8)\n",
    "    plt.plot(hist_list[i-1].history[\"accuracy\"], label=\"Train\")    \n",
    "    plt.plot(hist_list[i-1].history[\"val_accuracy\"], label=\"Valid\")\n",
    "    plt.title(name_list[i-1])\n",
    "    plt.legend()"
   ]
  },
  {
   "cell_type": "code",
   "execution_count": 281,
   "id": "58247b5e",
   "metadata": {
    "ExecuteTime": {
     "end_time": "2022-05-28T11:19:39.355463Z",
     "start_time": "2022-05-28T11:19:39.336513Z"
    }
   },
   "outputs": [
    {
     "name": "stdout",
     "output_type": "stream",
     "text": [
      "0.6464515924453735\n",
      "0.6701075434684753\n",
      "0.602150559425354\n",
      "0.5227240324020386\n",
      "0.671397864818573\n",
      "0.4949103891849518\n",
      "0.5112544894218445\n",
      "0.5660215020179749\n",
      "0.6087455153465271\n"
     ]
    }
   ],
   "source": [
    "for i in range(9):\n",
    "    print(hist_list[i].history[\"val_accuracy\"][-1])"
   ]
  },
  {
   "cell_type": "code",
   "execution_count": 284,
   "id": "778b2578",
   "metadata": {
    "ExecuteTime": {
     "end_time": "2022-05-28T11:20:37.709159Z",
     "start_time": "2022-05-28T11:20:37.692205Z"
    }
   },
   "outputs": [],
   "source": [
    "def make_model(iter = 0,node= 0):\n",
    "    Input = keras.Input(shape=[None, 6])\n",
    "    for _ in range(iter):\n",
    "        x = keras.layers.LSTM(node, return_sequences=True)(Input)\n",
    "    if iter==0:\n",
    "        x = keras.layers.LSTM(node)(Input)\n",
    "    else:\n",
    "        x = keras.layers.LSTM(node)(x)\n",
    "    output = keras.layers.Dense(15, activation=\"softmax\")(x)\n",
    "\n",
    "    model = keras.Model(inputs = Input, outputs=output)\n",
    "    model.compile(loss=\"sparse_categorical_crossentropy\", metrics=[\"accuracy\"], optimizer=\"adam\")\n",
    "    return model"
   ]
  },
  {
   "cell_type": "code",
   "execution_count": 285,
   "id": "5415122c",
   "metadata": {
    "ExecuteTime": {
     "end_time": "2022-05-28T11:20:37.991065Z",
     "start_time": "2022-05-28T11:20:37.975911Z"
    }
   },
   "outputs": [],
   "source": [
    "es = keras.callbacks.EarlyStopping(monitor=\"val_loss\", mode=\"min\", patience=5)"
   ]
  },
  {
   "cell_type": "code",
   "execution_count": 286,
   "id": "f4362ff7",
   "metadata": {
    "ExecuteTime": {
     "end_time": "2022-05-28T11:26:54.720191Z",
     "start_time": "2022-05-28T11:20:41.427893Z"
    }
   },
   "outputs": [
    {
     "name": "stdout",
     "output_type": "stream",
     "text": [
      "Epoch 1/100\n",
      "437/437 [==============================] - 21s 42ms/step - loss: 1.8025 - accuracy: 0.3991 - val_loss: 1.6881 - val_accuracy: 0.4806\n",
      "Epoch 2/100\n",
      "437/437 [==============================] - 18s 40ms/step - loss: 1.3988 - accuracy: 0.5500 - val_loss: 1.4692 - val_accuracy: 0.5206\n",
      "Epoch 3/100\n",
      "437/437 [==============================] - 18s 41ms/step - loss: 1.3234 - accuracy: 0.5578 - val_loss: 1.3828 - val_accuracy: 0.5240\n",
      "Epoch 4/100\n",
      "437/437 [==============================] - 18s 40ms/step - loss: 1.2248 - accuracy: 0.5940 - val_loss: 1.3007 - val_accuracy: 0.5511\n",
      "Epoch 5/100\n",
      "437/437 [==============================] - 18s 41ms/step - loss: 1.1364 - accuracy: 0.6106 - val_loss: 1.5182 - val_accuracy: 0.4853\n",
      "Epoch 6/100\n",
      "437/437 [==============================] - 18s 40ms/step - loss: 1.1000 - accuracy: 0.6187 - val_loss: 1.2658 - val_accuracy: 0.5667\n",
      "Epoch 7/100\n",
      "437/437 [==============================] - 18s 40ms/step - loss: 1.0685 - accuracy: 0.6272 - val_loss: 1.2212 - val_accuracy: 0.5753\n",
      "Epoch 8/100\n",
      "437/437 [==============================] - 18s 40ms/step - loss: 1.0063 - accuracy: 0.6456 - val_loss: 1.1813 - val_accuracy: 0.5984\n",
      "Epoch 9/100\n",
      "437/437 [==============================] - 17s 40ms/step - loss: 0.9676 - accuracy: 0.6556 - val_loss: 1.1859 - val_accuracy: 0.5931\n",
      "Epoch 10/100\n",
      "437/437 [==============================] - 17s 40ms/step - loss: 1.1213 - accuracy: 0.6112 - val_loss: 1.1995 - val_accuracy: 0.5831\n",
      "Epoch 11/100\n",
      "437/437 [==============================] - 17s 40ms/step - loss: 0.9950 - accuracy: 0.6557 - val_loss: 1.1407 - val_accuracy: 0.6029\n",
      "Epoch 12/100\n",
      "437/437 [==============================] - 18s 40ms/step - loss: 0.9707 - accuracy: 0.6582 - val_loss: 1.1178 - val_accuracy: 0.6173\n",
      "Epoch 13/100\n",
      "437/437 [==============================] - 18s 40ms/step - loss: 0.9313 - accuracy: 0.6804 - val_loss: 1.0742 - val_accuracy: 0.6437\n",
      "Epoch 14/100\n",
      "437/437 [==============================] - 18s 41ms/step - loss: 0.8641 - accuracy: 0.7089 - val_loss: 0.9983 - val_accuracy: 0.6492\n",
      "Epoch 15/100\n",
      "437/437 [==============================] - 18s 40ms/step - loss: 0.8114 - accuracy: 0.7172 - val_loss: 1.0107 - val_accuracy: 0.6529\n",
      "Epoch 16/100\n",
      "437/437 [==============================] - 18s 40ms/step - loss: 0.8152 - accuracy: 0.7172 - val_loss: 0.9498 - val_accuracy: 0.6710s: 0.8149 \n",
      "Epoch 17/100\n",
      "437/437 [==============================] - 17s 40ms/step - loss: 0.9461 - accuracy: 0.6673 - val_loss: 1.1144 - val_accuracy: 0.6060\n",
      "Epoch 18/100\n",
      "437/437 [==============================] - 18s 40ms/step - loss: 0.8207 - accuracy: 0.7076 - val_loss: 1.0127 - val_accuracy: 0.6598\n",
      "Epoch 19/100\n",
      "437/437 [==============================] - 18s 40ms/step - loss: 0.8306 - accuracy: 0.6967 - val_loss: 0.9561 - val_accuracy: 0.6426\n",
      "Epoch 20/100\n",
      "437/437 [==============================] - 18s 40ms/step - loss: 0.7905 - accuracy: 0.7016 - val_loss: 0.9820 - val_accuracy: 0.6340\n",
      "Epoch 21/100\n",
      "437/437 [==============================] - 17s 40ms/step - loss: 0.7484 - accuracy: 0.7116 - val_loss: 1.0135 - val_accuracy: 0.6358\n"
     ]
    }
   ],
   "source": [
    "model = make_model(1, 15)\n",
    "hist_list.append(model.fit(dataset0_X_train, dataset0_y_train,\n",
    "                           validation_data=(dataset0_X_test, dataset0_y_test), epochs=100, callbacks=[es]))"
   ]
  },
  {
   "cell_type": "code",
   "execution_count": 287,
   "id": "68504ad9",
   "metadata": {
    "ExecuteTime": {
     "end_time": "2022-05-28T11:29:09.645475Z",
     "start_time": "2022-05-28T11:29:09.582600Z"
    }
   },
   "outputs": [],
   "source": [
    "model.save(\"./model.h5\")"
   ]
  },
  {
   "cell_type": "code",
   "execution_count": 342,
   "id": "ed43a543",
   "metadata": {
    "ExecuteTime": {
     "end_time": "2022-05-28T11:50:43.981264Z",
     "start_time": "2022-05-28T11:50:43.483878Z"
    }
   },
   "outputs": [],
   "source": [
    "model = keras.models.load_model(\"./model.h5\")"
   ]
  },
  {
   "cell_type": "code",
   "execution_count": 355,
   "id": "b4d89f5a",
   "metadata": {
    "ExecuteTime": {
     "end_time": "2022-05-28T11:53:26.412685Z",
     "start_time": "2022-05-28T11:53:25.943027Z"
    }
   },
   "outputs": [],
   "source": [
    "test_model = keras.models.Sequential(model.layers[:-1])\n",
    "test_model.add(keras.layers.Dense(11, activation=\"softmax\"))\n",
    "for layer in test_model.layers[:-1]:\n",
    "    layer.trainable=False"
   ]
  },
  {
   "cell_type": "code",
   "execution_count": 356,
   "id": "c44490cb",
   "metadata": {
    "ExecuteTime": {
     "end_time": "2022-05-28T11:53:26.459242Z",
     "start_time": "2022-05-28T11:53:26.444889Z"
    }
   },
   "outputs": [],
   "source": [
    "es = keras.callbacks.EarlyStopping(monitor=\"loss\", mode=\"min\", patience=5)"
   ]
  },
  {
   "cell_type": "code",
   "execution_count": 357,
   "id": "7a62af17",
   "metadata": {
    "ExecuteTime": {
     "end_time": "2022-05-28T11:53:34.453721Z",
     "start_time": "2022-05-28T11:53:26.491064Z"
    }
   },
   "outputs": [
    {
     "name": "stdout",
     "output_type": "stream",
     "text": [
      "Epoch 1/5\n",
      "55/55 [==============================] - 4s 20ms/step - loss: 2.6039 - accuracy: 0.0531\n",
      "Epoch 2/5\n",
      "55/55 [==============================] - 1s 19ms/step - loss: 2.2316 - accuracy: 0.1349\n",
      "Epoch 3/5\n",
      "55/55 [==============================] - 1s 19ms/step - loss: 1.9642 - accuracy: 0.2194\n",
      "Epoch 4/5\n",
      "55/55 [==============================] - 1s 19ms/step - loss: 1.7717 - accuracy: 0.3897\n",
      "Epoch 5/5\n",
      "55/55 [==============================] - 1s 19ms/step - loss: 1.6346 - accuracy: 0.4577\n"
     ]
    },
    {
     "data": {
      "text/plain": [
       "<keras.callbacks.History at 0x203c547d940>"
      ]
     },
     "execution_count": 357,
     "metadata": {},
     "output_type": "execute_result"
    }
   ],
   "source": [
    "test_model.compile(loss=\"sparse_categorical_crossentropy\", metrics=[\"accuracy\"], optimizer=\"adam\")\n",
    "test_model.fit(dataset1_X_train, dataset1_y_train, epochs=5, callbacks=[es])"
   ]
  },
  {
   "cell_type": "code",
   "execution_count": 358,
   "id": "299c806d",
   "metadata": {
    "ExecuteTime": {
     "end_time": "2022-05-28T11:53:34.500489Z",
     "start_time": "2022-05-28T11:53:34.486802Z"
    }
   },
   "outputs": [],
   "source": [
    "for layer in test_model.layers[:-1]:\n",
    "    layer.trainable=True"
   ]
  },
  {
   "cell_type": "code",
   "execution_count": 359,
   "id": "537cd07d",
   "metadata": {
    "ExecuteTime": {
     "end_time": "2022-05-28T11:53:34.547104Z",
     "start_time": "2022-05-28T11:53:34.532666Z"
    }
   },
   "outputs": [],
   "source": [
    "es = keras.callbacks.EarlyStopping(monitor=\"val_loss\", mode=\"min\", patience=5)"
   ]
  },
  {
   "cell_type": "code",
   "execution_count": 361,
   "id": "fdb60f25",
   "metadata": {
    "ExecuteTime": {
     "end_time": "2022-05-28T11:53:52.693435Z",
     "start_time": "2022-05-28T11:53:38.644626Z"
    }
   },
   "outputs": [
    {
     "name": "stdout",
     "output_type": "stream",
     "text": [
      "Epoch 1/30\n",
      "44/44 [==============================] - 5s 56ms/step - loss: 1.3138 - accuracy: 0.4664 - val_loss: 2.4297 - val_accuracy: 0.3686\n",
      "Epoch 2/30\n",
      "44/44 [==============================] - 2s 40ms/step - loss: 1.1442 - accuracy: 0.5171 - val_loss: 2.5846 - val_accuracy: 0.3600\n",
      "Epoch 3/30\n",
      "44/44 [==============================] - 2s 41ms/step - loss: 1.0134 - accuracy: 0.5814 - val_loss: 2.6506 - val_accuracy: 0.4057\n",
      "Epoch 4/30\n",
      "44/44 [==============================] - 2s 41ms/step - loss: 0.9402 - accuracy: 0.6729 - val_loss: 2.6980 - val_accuracy: 0.4543\n",
      "Epoch 5/30\n",
      "44/44 [==============================] - 2s 41ms/step - loss: 0.9826 - accuracy: 0.6386 - val_loss: 2.7313 - val_accuracy: 0.4486\n",
      "Epoch 6/30\n",
      "44/44 [==============================] - 2s 40ms/step - loss: 1.0019 - accuracy: 0.5964 - val_loss: 2.8472 - val_accuracy: 0.3943\n"
     ]
    },
    {
     "data": {
      "text/plain": [
       "<keras.callbacks.History at 0x203cac49220>"
      ]
     },
     "execution_count": 361,
     "metadata": {},
     "output_type": "execute_result"
    }
   ],
   "source": [
    "test_model.compile(loss=\"sparse_categorical_crossentropy\", metrics=[\"accuracy\"], optimizer=\"adam\")\n",
    "test_model.fit(dataset1_X_train, dataset1_y_train,validation_split=0.2, epochs=30, callbacks=[es])"
   ]
  },
  {
   "cell_type": "code",
   "execution_count": 362,
   "id": "4e836ed6",
   "metadata": {
    "ExecuteTime": {
     "end_time": "2022-05-28T11:53:56.306455Z",
     "start_time": "2022-05-28T11:53:55.544593Z"
    }
   },
   "outputs": [],
   "source": [
    "submission[\"label\"] = dataset1_label_encoder.inverse_transform(np.argmax(test_model.predict(dataset1_test_X), axis=-1))\n",
    "submission.to_csv(\"./submission.csv\", index=None)"
   ]
  }
 ],
 "metadata": {
  "kernelspec": {
   "display_name": "=python3.9.0",
   "language": "python",
   "name": "python3.9.0"
  },
  "language_info": {
   "codemirror_mode": {
    "name": "ipython",
    "version": 3
   },
   "file_extension": ".py",
   "mimetype": "text/x-python",
   "name": "python",
   "nbconvert_exporter": "python",
   "pygments_lexer": "ipython3",
   "version": "3.9.12"
  },
  "toc": {
   "base_numbering": 1,
   "nav_menu": {},
   "number_sections": true,
   "sideBar": true,
   "skip_h1_title": false,
   "title_cell": "Table of Contents",
   "title_sidebar": "Contents",
   "toc_cell": false,
   "toc_position": {
    "height": "calc(100% - 180px)",
    "left": "10px",
    "top": "150px",
    "width": "426.667px"
   },
   "toc_section_display": true,
   "toc_window_display": true
  },
  "varInspector": {
   "cols": {
    "lenName": 16,
    "lenType": 16,
    "lenVar": 40
   },
   "kernels_config": {
    "python": {
     "delete_cmd_postfix": "",
     "delete_cmd_prefix": "del ",
     "library": "var_list.py",
     "varRefreshCmd": "print(var_dic_list())"
    },
    "r": {
     "delete_cmd_postfix": ") ",
     "delete_cmd_prefix": "rm(",
     "library": "var_list.r",
     "varRefreshCmd": "cat(var_dic_list()) "
    }
   },
   "types_to_exclude": [
    "module",
    "function",
    "builtin_function_or_method",
    "instance",
    "_Feature"
   ],
   "window_display": false
  }
 },
 "nbformat": 4,
 "nbformat_minor": 5
}
