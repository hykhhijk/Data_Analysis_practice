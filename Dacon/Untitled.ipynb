{
 "cells": [
  {
   "cell_type": "code",
   "execution_count": 91,
   "id": "c5dfe47f",
   "metadata": {},
   "outputs": [],
   "source": [
    "import matplotlib.pyplot as plt\n",
    "%matplotlib inline\n",
    "import seaborn as sns\n",
    "import pandas as pd\n",
    "import numpy as np\n",
    "#from sklearn.preprocessing import OneHotEncoder\n",
    "#from sklearn.model_selection import cross_val_score\n",
    "from  sklearn.model_selection import GridSearchCV, train_test_split\n",
    "#from sklearn.metrics import classification_report\n",
    "#from sklearn.ensemble import VotingClassifier, BaggingClassifier"
   ]
  },
  {
   "cell_type": "code",
   "execution_count": 92,
   "id": "6ef76cc8",
   "metadata": {},
   "outputs": [],
   "source": [
    "train_df= pd.read_csv(\"data/iris dataset/iris_train.csv\")\n",
    "test_df= pd.read_csv(\"data/iris dataset/iris_test.csv\")"
   ]
  },
  {
   "cell_type": "code",
   "execution_count": 93,
   "id": "85125a99",
   "metadata": {},
   "outputs": [
    {
     "name": "stdout",
     "output_type": "stream",
     "text": [
      "(75, 6) (75, 4)\n"
     ]
    }
   ],
   "source": [
    "print(train_df.shape, test_df.shape)"
   ]
  },
  {
   "cell_type": "code",
   "execution_count": 94,
   "id": "623ccf88",
   "metadata": {},
   "outputs": [
    {
     "data": {
      "text/html": [
       "<div>\n",
       "<style scoped>\n",
       "    .dataframe tbody tr th:only-of-type {\n",
       "        vertical-align: middle;\n",
       "    }\n",
       "\n",
       "    .dataframe tbody tr th {\n",
       "        vertical-align: top;\n",
       "    }\n",
       "\n",
       "    .dataframe thead th {\n",
       "        text-align: right;\n",
       "    }\n",
       "</style>\n",
       "<table border=\"1\" class=\"dataframe\">\n",
       "  <thead>\n",
       "    <tr style=\"text-align: right;\">\n",
       "      <th></th>\n",
       "      <th>id</th>\n",
       "      <th>species</th>\n",
       "      <th>sepal length (cm)</th>\n",
       "      <th>petal length (cm)</th>\n",
       "      <th>sepal width (cm)</th>\n",
       "      <th>petal width (cm)</th>\n",
       "    </tr>\n",
       "  </thead>\n",
       "  <tbody>\n",
       "    <tr>\n",
       "      <th>0</th>\n",
       "      <td>0</td>\n",
       "      <td>setosa</td>\n",
       "      <td>4.4</td>\n",
       "      <td>1.4</td>\n",
       "      <td>2.9</td>\n",
       "      <td>0.2</td>\n",
       "    </tr>\n",
       "    <tr>\n",
       "      <th>1</th>\n",
       "      <td>1</td>\n",
       "      <td>versicolor</td>\n",
       "      <td>6.4</td>\n",
       "      <td>4.5</td>\n",
       "      <td>3.2</td>\n",
       "      <td>1.5</td>\n",
       "    </tr>\n",
       "    <tr>\n",
       "      <th>2</th>\n",
       "      <td>2</td>\n",
       "      <td>virginica</td>\n",
       "      <td>6.2</td>\n",
       "      <td>4.8</td>\n",
       "      <td>2.8</td>\n",
       "      <td>1.8</td>\n",
       "    </tr>\n",
       "    <tr>\n",
       "      <th>3</th>\n",
       "      <td>3</td>\n",
       "      <td>virginica</td>\n",
       "      <td>7.2</td>\n",
       "      <td>6.1</td>\n",
       "      <td>3.6</td>\n",
       "      <td>2.5</td>\n",
       "    </tr>\n",
       "    <tr>\n",
       "      <th>4</th>\n",
       "      <td>4</td>\n",
       "      <td>setosa</td>\n",
       "      <td>4.9</td>\n",
       "      <td>1.4</td>\n",
       "      <td>3.0</td>\n",
       "      <td>0.2</td>\n",
       "    </tr>\n",
       "    <tr>\n",
       "      <th>5</th>\n",
       "      <td>5</td>\n",
       "      <td>virginica</td>\n",
       "      <td>6.5</td>\n",
       "      <td>5.8</td>\n",
       "      <td>3.0</td>\n",
       "      <td>2.2</td>\n",
       "    </tr>\n",
       "    <tr>\n",
       "      <th>6</th>\n",
       "      <td>6</td>\n",
       "      <td>setosa</td>\n",
       "      <td>4.3</td>\n",
       "      <td>1.1</td>\n",
       "      <td>3.0</td>\n",
       "      <td>0.1</td>\n",
       "    </tr>\n",
       "    <tr>\n",
       "      <th>7</th>\n",
       "      <td>7</td>\n",
       "      <td>versicolor</td>\n",
       "      <td>6.7</td>\n",
       "      <td>5.0</td>\n",
       "      <td>3.0</td>\n",
       "      <td>1.7</td>\n",
       "    </tr>\n",
       "    <tr>\n",
       "      <th>8</th>\n",
       "      <td>8</td>\n",
       "      <td>versicolor</td>\n",
       "      <td>6.8</td>\n",
       "      <td>4.8</td>\n",
       "      <td>2.8</td>\n",
       "      <td>1.4</td>\n",
       "    </tr>\n",
       "    <tr>\n",
       "      <th>9</th>\n",
       "      <td>9</td>\n",
       "      <td>versicolor</td>\n",
       "      <td>6.6</td>\n",
       "      <td>4.4</td>\n",
       "      <td>3.0</td>\n",
       "      <td>1.4</td>\n",
       "    </tr>\n",
       "  </tbody>\n",
       "</table>\n",
       "</div>"
      ],
      "text/plain": [
       "   id     species  sepal length (cm)  petal length (cm)  sepal width (cm)  \\\n",
       "0   0      setosa                4.4                1.4               2.9   \n",
       "1   1  versicolor                6.4                4.5               3.2   \n",
       "2   2   virginica                6.2                4.8               2.8   \n",
       "3   3   virginica                7.2                6.1               3.6   \n",
       "4   4      setosa                4.9                1.4               3.0   \n",
       "5   5   virginica                6.5                5.8               3.0   \n",
       "6   6      setosa                4.3                1.1               3.0   \n",
       "7   7  versicolor                6.7                5.0               3.0   \n",
       "8   8  versicolor                6.8                4.8               2.8   \n",
       "9   9  versicolor                6.6                4.4               3.0   \n",
       "\n",
       "   petal width (cm)  \n",
       "0               0.2  \n",
       "1               1.5  \n",
       "2               1.8  \n",
       "3               2.5  \n",
       "4               0.2  \n",
       "5               2.2  \n",
       "6               0.1  \n",
       "7               1.7  \n",
       "8               1.4  \n",
       "9               1.4  "
      ]
     },
     "execution_count": 94,
     "metadata": {},
     "output_type": "execute_result"
    }
   ],
   "source": [
    "train_df.head(10)"
   ]
  },
  {
   "cell_type": "code",
   "execution_count": 95,
   "id": "b45fb00e",
   "metadata": {},
   "outputs": [
    {
     "name": "stdout",
     "output_type": "stream",
     "text": [
      "<class 'pandas.core.frame.DataFrame'>\n",
      "RangeIndex: 75 entries, 0 to 74\n",
      "Data columns (total 6 columns):\n",
      " #   Column             Non-Null Count  Dtype  \n",
      "---  ------             --------------  -----  \n",
      " 0   id                 75 non-null     int64  \n",
      " 1   species            75 non-null     object \n",
      " 2   sepal length (cm)  75 non-null     float64\n",
      " 3   petal length (cm)  75 non-null     float64\n",
      " 4   sepal width (cm)   75 non-null     float64\n",
      " 5   petal width (cm)   75 non-null     float64\n",
      "dtypes: float64(4), int64(1), object(1)\n",
      "memory usage: 3.6+ KB\n"
     ]
    }
   ],
   "source": [
    "train_df.info()"
   ]
  },
  {
   "cell_type": "code",
   "execution_count": 96,
   "id": "3eb65352",
   "metadata": {},
   "outputs": [
    {
     "data": {
      "text/html": [
       "<div>\n",
       "<style scoped>\n",
       "    .dataframe tbody tr th:only-of-type {\n",
       "        vertical-align: middle;\n",
       "    }\n",
       "\n",
       "    .dataframe tbody tr th {\n",
       "        vertical-align: top;\n",
       "    }\n",
       "\n",
       "    .dataframe thead th {\n",
       "        text-align: right;\n",
       "    }\n",
       "</style>\n",
       "<table border=\"1\" class=\"dataframe\">\n",
       "  <thead>\n",
       "    <tr style=\"text-align: right;\">\n",
       "      <th></th>\n",
       "      <th>id</th>\n",
       "      <th>sepal length (cm)</th>\n",
       "      <th>petal length (cm)</th>\n",
       "      <th>sepal width (cm)</th>\n",
       "      <th>petal width (cm)</th>\n",
       "    </tr>\n",
       "  </thead>\n",
       "  <tbody>\n",
       "    <tr>\n",
       "      <th>count</th>\n",
       "      <td>75.000000</td>\n",
       "      <td>75.000000</td>\n",
       "      <td>75.000000</td>\n",
       "      <td>75.000000</td>\n",
       "      <td>75.000000</td>\n",
       "    </tr>\n",
       "    <tr>\n",
       "      <th>mean</th>\n",
       "      <td>37.000000</td>\n",
       "      <td>6.044000</td>\n",
       "      <td>4.258667</td>\n",
       "      <td>2.958667</td>\n",
       "      <td>1.384000</td>\n",
       "    </tr>\n",
       "    <tr>\n",
       "      <th>std</th>\n",
       "      <td>21.794495</td>\n",
       "      <td>0.842653</td>\n",
       "      <td>1.615390</td>\n",
       "      <td>0.388376</td>\n",
       "      <td>0.697106</td>\n",
       "    </tr>\n",
       "    <tr>\n",
       "      <th>min</th>\n",
       "      <td>0.000000</td>\n",
       "      <td>4.300000</td>\n",
       "      <td>1.100000</td>\n",
       "      <td>2.000000</td>\n",
       "      <td>0.100000</td>\n",
       "    </tr>\n",
       "    <tr>\n",
       "      <th>25%</th>\n",
       "      <td>18.500000</td>\n",
       "      <td>5.550000</td>\n",
       "      <td>3.750000</td>\n",
       "      <td>2.800000</td>\n",
       "      <td>1.000000</td>\n",
       "    </tr>\n",
       "    <tr>\n",
       "      <th>50%</th>\n",
       "      <td>37.000000</td>\n",
       "      <td>6.100000</td>\n",
       "      <td>4.700000</td>\n",
       "      <td>3.000000</td>\n",
       "      <td>1.500000</td>\n",
       "    </tr>\n",
       "    <tr>\n",
       "      <th>75%</th>\n",
       "      <td>55.500000</td>\n",
       "      <td>6.600000</td>\n",
       "      <td>5.300000</td>\n",
       "      <td>3.200000</td>\n",
       "      <td>1.850000</td>\n",
       "    </tr>\n",
       "    <tr>\n",
       "      <th>max</th>\n",
       "      <td>74.000000</td>\n",
       "      <td>7.700000</td>\n",
       "      <td>6.900000</td>\n",
       "      <td>4.000000</td>\n",
       "      <td>2.500000</td>\n",
       "    </tr>\n",
       "  </tbody>\n",
       "</table>\n",
       "</div>"
      ],
      "text/plain": [
       "              id  sepal length (cm)  petal length (cm)  sepal width (cm)  \\\n",
       "count  75.000000          75.000000          75.000000         75.000000   \n",
       "mean   37.000000           6.044000           4.258667          2.958667   \n",
       "std    21.794495           0.842653           1.615390          0.388376   \n",
       "min     0.000000           4.300000           1.100000          2.000000   \n",
       "25%    18.500000           5.550000           3.750000          2.800000   \n",
       "50%    37.000000           6.100000           4.700000          3.000000   \n",
       "75%    55.500000           6.600000           5.300000          3.200000   \n",
       "max    74.000000           7.700000           6.900000          4.000000   \n",
       "\n",
       "       petal width (cm)  \n",
       "count         75.000000  \n",
       "mean           1.384000  \n",
       "std            0.697106  \n",
       "min            0.100000  \n",
       "25%            1.000000  \n",
       "50%            1.500000  \n",
       "75%            1.850000  \n",
       "max            2.500000  "
      ]
     },
     "execution_count": 96,
     "metadata": {},
     "output_type": "execute_result"
    }
   ],
   "source": [
    "train_df.describe()"
   ]
  },
  {
   "cell_type": "code",
   "execution_count": 117,
   "id": "0769b187",
   "metadata": {},
   "outputs": [],
   "source": [
    "X_train_cat = train_df[\"species\"]\n",
    "X_train_num = train_df[[\"sepal length (cm)\", \"petal length (cm)\"]]\n",
    "y_train = train_df[[\"sepal width (cm)\", \"petal width (cm)\"]]"
   ]
  },
  {
   "cell_type": "code",
   "execution_count": 118,
   "id": "1768bcc5",
   "metadata": {},
   "outputs": [],
   "source": [
    "X_test_cat = test_df[\"species\"]\n",
    "X_test_num = test_df[[\"sepal length (cm)\", \"petal length (cm)\"]]"
   ]
  },
  {
   "cell_type": "code",
   "execution_count": 119,
   "id": "3811705c",
   "metadata": {},
   "outputs": [],
   "source": [
    "from sklearn.preprocessing import StandardScaler"
   ]
  },
  {
   "cell_type": "code",
   "execution_count": 120,
   "id": "07f2565b",
   "metadata": {},
   "outputs": [],
   "source": [
    "scaler = StandardScaler()\n",
    "X_train_num = scaler.fit_transform(X_train_num)\n",
    "X_test_num = scaler.fit_transform(X_test_num)"
   ]
  },
  {
   "cell_type": "code",
   "execution_count": 121,
   "id": "1586b341",
   "metadata": {},
   "outputs": [],
   "source": [
    "#train_df = pd.concat([train_df,pd.get_dummies(train_df[\"Embarked\"])],axis=1)"
   ]
  },
  {
   "cell_type": "code",
   "execution_count": 122,
   "id": "54f7fb5f",
   "metadata": {},
   "outputs": [],
   "source": [
    "X_train_cat = pd.get_dummies(X_train_cat)\n",
    "X_test_cat = pd.get_dummies(X_test_cat)"
   ]
  },
  {
   "cell_type": "code",
   "execution_count": 123,
   "id": "81792926",
   "metadata": {},
   "outputs": [],
   "source": [
    "X_train = pd.concat([X_train_cat,pd.DataFrame(X_train_num)],axis=1)\n",
    "X_test = pd.concat([X_test_cat,pd.DataFrame(X_test_num)],axis=1)"
   ]
  },
  {
   "cell_type": "markdown",
   "id": "fc092db8",
   "metadata": {},
   "source": [
    " # 모델선택 및 학습부분 "
   ]
  },
  {
   "cell_type": "code",
   "execution_count": 161,
   "id": "bc7e0db6",
   "metadata": {},
   "outputs": [],
   "source": [
    "from sklearn.linear_model import ElasticNet, Lasso,  BayesianRidge, LassoLarsIC, LinearRegression\n",
    "from sklearn.ensemble import RandomForestRegressor,  GradientBoostingRegressor\n",
    "from sklearn.pipeline import make_pipeline\n",
    "from sklearn.base import BaseEstimator, TransformerMixin, RegressorMixin, clone\n",
    "from sklearn.model_selection import KFold, cross_val_score, train_test_split\n",
    "from sklearn.metrics import mean_squared_error"
   ]
  },
  {
   "cell_type": "code",
   "execution_count": 136,
   "id": "4c86a1f5",
   "metadata": {},
   "outputs": [],
   "source": [
    "def score(model):\n",
    "    model.fit(X_train, y_train)\n",
    "    model_pred = model.predict(X_train)\n",
    "    lin_mse = mean_squared_error(model_pred, y_train)\n",
    "    lin_rmse = np.sqrt(lin_mse)\n",
    "    return lin_rmse"
   ]
  },
  {
   "cell_type": "code",
   "execution_count": 147,
   "id": "9c9f4afa",
   "metadata": {},
   "outputs": [],
   "source": [
    "lasso = Lasso(alpha =0.0005)\n",
    "score_lasso = score(lasso)"
   ]
  },
  {
   "cell_type": "code",
   "execution_count": 155,
   "id": "8869bbd7",
   "metadata": {},
   "outputs": [],
   "source": [
    "elastic = ElasticNet(alpha=0.0005, l1_ratio=.9)\n",
    "score_elastic = score(elastic)"
   ]
  },
  {
   "cell_type": "code",
   "execution_count": 162,
   "id": "57453b2d",
   "metadata": {},
   "outputs": [],
   "source": [
    "linear = LinearRegression()\n",
    "score_linear = score(linear)"
   ]
  },
  {
   "cell_type": "code",
   "execution_count": 164,
   "id": "4f520564",
   "metadata": {},
   "outputs": [],
   "source": [
    "rand_forest = RandomForestRegressor()\n",
    "score_rf = score(rand_forest)"
   ]
  },
  {
   "cell_type": "code",
   "execution_count": 172,
   "id": "d1475375",
   "metadata": {},
   "outputs": [],
   "source": [
    "model_scores = [score_elastic, score_lasso, score_linear, score_rf]"
   ]
  },
  {
   "cell_type": "code",
   "execution_count": 173,
   "id": "84d00718",
   "metadata": {},
   "outputs": [],
   "source": [
    "model_scores_mat = pd.DataFrame(model_scores, columns = [\"model_scores\"], index=[\"Elastic\",\"Lasso\",\"Linear\",\"Random_forest\"])"
   ]
  },
  {
   "cell_type": "code",
   "execution_count": 174,
   "id": "0c19f078",
   "metadata": {},
   "outputs": [
    {
     "data": {
      "text/html": [
       "<div>\n",
       "<style scoped>\n",
       "    .dataframe tbody tr th:only-of-type {\n",
       "        vertical-align: middle;\n",
       "    }\n",
       "\n",
       "    .dataframe tbody tr th {\n",
       "        vertical-align: top;\n",
       "    }\n",
       "\n",
       "    .dataframe thead th {\n",
       "        text-align: right;\n",
       "    }\n",
       "</style>\n",
       "<table border=\"1\" class=\"dataframe\">\n",
       "  <thead>\n",
       "    <tr style=\"text-align: right;\">\n",
       "      <th></th>\n",
       "      <th>model_scores</th>\n",
       "    </tr>\n",
       "  </thead>\n",
       "  <tbody>\n",
       "    <tr>\n",
       "      <th>Elastic</th>\n",
       "      <td>0.228986</td>\n",
       "    </tr>\n",
       "    <tr>\n",
       "      <th>Lasso</th>\n",
       "      <td>0.228988</td>\n",
       "    </tr>\n",
       "    <tr>\n",
       "      <th>Linear</th>\n",
       "      <td>0.228973</td>\n",
       "    </tr>\n",
       "    <tr>\n",
       "      <th>Random_forest</th>\n",
       "      <td>0.126395</td>\n",
       "    </tr>\n",
       "  </tbody>\n",
       "</table>\n",
       "</div>"
      ],
      "text/plain": [
       "               model_scores\n",
       "Elastic            0.228986\n",
       "Lasso              0.228988\n",
       "Linear             0.228973\n",
       "Random_forest      0.126395"
      ]
     },
     "execution_count": 174,
     "metadata": {},
     "output_type": "execute_result"
    }
   ],
   "source": [
    "model_scores_mat"
   ]
  },
  {
   "cell_type": "code",
   "execution_count": 220,
   "id": "2259067e",
   "metadata": {},
   "outputs": [],
   "source": [
    "rf_params = [\n",
    "{'n_estimators': [10, 25, 30], 'max_features': [3, 5, 10], \n",
    " 'max_depth': [10, 50,60,  None], 'bootstrap': [True, False]}\n",
    "]\n",
    "lasso_params=[\n",
    "    {\n",
    "        \"alpha\": [0.001, 0.01, 0.1, 1, 10, 100, 1000]\n",
    "    }\n",
    "]\n",
    "elastic_params = [\n",
    "    {\n",
    "         \"alpha\": [0.000001, 0.00001, 0.0001, 0.001, 0.01, 0.1, 1],\n",
    "        \"l1_ratio\" : [0, 0.1, 0.2, 0.3, 0.4, 0.5, 0.6, 0.7, 0.8, 0.9, 1, 1.1, 1.2, ]\n",
    "    }\n",
    "]"
   ]
  },
  {
   "cell_type": "code",
   "execution_count": 221,
   "id": "58601e49",
   "metadata": {},
   "outputs": [],
   "source": [
    "def tuneHyperparameters(model, params):\n",
    "\n",
    "    gridSearch = GridSearchCV(model, params, verbose=0, cv=10, scoring=\"neg_mean_absolute_error\", n_jobs = -1)\n",
    "    gridSearch.fit(X_train, y_train)\n",
    "    bestParams, bestScore = gridSearch.best_params_,gridSearch.best_score_\n",
    "    return bestScore, bestParams"
   ]
  },
  {
   "cell_type": "code",
   "execution_count": 222,
   "id": "5ddff014",
   "metadata": {},
   "outputs": [
    {
     "name": "stderr",
     "output_type": "stream",
     "text": [
      "C:\\Users\\hjhhi\\Anaconda3\\lib\\site-packages\\sklearn\\model_selection\\_search.py:918: UserWarning: One or more of the test scores are non-finite: [-0.23079211 -0.23185742 -0.22592316 -0.22879658 -0.22629405 -0.22627872\n",
      "         nan         nan         nan -0.22408482 -0.23045196 -0.22825425\n",
      " -0.23674824 -0.22242815 -0.2234359          nan         nan         nan\n",
      " -0.23692872 -0.22902619 -0.22669743 -0.23130432 -0.23054292 -0.22758145\n",
      "         nan         nan         nan -0.24045238 -0.22915565 -0.22932693\n",
      " -0.23490893 -0.22472887 -0.22976161         nan         nan         nan\n",
      " -0.25907515 -0.2569756  -0.25731811 -0.27599405 -0.27373512 -0.27166071\n",
      "         nan         nan         nan -0.25601339 -0.25838036 -0.2613244\n",
      " -0.27446429 -0.27620357 -0.27499405         nan         nan         nan\n",
      " -0.25298214 -0.26500536 -0.25986161 -0.27898214 -0.27623571 -0.27605655\n",
      "         nan         nan         nan -0.26231696 -0.25716429 -0.26371726\n",
      " -0.28075    -0.27651071 -0.27451786         nan         nan         nan]\n",
      "  warnings.warn(\n",
      "C:\\Users\\hjhhi\\Anaconda3\\lib\\site-packages\\sklearn\\model_selection\\_search.py:918: UserWarning: One or more of the test scores are non-finite: [-0.18588213 -0.18588203 -0.18588193 -0.18588183 -0.18588173 -0.18588163\n",
      " -0.18588156 -0.18588148 -0.1858814  -0.18588135 -0.18588129         nan\n",
      "         nan -0.18588148 -0.18588139 -0.18588124 -0.18588112 -0.18588081\n",
      " -0.18588016 -0.18587952 -0.18587889 -0.18587742 -0.18587739 -0.18587681\n",
      "         nan         nan -0.18588273 -0.18588342 -0.18588414 -0.18588491\n",
      " -0.18588177 -0.18588273 -0.18588815 -0.18588745 -0.18588599 -0.18588275\n",
      " -0.18587858         nan         nan -0.18593812 -0.1859673  -0.1860091\n",
      " -0.18605401 -0.18608342 -0.18609611 -0.18610084 -0.18611239 -0.1861231\n",
      " -0.18614424 -0.18614149         nan         nan -0.18647817 -0.18684058\n",
      " -0.18734414 -0.18779632 -0.18823592 -0.18877025 -0.18939742 -0.19016034\n",
      " -0.1912618  -0.19242462 -0.19306897         nan         nan -0.19946718\n",
      " -0.20348583 -0.20876618 -0.21681213 -0.22490826 -0.23386029 -0.23867855\n",
      " -0.24005943 -0.24073689 -0.24174925 -0.24254776         nan         nan\n",
      " -0.27263238 -0.30507177 -0.32530213 -0.3439604  -0.36377875 -0.38449444\n",
      " -0.40853582 -0.42208487 -0.42231077 -0.42231077 -0.42231077         nan\n",
      "         nan]\n",
      "  warnings.warn(\n"
     ]
    }
   ],
   "source": [
    "model_names_to_tune = [\"Random_forest\",\"Lasso\",\"Elastic\"]\n",
    "model_to_tune = [rand_forest, lasso, elastic]\n",
    "model_params = [rf_params, lasso_params, elastic_params]\n",
    "bestscores = list(map(tuneHyperparameters, model_to_tune, model_params))"
   ]
  },
  {
   "cell_type": "code",
   "execution_count": 223,
   "id": "36604f34",
   "metadata": {},
   "outputs": [
    {
     "data": {
      "text/plain": [
       "[(-0.22242815476190475,\n",
       "  {'bootstrap': True, 'max_depth': 50, 'max_features': 5, 'n_estimators': 25}),\n",
       " (-0.1861414860398735, {'alpha': 0.001}),\n",
       " (-0.18587680880198199, {'alpha': 1e-05, 'l1_ratio': 1})]"
      ]
     },
     "execution_count": 223,
     "metadata": {},
     "output_type": "execute_result"
    }
   ],
   "source": [
    "bestscores"
   ]
  },
  {
   "cell_type": "code",
   "execution_count": 227,
   "id": "483e4ed9",
   "metadata": {},
   "outputs": [],
   "source": [
    "estimator = ElasticNet(alpha=1e-05, l1_ratio=1)"
   ]
  },
  {
   "cell_type": "code",
   "execution_count": 229,
   "id": "8d636a2f",
   "metadata": {},
   "outputs": [
    {
     "data": {
      "text/plain": [
       "ElasticNet(alpha=1e-05, l1_ratio=1)"
      ]
     },
     "execution_count": 229,
     "metadata": {},
     "output_type": "execute_result"
    }
   ],
   "source": [
    "estimator.fit(X_train, y_train)"
   ]
  },
  {
   "cell_type": "code",
   "execution_count": 230,
   "id": "28f14873",
   "metadata": {},
   "outputs": [],
   "source": [
    "final_submit = estimator.predict(X_test)"
   ]
  },
  {
   "cell_type": "code",
   "execution_count": 231,
   "id": "5d934f47",
   "metadata": {},
   "outputs": [],
   "source": [
    "from sklearn.metrics import mean_absolute_error"
   ]
  },
  {
   "cell_type": "code",
   "execution_count": 241,
   "id": "731d5254",
   "metadata": {},
   "outputs": [],
   "source": [
    "submissionBagg = pd.DataFrame({\"id\":np.arange(0, 75) ,\"sepal width (cm)\": final_submit[:,0], \"petal width (cm)\":final_submit[:,1]})\n",
    "submissionBagg.to_csv(\"example.csv\", index = False)"
   ]
  },
  {
   "cell_type": "code",
   "execution_count": null,
   "id": "a1574048",
   "metadata": {},
   "outputs": [],
   "source": []
  }
 ],
 "metadata": {
  "kernelspec": {
   "display_name": "Python 3",
   "language": "python",
   "name": "python3"
  },
  "language_info": {
   "codemirror_mode": {
    "name": "ipython",
    "version": 3
   },
   "file_extension": ".py",
   "mimetype": "text/x-python",
   "name": "python",
   "nbconvert_exporter": "python",
   "pygments_lexer": "ipython3",
   "version": "3.8.8"
  }
 },
 "nbformat": 4,
 "nbformat_minor": 5
}
