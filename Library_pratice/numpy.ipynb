{
 "cells": [
  {
   "cell_type": "code",
   "execution_count": 1,
   "metadata": {},
   "outputs": [],
   "source": [
    "import numpy as np"
   ]
  },
  {
   "cell_type": "code",
   "execution_count": 2,
   "metadata": {},
   "outputs": [],
   "source": [
    "array1 = np.array([1,2,3])"
   ]
  },
  {
   "cell_type": "code",
   "execution_count": 12,
   "metadata": {},
   "outputs": [
    {
     "name": "stdout",
     "output_type": "stream",
     "text": [
      "array1 type :  <class 'numpy.ndarray'>\n",
      "array1.shape :  (3,)\n"
     ]
    }
   ],
   "source": [
    "print(\"array1 type : \",type(array1))\n",
    "#x축값 3개 y축값 0개 -> 0개일시 표시 안됨\n",
    "print(\"array1.shape : \", array1.shape)"
   ]
  },
  {
   "cell_type": "code",
   "execution_count": 8,
   "metadata": {},
   "outputs": [],
   "source": [
    "array2 = np.array([[1,2,3],[4,5,6]])"
   ]
  },
  {
   "cell_type": "code",
   "execution_count": 11,
   "metadata": {},
   "outputs": [
    {
     "name": "stdout",
     "output_type": "stream",
     "text": [
      "array2 type :  <class 'numpy.ndarray'>\n",
      "arrat2.shape :  (2, 3)\n"
     ]
    }
   ],
   "source": [
    "print(\"array2 type : \",type(array2))\n",
    "print(\"arrat2.shape : \", array2.shape)"
   ]
  },
  {
   "cell_type": "code",
   "execution_count": 13,
   "metadata": {},
   "outputs": [],
   "source": [
    "array3 = np.array([[1,2,3]])"
   ]
  },
  {
   "cell_type": "code",
   "execution_count": 14,
   "metadata": {},
   "outputs": [
    {
     "name": "stdout",
     "output_type": "stream",
     "text": [
      "array3 type :  <class 'numpy.ndarray'>\n",
      "array3.shape (1, 3)\n"
     ]
    }
   ],
   "source": [
    "print(\"array3 type : \", type(array3))\n",
    "print(\"array3.shape\", array3.shape)"
   ]
  },
  {
   "cell_type": "code",
   "execution_count": 26,
   "metadata": {},
   "outputs": [],
   "source": [
    "array4 = np.array([[[1,2],[3,4]],[[5,6],[7,8]],[[9,10],[11,12]]])"
   ]
  },
  {
   "cell_type": "code",
   "execution_count": 27,
   "metadata": {},
   "outputs": [
    {
     "name": "stdout",
     "output_type": "stream",
     "text": [
      "array4 type :  <class 'numpy.ndarray'>\n",
      "array4.shape (3, 2, 2)\n"
     ]
    }
   ],
   "source": [
    "#z축=3 y축=2 x축=2\n",
    "#가장 겉의 \"[,]\"개수로 차원 알 수 있음\n",
    "print(\"array4 type : \", type(array4))\n",
    "print(\"array4.shape\", array4.shape)"
   ]
  },
  {
   "cell_type": "code",
   "execution_count": 28,
   "metadata": {},
   "outputs": [
    {
     "name": "stdout",
     "output_type": "stream",
     "text": [
      "arr1 : 1차원, arr2 : 2차원, arr3 : 2차원, arr4 : 3차원\n"
     ]
    }
   ],
   "source": [
    "print(\"arr1 : {}차원, arr2 : {}차원, arr3 : {}차원, arr4 : {}차원\".format(array1.ndim, array2.ndim, array3.ndim, array4.ndim))"
   ]
  },
  {
   "cell_type": "code",
   "execution_count": 29,
   "metadata": {},
   "outputs": [
    {
     "name": "stdout",
     "output_type": "stream",
     "text": [
      "<class 'list'>\n"
     ]
    }
   ],
   "source": [
    "list1 = [1,2,3]\n",
    "print(type(list1))"
   ]
  },
  {
   "cell_type": "code",
   "execution_count": 30,
   "metadata": {},
   "outputs": [
    {
     "name": "stdout",
     "output_type": "stream",
     "text": [
      "<class 'numpy.ndarray'>\n",
      "[1 2 3] int32\n"
     ]
    }
   ],
   "source": [
    "arr = np.array(list1)\n",
    "print(type(arr))\n",
    "print(arr, arr.dtype)"
   ]
  },
  {
   "cell_type": "code",
   "execution_count": 31,
   "metadata": {},
   "outputs": [
    {
     "name": "stdout",
     "output_type": "stream",
     "text": [
      "['1' '2' 'test'] <U11\n",
      "[1. 2. 3.] float64\n"
     ]
    }
   ],
   "source": [
    "#ndarray는 리스트와 다르게 다른 데이터타입을 담지 못하고 더 큰 자료형으로 변환하여 하나로 통합시킴\n",
    "list2 = [1,2,\"test\"]\n",
    "arr2 = np.array(list2)\n",
    "print(arr2, arr2.dtype)\n",
    "\n",
    "list3 = [1,2,3.0]\n",
    "arr3 = np.array(list3)\n",
    "print(arr3, arr3.dtype)"
   ]
  },
  {
   "cell_type": "code",
   "execution_count": 32,
   "metadata": {},
   "outputs": [
    {
     "name": "stdout",
     "output_type": "stream",
     "text": [
      "[1. 2. 3.] float64\n"
     ]
    }
   ],
   "source": [
    "arr_int = np.array([1,2,3])\n",
    "arr_float = arr_int.astype(\"float64\")\n",
    "print(arr_float, arr_float.dtype)"
   ]
  },
  {
   "cell_type": "code",
   "execution_count": 33,
   "metadata": {},
   "outputs": [
    {
     "name": "stdout",
     "output_type": "stream",
     "text": [
      "[1 2 3] int32\n"
     ]
    }
   ],
   "source": [
    "arr_int1 = arr_float.astype(\"int32\")\n",
    "print(arr_int1, arr_int1.dtype)"
   ]
  },
  {
   "cell_type": "code",
   "execution_count": 34,
   "metadata": {},
   "outputs": [
    {
     "name": "stdout",
     "output_type": "stream",
     "text": [
      "[1 2 3 4] int32\n"
     ]
    }
   ],
   "source": [
    "arr_float1 = np.array([1.1,2.2,3.3,4.4])\n",
    "arr_int2 = arr_float1.astype(\"int32\")\n",
    "print(arr_int2, arr_int2.dtype)"
   ]
  },
  {
   "cell_type": "code",
   "execution_count": 36,
   "metadata": {},
   "outputs": [
    {
     "name": "stdout",
     "output_type": "stream",
     "text": [
      "[0 1 2 3 4 5 6 7 8 9]\n",
      "int32 (10,)\n"
     ]
    }
   ],
   "source": [
    "#array + range -> arange()\n",
    "seq_arr = np.arange(10)\n",
    "print(seq_arr)\n",
    "print(seq_arr.dtype, seq_arr.shape)"
   ]
  },
  {
   "cell_type": "code",
   "execution_count": 39,
   "metadata": {},
   "outputs": [
    {
     "name": "stdout",
     "output_type": "stream",
     "text": [
      "[[0 0]\n",
      " [0 0]\n",
      " [0 0]]\n",
      "int32 (3, 2)\n"
     ]
    }
   ],
   "source": [
    "zero_arr = np.zeros((3,2), dtype=\"int32\")\n",
    "print(zero_arr)\n",
    "print(zero_arr.dtype, zero_arr.shape)"
   ]
  },
  {
   "cell_type": "code",
   "execution_count": 44,
   "metadata": {},
   "outputs": [
    {
     "name": "stdout",
     "output_type": "stream",
     "text": [
      "[[1. 1.]\n",
      " [1. 1.]\n",
      " [1. 1.]]\n",
      "float64 (3, 2)\n"
     ]
    }
   ],
   "source": [
    "one_arr = np.ones((3,2))\n",
    "print(one_arr)\n",
    "print(one_arr.dtype, one_arr.shape)"
   ]
  },
  {
   "cell_type": "code",
   "execution_count": 45,
   "metadata": {},
   "outputs": [
    {
     "name": "stdout",
     "output_type": "stream",
     "text": [
      "array1 :  [0 1 2 3 4 5 6 7 8 9]\n"
     ]
    }
   ],
   "source": [
    "array1 = np.arange(10)\n",
    "print(\"array1 : \",array1)"
   ]
  },
  {
   "cell_type": "code",
   "execution_count": 46,
   "metadata": {},
   "outputs": [
    {
     "name": "stdout",
     "output_type": "stream",
     "text": [
      "Array2 :  [[0 1 2 3 4]\n",
      " [5 6 7 8 9]]\n"
     ]
    }
   ],
   "source": [
    "array2 = array1.reshape(2,5)\n",
    "print(\"Array2 : \",array2)"
   ]
  },
  {
   "cell_type": "code",
   "execution_count": 47,
   "metadata": {},
   "outputs": [
    {
     "name": "stdout",
     "output_type": "stream",
     "text": [
      "array3 :  [[0 1]\n",
      " [2 3]\n",
      " [4 5]\n",
      " [6 7]\n",
      " [8 9]]\n"
     ]
    }
   ],
   "source": [
    "array3 = array1.reshape(5,2)\n",
    "print(\"array3 : \", array3)"
   ]
  },
  {
   "cell_type": "code",
   "execution_count": 50,
   "metadata": {},
   "outputs": [
    {
     "name": "stdout",
     "output_type": "stream",
     "text": [
      "[0 1 2 3 4 5 6 7 8 9]\n",
      "array2 :  (2, 5)\n",
      "array3 :  (5, 2)\n"
     ]
    }
   ],
   "source": [
    "array1 = np.arange(10)\n",
    "print(array1)\n",
    "array2 = array1.reshape(-1,5)\n",
    "print(\"array2 : \",array2.shape)\n",
    "array3 = array1.reshape(5,-1)\n",
    "print(\"array3 : \", array3.shape)"
   ]
  },
  {
   "cell_type": "code",
   "execution_count": 52,
   "metadata": {},
   "outputs": [
    {
     "name": "stdout",
     "output_type": "stream",
     "text": [
      "arr3d :  [[[0, 1], [2, 3]], [[4, 5], [6, 7]]]\n"
     ]
    }
   ],
   "source": [
    "array1 = np.arange(8)\n",
    "arr3d = array1.reshape((2,2,2))\n",
    "print(\"arr3d : \", arr3d.tolist())"
   ]
  },
  {
   "cell_type": "code",
   "execution_count": 62,
   "metadata": {},
   "outputs": [
    {
     "name": "stdout",
     "output_type": "stream",
     "text": [
      "array5 :  [[0], [1], [2], [3], [4], [5], [6], [7]]\n",
      "array5.shape :  (8, 1)\n"
     ]
    }
   ],
   "source": [
    "#reshape를 통한 2차원으로 고정변환 가능\n",
    "array5 = arr3d.reshape(-1,1)\n",
    "print(\"array5 : \",array5.tolist())\n",
    "print(\"array5.shape : \",array5.shape)"
   ]
  },
  {
   "cell_type": "code",
   "execution_count": 60,
   "metadata": {},
   "outputs": [
    {
     "name": "stdout",
     "output_type": "stream",
     "text": [
      "array6 :  [[0], [1], [2], [3], [4], [5], [6], [7]]\n",
      "array6.shape :  (8, 1)\n"
     ]
    }
   ],
   "source": [
    "array6 = array1.reshape(-1,1)\n",
    "print(\"array6 : \", array6.tolist())\n",
    "print(\"array6.shape : \",array6.shape)"
   ]
  },
  {
   "cell_type": "code",
   "execution_count": 63,
   "metadata": {},
   "outputs": [
    {
     "name": "stdout",
     "output_type": "stream",
     "text": [
      "[1 2 3]\n",
      "<class 'numpy.ndarray'>\n"
     ]
    }
   ],
   "source": [
    "array1 = np.arange(start = 1, stop=10)\n",
    "array2 = array1[0:3]\n",
    "print(array2)\n",
    "print(type(array2))"
   ]
  },
  {
   "cell_type": "code",
   "execution_count": 68,
   "metadata": {},
   "outputs": [
    {
     "name": "stdout",
     "output_type": "stream",
     "text": [
      "array2d\n",
      " :  [[1 2 3]\n",
      " [4 5 6]\n",
      " [7 8 9]]\n",
      "array2d[0:2, 0:2]\n",
      " [[1 2]\n",
      " [4 5]]\n",
      "array2d[1:3, 0:3]\n",
      " [[4 5 6]\n",
      " [7 8 9]]\n",
      "array2d[1:3, :]\n",
      " [[4 5 6]\n",
      " [7 8 9]]\n",
      "array2d[:, :]\n",
      " [[1 2 3]\n",
      " [4 5 6]\n",
      " [7 8 9]]\n",
      "array2d[:-1, 1:]\n",
      " [[2 3]\n",
      " [5 6]]\n"
     ]
    }
   ],
   "source": [
    "array1d = np.arange(start=1, stop=10)\n",
    "array2d = array1d.reshape(3,3)\n",
    "print(\"array2d\\n : \",array2d)\n",
    "\n",
    "print(\"array2d[0:2, 0:2]\\n\",array2d[0:2, 0:2])\n",
    "print(\"array2d[1:3, 0:3]\\n\",array2d[1:3, 0:3])\n",
    "print(\"array2d[1:3, :]\\n\",array2d[1:3, :])\n",
    "print(\"array2d[:, :]\\n\",array2d[:, :])\n",
    "print(\"array2d[:-1, 1:]\\n\",array2d[:-1, 1:])"
   ]
  },
  {
   "cell_type": "code",
   "execution_count": 69,
   "metadata": {},
   "outputs": [
    {
     "name": "stdout",
     "output_type": "stream",
     "text": [
      "[1 2 3]\n",
      "[4 5 6]\n"
     ]
    }
   ],
   "source": [
    "print(array2d[0])\n",
    "print(array2d[1])"
   ]
  },
  {
   "cell_type": "code",
   "execution_count": 71,
   "metadata": {},
   "outputs": [
    {
     "name": "stdout",
     "output_type": "stream",
     "text": [
      "arrat2d[[0,1],2] :  [3, 6]\n"
     ]
    }
   ],
   "source": [
    "#팬시 인덱싱 = 0:2 -> [0,1]으로 묶어준것과 같음\n",
    "array3 = array2d[[0,1],2]\n",
    "print(\"arrat2d[[0,1],2] : \", array3.tolist())"
   ]
  },
  {
   "cell_type": "code",
   "execution_count": 77,
   "metadata": {},
   "outputs": [
    {
     "name": "stdout",
     "output_type": "stream",
     "text": [
      "array2d[[0,1],0:2] :  [[1, 2], [4, 5]]\n"
     ]
    }
   ],
   "source": [
    "array4 = array2d[[0,1], 0:2]\n",
    "print(\"array2d[[0,1],0:2] : \", array4.tolist())"
   ]
  },
  {
   "cell_type": "code",
   "execution_count": 75,
   "metadata": {},
   "outputs": [
    {
     "name": "stdout",
     "output_type": "stream",
     "text": [
      "array2d[[0,1]] :  [[1, 2, 3], [4, 5, 6]]\n"
     ]
    }
   ],
   "source": [
    "array5 = array2d[[0,1]]\n",
    "print(\"array2d[[0,1]] : \", array5.tolist())"
   ]
  },
  {
   "cell_type": "code",
   "execution_count": 79,
   "metadata": {},
   "outputs": [],
   "source": [
    "array2 = array1d[array1d > 5]"
   ]
  },
  {
   "cell_type": "code",
   "execution_count": 80,
   "metadata": {},
   "outputs": [
    {
     "name": "stdout",
     "output_type": "stream",
     "text": [
      "arrat1d > 5 불린 인덱싱 값 :  [6 7 8 9]\n"
     ]
    }
   ],
   "source": [
    "print(\"arrat1d > 5 불린 인덱싱 값 : \", array2)"
   ]
  },
  {
   "cell_type": "code",
   "execution_count": 90,
   "metadata": {},
   "outputs": [
    {
     "name": "stdout",
     "output_type": "stream",
     "text": [
      "[False False False False False  True  True  True  True]\n"
     ]
    },
    {
     "data": {
      "text/plain": [
       "numpy.ndarray"
      ]
     },
     "execution_count": 90,
     "metadata": {},
     "output_type": "execute_result"
    }
   ],
   "source": [
    "#불릭 인덱싱시에 F,T로 이루어진 ndarray반환\n",
    "print(array1d > 5)\n",
    "type(array1d)"
   ]
  },
  {
   "cell_type": "code",
   "execution_count": 92,
   "metadata": {},
   "outputs": [
    {
     "name": "stdout",
     "output_type": "stream",
     "text": [
      "불리언 인덱싱으로 필터링 결과 :  [2 4 6 8]\n"
     ]
    }
   ],
   "source": [
    "boolean_index = np.array([False,True,False,True,False,True,False,True,False])\n",
    "array3 = array1d[boolean_index]\n",
    "print(\"불리언 인덱싱으로 필터링 결과 : \",array3)"
   ]
  },
  {
   "cell_type": "code",
   "execution_count": 94,
   "metadata": {},
   "outputs": [
    {
     "name": "stdout",
     "output_type": "stream",
     "text": [
      "일반 인덱싱 필터링 결과 :  [2 4 6 8]\n"
     ]
    }
   ],
   "source": [
    "index = ([1,3,5,7])\n",
    "array4 = array1d[index]\n",
    "print(\"일반 인덱싱 필터링 결과 : \",array4)"
   ]
  },
  {
   "cell_type": "code",
   "execution_count": 95,
   "metadata": {},
   "outputs": [
    {
     "name": "stdout",
     "output_type": "stream",
     "text": [
      "origin array :  [3 1 9 5]\n",
      "np.sort array :  [1 3 5 9]\n",
      "origin array :  [3 1 9 5]\n",
      "ndarray.sort array :  None\n",
      "origin array :  [1 3 5 9]\n"
     ]
    }
   ],
   "source": [
    "org_array = np.array([3,1,9,5])\n",
    "print(\"origin array : \", org_array)\n",
    "sort_array1 = np.sort(org_array)\n",
    "print(\"np.sort array : \",sort_array1)\n",
    "print(\"origin array : \", org_array)\n",
    "sort_array2 = org_array.sort()\n",
    "print(\"ndarray.sort array : \",sort_array2)\n",
    "print(\"origin array : \", org_array)"
   ]
  },
  {
   "cell_type": "code",
   "execution_count": 96,
   "metadata": {},
   "outputs": [
    {
     "name": "stdout",
     "output_type": "stream",
     "text": [
      "descending :  [9 5 3 1]\n"
     ]
    }
   ],
   "source": [
    "sort_array_desc = np.sort(org_array)[::-1]\n",
    "print(\"descending : \",sort_array_desc)"
   ]
  },
  {
   "cell_type": "code",
   "execution_count": 97,
   "metadata": {},
   "outputs": [],
   "source": [
    "array2d = np.array([[8,12],[7,1]])"
   ]
  },
  {
   "cell_type": "code",
   "execution_count": 100,
   "metadata": {},
   "outputs": [
    {
     "name": "stdout",
     "output_type": "stream",
     "text": [
      "axis0 sort : \n",
      " [[ 7  1]\n",
      " [ 8 12]]\n",
      "axis1 sort : \n",
      " [[ 8 12]\n",
      " [ 1  7]]\n"
     ]
    }
   ],
   "source": [
    "sort_array2d_axis0 = np.sort(array2d, axis = 0)\n",
    "print(\"axis0 sort : \\n\", sort_array2d_axis0)\n",
    "sort_array2d_axis1 = np.sort(array2d, axis = 1)\n",
    "print(\"axis1 sort : \\n\", sort_array2d_axis1)"
   ]
  },
  {
   "cell_type": "code",
   "execution_count": 101,
   "metadata": {},
   "outputs": [
    {
     "name": "stdout",
     "output_type": "stream",
     "text": [
      "<class 'numpy.ndarray'>\n",
      "행렬 정렬 시 원본 행렬의 인덱스 :  [1 0 3 2]\n"
     ]
    }
   ],
   "source": [
    "org_array = np.array([3,1,9,5])\n",
    "sort_indices = np.argsort(org_array)\n",
    "print(type(sort_indices))\n",
    "print(\"행렬 정렬 시 원본 행렬의 인덱스 : \",sort_indices)"
   ]
  },
  {
   "cell_type": "code",
   "execution_count": 102,
   "metadata": {},
   "outputs": [
    {
     "name": "stdout",
     "output_type": "stream",
     "text": [
      "index's desc :  [2 3 0 1]\n"
     ]
    }
   ],
   "source": [
    "sort_indices_desc = np.argsort(org_array)[::-1]\n",
    "print(\"index's desc : \",sort_indices_desc)"
   ]
  },
  {
   "cell_type": "code",
   "execution_count": 107,
   "metadata": {},
   "outputs": [
    {
     "name": "stdout",
     "output_type": "stream",
     "text": [
      "오름차순 정렬 :  [3 4 2 1 0]\n",
      "오름차순 정렬 이름 출력 :  ['Dole' 'Eric' 'Carl' 'Bee' 'Ann']\n"
     ]
    }
   ],
   "source": [
    "name_array = np.array([\"Ann\",\"Bee\",\"Carl\",\"Dole\",\"Eric\"])\n",
    "score_array = np.array([100,95,60,12,50])\n",
    "\n",
    "sort_indices_asc = np.argsort(score_array)\n",
    "print(\"오름차순 정렬 : \",sort_indices_asc)\n",
    "print(\"오름차순 정렬 이름 출력 : \",name_array[sort_indices_asc])"
   ]
  },
  {
   "cell_type": "code",
   "execution_count": 109,
   "metadata": {},
   "outputs": [
    {
     "name": "stdout",
     "output_type": "stream",
     "text": [
      "내적결과 : \n",
      " [[ 58  64]\n",
      " [139 154]]\n"
     ]
    }
   ],
   "source": [
    "a=np.array([[1,2,3],[4,5,6]])\n",
    "b=np.array([[7,8],[9,10],[11,12]])\n",
    "dot_array = np.dot(a,b)\n",
    "print(\"내적결과 : \\n\",dot_array)"
   ]
  },
  {
   "cell_type": "code",
   "execution_count": 112,
   "metadata": {},
   "outputs": [
    {
     "name": "stdout",
     "output_type": "stream",
     "text": [
      "a의 전치행렬 : \n",
      " [[1 3]\n",
      " [2 4]]\n"
     ]
    }
   ],
   "source": [
    "a=np.array([[1,2],[3,4]])\n",
    "trans_mat = np.transpose(a)\n",
    "print(\"a의 전치행렬 : \\n\",trans_mat)"
   ]
  },
  {
   "cell_type": "code",
   "execution_count": null,
   "metadata": {},
   "outputs": [],
   "source": []
  }
 ],
 "metadata": {
  "kernelspec": {
   "display_name": "Python 3",
   "language": "python",
   "name": "python3"
  },
  "language_info": {
   "codemirror_mode": {
    "name": "ipython",
    "version": 3
   },
   "file_extension": ".py",
   "mimetype": "text/x-python",
   "name": "python",
   "nbconvert_exporter": "python",
   "pygments_lexer": "ipython3",
   "version": "3.8.5"
  }
 },
 "nbformat": 4,
 "nbformat_minor": 4
}
