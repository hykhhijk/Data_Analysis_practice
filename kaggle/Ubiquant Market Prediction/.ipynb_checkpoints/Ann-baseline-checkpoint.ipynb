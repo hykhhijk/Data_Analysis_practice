{
 "cells": [
  {
   "cell_type": "markdown",
   "id": "2e645fed",
   "metadata": {
    "papermill": {
     "duration": 0.013553,
     "end_time": "2022-03-30T13:31:43.996765",
     "exception": false,
     "start_time": "2022-03-30T13:31:43.983212",
     "status": "completed"
    },
    "tags": []
   },
   "source": [
    "# Baseline for Ubiquant Market Prediction using ANN"
   ]
  },
  {
   "cell_type": "code",
   "execution_count": null,
   "id": "6a7e9b50",
   "metadata": {
    "ExecuteTime": {
     "start_time": "2022-04-05T13:16:40.458Z"
    }
   },
   "outputs": [],
   "source": [
    "!kaggle datasets download -d robikscube/ubiquant-parquet"
   ]
  },
  {
   "cell_type": "markdown",
   "id": "2df32325",
   "metadata": {
    "papermill": {
     "duration": 0.015503,
     "end_time": "2022-03-30T13:31:44.032652",
     "exception": false,
     "start_time": "2022-03-30T13:31:44.017149",
     "status": "completed"
    },
    "tags": []
   },
   "source": [
    "**Thanks to notebook contributors for make baseline for my notebook**\n",
    "- https://www.kaggle.com/code/sohier/competition-api-detailed-introduction/notebook\n",
    "- https://www.kaggle.com/code/pythonash/end-to-end-simple-and-powerful-dnn-with-leakyrelu\n",
    "- https://www.kaggle.com/code/robikscube/fast-data-loading-and-low-mem-with-parquet-files"
   ]
  },
  {
   "cell_type": "markdown",
   "id": "986c84d1",
   "metadata": {
    "papermill": {
     "duration": 0.009485,
     "end_time": "2022-03-30T13:31:44.051944",
     "exception": false,
     "start_time": "2022-03-30T13:31:44.042459",
     "status": "completed"
    },
    "tags": []
   },
   "source": [
    "First import libraries and dataset."
   ]
  },
  {
   "cell_type": "code",
   "execution_count": 1,
   "id": "6cd37d25",
   "metadata": {
    "_cell_guid": "b1076dfc-b9ad-4769-8c92-a6c4dae69d19",
    "_uuid": "8f2839f25d086af736a60e9eeb907d3b93b6e0e5",
    "execution": {
     "iopub.execute_input": "2022-03-30T13:31:44.081556Z",
     "iopub.status.busy": "2022-03-30T13:31:44.080942Z",
     "iopub.status.idle": "2022-03-30T13:31:51.961638Z",
     "shell.execute_reply": "2022-03-30T13:31:51.960466Z",
     "shell.execute_reply.started": "2022-03-30T12:46:06.43505Z"
    },
    "papermill": {
     "duration": 7.900134,
     "end_time": "2022-03-30T13:31:51.961783",
     "exception": false,
     "start_time": "2022-03-30T13:31:44.061649",
     "status": "completed"
    },
    "tags": []
   },
   "outputs": [],
   "source": [
    "import numpy as np # linear algebra\n",
    "import pandas as pd # data processing, CSV file I/O (e.g. pd.read_csv)\n",
    "import tensorflow.keras as keras\n",
    "import tensorflow as tf\n",
    "import cudf\n",
    "import os"
   ]
  },
  {
   "cell_type": "code",
   "execution_count": 2,
   "id": "05d993ae",
   "metadata": {
    "execution": {
     "iopub.execute_input": "2022-03-30T13:31:51.987891Z",
     "iopub.status.busy": "2022-03-30T13:31:51.987095Z",
     "iopub.status.idle": "2022-03-30T13:32:31.312242Z",
     "shell.execute_reply": "2022-03-30T13:32:31.311320Z",
     "shell.execute_reply.started": "2022-03-30T12:23:42.620177Z"
    },
    "papermill": {
     "duration": 39.340095,
     "end_time": "2022-03-30T13:32:31.312397",
     "exception": false,
     "start_time": "2022-03-30T13:31:51.972302",
     "status": "completed"
    },
    "tags": []
   },
   "outputs": [],
   "source": [
    "df = pd.read_parquet('../input/ubiquant-parquet/train_low_mem.parquet')"
   ]
  },
  {
   "cell_type": "markdown",
   "id": "0d91f320",
   "metadata": {
    "papermill": {
     "duration": 0.009666,
     "end_time": "2022-03-30T13:32:31.332587",
     "exception": false,
     "start_time": "2022-03-30T13:32:31.322921",
     "status": "completed"
    },
    "tags": []
   },
   "source": [
    "# Preprocess dataset\n",
    "\n",
    "Because of it's baseline I use only f_n for features for X_train."
   ]
  },
  {
   "cell_type": "code",
   "execution_count": 3,
   "id": "3c72961c",
   "metadata": {
    "execution": {
     "iopub.execute_input": "2022-03-30T13:32:34.337172Z",
     "iopub.status.busy": "2022-03-30T13:32:34.321467Z",
     "iopub.status.idle": "2022-03-30T13:32:41.679382Z",
     "shell.execute_reply": "2022-03-30T13:32:41.678908Z",
     "shell.execute_reply.started": "2022-03-30T12:24:10.683925Z"
    },
    "papermill": {
     "duration": 10.336824,
     "end_time": "2022-03-30T13:32:41.679509",
     "exception": false,
     "start_time": "2022-03-30T13:32:31.342685",
     "status": "completed"
    },
    "tags": []
   },
   "outputs": [],
   "source": [
    "index_col = df.drop([\"row_id\", \"time_id\", \"investment_id\", \"target\"], axis=1).columns\n",
    "X_train = df[index_col]\n",
    "X_train = X_train.astype(\"float16\")"
   ]
  },
  {
   "cell_type": "code",
   "execution_count": 4,
   "id": "5c9c5f6a",
   "metadata": {
    "execution": {
     "iopub.execute_input": "2022-03-30T13:32:41.704460Z",
     "iopub.status.busy": "2022-03-30T13:32:41.703344Z",
     "iopub.status.idle": "2022-03-30T13:32:41.705179Z",
     "shell.execute_reply": "2022-03-30T13:32:41.705565Z"
    },
    "papermill": {
     "duration": 0.016035,
     "end_time": "2022-03-30T13:32:41.705694",
     "exception": false,
     "start_time": "2022-03-30T13:32:41.689659",
     "status": "completed"
    },
    "tags": []
   },
   "outputs": [],
   "source": [
    "y_train = df[\"target\"]"
   ]
  },
  {
   "cell_type": "markdown",
   "id": "75a8ada0",
   "metadata": {
    "papermill": {
     "duration": 0.011464,
     "end_time": "2022-03-30T13:32:41.727097",
     "exception": false,
     "start_time": "2022-03-30T13:32:41.715633",
     "status": "completed"
    },
    "tags": []
   },
   "source": [
    "# Making model\n",
    "\n",
    "I make simple model using Dense layer and BatchNormalizaion without hyper parameter tuning."
   ]
  },
  {
   "cell_type": "code",
   "execution_count": 5,
   "id": "ba65d498",
   "metadata": {
    "execution": {
     "iopub.execute_input": "2022-03-30T13:32:41.753747Z",
     "iopub.status.busy": "2022-03-30T13:32:41.753248Z",
     "iopub.status.idle": "2022-03-30T13:32:45.722742Z",
     "shell.execute_reply": "2022-03-30T13:32:45.723351Z"
    },
    "papermill": {
     "duration": 3.986594,
     "end_time": "2022-03-30T13:32:45.723539",
     "exception": false,
     "start_time": "2022-03-30T13:32:41.736945",
     "status": "completed"
    },
    "tags": []
   },
   "outputs": [
    {
     "name": "stderr",
     "output_type": "stream",
     "text": [
      "2022-03-30 13:32:41.805405: I tensorflow/stream_executor/cuda/cuda_gpu_executor.cc:937] successful NUMA node read from SysFS had negative value (-1), but there must be at least one NUMA node, so returning NUMA node zero\n",
      "2022-03-30 13:32:41.810540: I tensorflow/stream_executor/cuda/cuda_gpu_executor.cc:937] successful NUMA node read from SysFS had negative value (-1), but there must be at least one NUMA node, so returning NUMA node zero\n",
      "2022-03-30 13:32:41.811218: I tensorflow/stream_executor/cuda/cuda_gpu_executor.cc:937] successful NUMA node read from SysFS had negative value (-1), but there must be at least one NUMA node, so returning NUMA node zero\n",
      "2022-03-30 13:32:41.812805: I tensorflow/core/platform/cpu_feature_guard.cc:142] This TensorFlow binary is optimized with oneAPI Deep Neural Network Library (oneDNN) to use the following CPU instructions in performance-critical operations:  AVX2 AVX512F FMA\n",
      "To enable them in other operations, rebuild TensorFlow with the appropriate compiler flags.\n",
      "2022-03-30 13:32:41.813081: I tensorflow/stream_executor/cuda/cuda_gpu_executor.cc:937] successful NUMA node read from SysFS had negative value (-1), but there must be at least one NUMA node, so returning NUMA node zero\n",
      "2022-03-30 13:32:41.813721: I tensorflow/stream_executor/cuda/cuda_gpu_executor.cc:937] successful NUMA node read from SysFS had negative value (-1), but there must be at least one NUMA node, so returning NUMA node zero\n",
      "2022-03-30 13:32:41.814357: I tensorflow/stream_executor/cuda/cuda_gpu_executor.cc:937] successful NUMA node read from SysFS had negative value (-1), but there must be at least one NUMA node, so returning NUMA node zero\n",
      "2022-03-30 13:32:45.309244: I tensorflow/stream_executor/cuda/cuda_gpu_executor.cc:937] successful NUMA node read from SysFS had negative value (-1), but there must be at least one NUMA node, so returning NUMA node zero\n",
      "2022-03-30 13:32:45.310023: I tensorflow/stream_executor/cuda/cuda_gpu_executor.cc:937] successful NUMA node read from SysFS had negative value (-1), but there must be at least one NUMA node, so returning NUMA node zero\n",
      "2022-03-30 13:32:45.310644: I tensorflow/stream_executor/cuda/cuda_gpu_executor.cc:937] successful NUMA node read from SysFS had negative value (-1), but there must be at least one NUMA node, so returning NUMA node zero\n",
      "2022-03-30 13:32:45.312152: I tensorflow/core/common_runtime/gpu/gpu_device.cc:1510] Created device /job:localhost/replica:0/task:0/device:GPU:0 with 15189 MB memory:  -> device: 0, name: Tesla P100-PCIE-16GB, pci bus id: 0000:00:04.0, compute capability: 6.0\n"
     ]
    }
   ],
   "source": [
    "Input = keras.layers.Input(shape=X_train.shape[1])\n",
    "x = keras.layers.Dense(128, activation=\"relu\")(Input)\n",
    "x = keras.layers.BatchNormalization()(x)\n",
    "x = keras.layers.Dense(64, activation=\"relu\")(x)\n",
    "x = keras.layers.BatchNormalization()(x)\n",
    "x = keras.layers.Dense(32, activation=\"relu\")(x)\n",
    "x = keras.layers.BatchNormalization()(x)\n",
    "x = keras.layers.Dense(16, activation=\"relu\")(x)\n",
    "x = x = keras.layers.BatchNormalization()(x)\n",
    "Output = keras.layers.Dense(1, activation=\"linear\")(x)\n",
    "\n",
    "model = keras.models.Model(inputs = Input, outputs = Output)"
   ]
  },
  {
   "cell_type": "code",
   "execution_count": 6,
   "id": "6ff81b20",
   "metadata": {
    "execution": {
     "iopub.execute_input": "2022-03-30T13:32:45.751718Z",
     "iopub.status.busy": "2022-03-30T13:32:45.750965Z",
     "iopub.status.idle": "2022-03-30T14:05:48.148745Z",
     "shell.execute_reply": "2022-03-30T14:05:48.148314Z"
    },
    "papermill": {
     "duration": 1982.413617,
     "end_time": "2022-03-30T14:05:48.148882",
     "exception": false,
     "start_time": "2022-03-30T13:32:45.735265",
     "status": "completed"
    },
    "tags": []
   },
   "outputs": [
    {
     "name": "stderr",
     "output_type": "stream",
     "text": [
      "2022-03-30 13:32:47.065562: W tensorflow/core/framework/cpu_allocator_impl.cc:80] Allocation of 1507876800 exceeds 10% of free system memory.\n",
      "2022-03-30 13:32:48.587754: W tensorflow/core/framework/cpu_allocator_impl.cc:80] Allocation of 1507876800 exceeds 10% of free system memory.\n",
      "2022-03-30 13:32:49.722527: I tensorflow/compiler/mlir/mlir_graph_optimization_pass.cc:185] None of the MLIR Optimization Passes are enabled (registered 2)\n"
     ]
    },
    {
     "name": "stdout",
     "output_type": "stream",
     "text": [
      "Epoch 1/5\n",
      "78530/78536 [============================>.] - ETA: 0s - loss: 0.8407"
     ]
    },
    {
     "name": "stderr",
     "output_type": "stream",
     "text": [
      "2022-03-30 13:38:42.912274: W tensorflow/core/framework/cpu_allocator_impl.cc:80] Allocation of 376969200 exceeds 10% of free system memory.\n",
      "2022-03-30 13:38:43.300609: W tensorflow/core/framework/cpu_allocator_impl.cc:80] Allocation of 376969200 exceeds 10% of free system memory.\n"
     ]
    },
    {
     "name": "stdout",
     "output_type": "stream",
     "text": [
      "78536/78536 [==============================] - 382s 5ms/step - loss: 0.8408 - val_loss: 0.8067\n",
      "Epoch 2/5\n",
      "78536/78536 [==============================] - 404s 5ms/step - loss: 0.8327 - val_loss: 0.8113\n",
      "Epoch 3/5\n",
      "78536/78536 [==============================] - 391s 5ms/step - loss: 0.8298 - val_loss: 0.8083\n",
      "Epoch 4/5\n",
      "78536/78536 [==============================] - 403s 5ms/step - loss: 0.8276 - val_loss: 0.8088\n",
      "Epoch 5/5\n",
      "78536/78536 [==============================] - 398s 5ms/step - loss: 0.8257 - val_loss: 0.8106\n"
     ]
    },
    {
     "data": {
      "text/plain": [
       "<keras.callbacks.History at 0x7f5d5329c750>"
      ]
     },
     "execution_count": 6,
     "metadata": {},
     "output_type": "execute_result"
    }
   ],
   "source": [
    "model.compile(loss=\"mean_squared_error\", optimizer=\"adam\")\n",
    "model.fit(X_train, y_train, validation_split=0.2, epochs=5)"
   ]
  },
  {
   "cell_type": "code",
   "execution_count": 7,
   "id": "91ae5614",
   "metadata": {
    "execution": {
     "iopub.execute_input": "2022-03-30T14:06:10.777409Z",
     "iopub.status.busy": "2022-03-30T14:06:10.776535Z",
     "iopub.status.idle": "2022-03-30T14:06:10.847457Z",
     "shell.execute_reply": "2022-03-30T14:06:10.847904Z"
    },
    "papermill": {
     "duration": 11.127313,
     "end_time": "2022-03-30T14:06:10.848055",
     "exception": false,
     "start_time": "2022-03-30T14:05:59.720742",
     "status": "completed"
    },
    "tags": []
   },
   "outputs": [],
   "source": [
    "model.save(\"model.h5\")"
   ]
  },
  {
   "cell_type": "markdown",
   "id": "42972886",
   "metadata": {
    "papermill": {
     "duration": 11.551319,
     "end_time": "2022-03-30T14:06:33.781957",
     "exception": false,
     "start_time": "2022-03-30T14:06:22.230638",
     "status": "completed"
    },
    "tags": []
   },
   "source": [
    "# Submission"
   ]
  },
  {
   "cell_type": "code",
   "execution_count": 8,
   "id": "72f9d36e",
   "metadata": {
    "execution": {
     "iopub.execute_input": "2022-03-30T14:06:55.803323Z",
     "iopub.status.busy": "2022-03-30T14:06:55.802662Z",
     "iopub.status.idle": "2022-03-30T14:06:56.287773Z",
     "shell.execute_reply": "2022-03-30T14:06:56.288474Z",
     "shell.execute_reply.started": "2022-03-30T12:24:31.994612Z"
    },
    "papermill": {
     "duration": 11.496034,
     "end_time": "2022-03-30T14:06:56.288633",
     "exception": false,
     "start_time": "2022-03-30T14:06:44.792599",
     "status": "completed"
    },
    "tags": []
   },
   "outputs": [
    {
     "name": "stdout",
     "output_type": "stream",
     "text": [
      "This version of the API is not optimized and should not be used to estimate the runtime of your code on the hidden test set.\n"
     ]
    }
   ],
   "source": [
    "import ubiquant\n",
    "model = tf.keras.models.load_model('model.h5')\n",
    "env = ubiquant.make_env()   \n",
    "iter_test = env.iter_test()    \n",
    "for (test_df, sample_prediction_df) in iter_test:\n",
    "    sample_prediction_df[\"target\"] = model.predict(test_df[index_col].astype(\"float16\"))\n",
    "    env.predict(sample_prediction_df)"
   ]
  }
 ],
 "metadata": {
  "kernelspec": {
   "display_name": "Python 3",
   "language": "python",
   "name": "python3"
  },
  "language_info": {
   "codemirror_mode": {
    "name": "ipython",
    "version": 3
   },
   "file_extension": ".py",
   "mimetype": "text/x-python",
   "name": "python",
   "nbconvert_exporter": "python",
   "pygments_lexer": "ipython3",
   "version": "3.6.8"
  },
  "papermill": {
   "default_parameters": {},
   "duration": 2134.664216,
   "end_time": "2022-03-30T14:07:10.868727",
   "environment_variables": {},
   "exception": null,
   "input_path": "__notebook__.ipynb",
   "output_path": "__notebook__.ipynb",
   "parameters": {},
   "start_time": "2022-03-30T13:31:36.204511",
   "version": "2.3.3"
  },
  "toc": {
   "base_numbering": 1,
   "nav_menu": {},
   "number_sections": true,
   "sideBar": true,
   "skip_h1_title": false,
   "title_cell": "Table of Contents",
   "title_sidebar": "Contents",
   "toc_cell": false,
   "toc_position": {},
   "toc_section_display": true,
   "toc_window_display": true
  },
  "varInspector": {
   "cols": {
    "lenName": 16,
    "lenType": 16,
    "lenVar": 40
   },
   "kernels_config": {
    "python": {
     "delete_cmd_postfix": "",
     "delete_cmd_prefix": "del ",
     "library": "var_list.py",
     "varRefreshCmd": "print(var_dic_list())"
    },
    "r": {
     "delete_cmd_postfix": ") ",
     "delete_cmd_prefix": "rm(",
     "library": "var_list.r",
     "varRefreshCmd": "cat(var_dic_list()) "
    }
   },
   "types_to_exclude": [
    "module",
    "function",
    "builtin_function_or_method",
    "instance",
    "_Feature"
   ],
   "window_display": false
  }
 },
 "nbformat": 4,
 "nbformat_minor": 5
}
