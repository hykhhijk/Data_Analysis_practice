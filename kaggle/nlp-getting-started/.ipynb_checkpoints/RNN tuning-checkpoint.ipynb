{
 "cells": [
  {
   "cell_type": "code",
   "execution_count": 29,
   "id": "85b2d672",
   "metadata": {
    "ExecuteTime": {
     "end_time": "2022-06-02T07:51:04.227873Z",
     "start_time": "2022-06-02T07:51:04.208082Z"
    }
   },
   "outputs": [],
   "source": [
    "import pandas as pd\n",
    "import numpy as np\n",
    "import matplotlib.pyplot as plt\n",
    "import re\n",
    "from tensorflow import keras\n",
    "from sklearn.model_selection import train_test_split\n",
    "from sklearn.preprocessing import LabelEncoder\n",
    "from sklearn.ensemble import RandomForestClassifier\n",
    "import nltk\n",
    "import string\n",
    "import tensorflow_hub as hub\n",
    "import tensorflow as tf"
   ]
  },
  {
   "cell_type": "markdown",
   "id": "afed4265",
   "metadata": {},
   "source": [
    "# Import libraries & data "
   ]
  },
  {
   "cell_type": "code",
   "execution_count": 30,
   "id": "206f41a6",
   "metadata": {
    "ExecuteTime": {
     "end_time": "2022-06-02T07:51:04.275220Z",
     "start_time": "2022-06-02T07:51:04.229870Z"
    }
   },
   "outputs": [],
   "source": [
    "X = pd.read_csv(\"D:/kaggle_datasets/nlp-getting-started/train.csv\")\n",
    "X_test = pd.read_csv(\"D:/kaggle_datasets/nlp-getting-started/test.csv\")\n",
    "submission = pd.read_csv(\"D:/kaggle_datasets/nlp-getting-started/sample_submission.csv\")\n",
    "y = X[\"target\"]"
   ]
  },
  {
   "cell_type": "code",
   "execution_count": 31,
   "id": "0248a745",
   "metadata": {
    "ExecuteTime": {
     "end_time": "2022-06-02T07:51:04.291230Z",
     "start_time": "2022-06-02T07:51:04.275805Z"
    }
   },
   "outputs": [
    {
     "data": {
      "text/html": [
       "<div>\n",
       "<style scoped>\n",
       "    .dataframe tbody tr th:only-of-type {\n",
       "        vertical-align: middle;\n",
       "    }\n",
       "\n",
       "    .dataframe tbody tr th {\n",
       "        vertical-align: top;\n",
       "    }\n",
       "\n",
       "    .dataframe thead th {\n",
       "        text-align: right;\n",
       "    }\n",
       "</style>\n",
       "<table border=\"1\" class=\"dataframe\">\n",
       "  <thead>\n",
       "    <tr style=\"text-align: right;\">\n",
       "      <th></th>\n",
       "      <th>id</th>\n",
       "      <th>keyword</th>\n",
       "      <th>location</th>\n",
       "      <th>text</th>\n",
       "      <th>target</th>\n",
       "    </tr>\n",
       "  </thead>\n",
       "  <tbody>\n",
       "    <tr>\n",
       "      <th>0</th>\n",
       "      <td>1</td>\n",
       "      <td>NaN</td>\n",
       "      <td>NaN</td>\n",
       "      <td>Our Deeds are the Reason of this #earthquake M...</td>\n",
       "      <td>1</td>\n",
       "    </tr>\n",
       "    <tr>\n",
       "      <th>1</th>\n",
       "      <td>4</td>\n",
       "      <td>NaN</td>\n",
       "      <td>NaN</td>\n",
       "      <td>Forest fire near La Ronge Sask. Canada</td>\n",
       "      <td>1</td>\n",
       "    </tr>\n",
       "    <tr>\n",
       "      <th>2</th>\n",
       "      <td>5</td>\n",
       "      <td>NaN</td>\n",
       "      <td>NaN</td>\n",
       "      <td>All residents asked to 'shelter in place' are ...</td>\n",
       "      <td>1</td>\n",
       "    </tr>\n",
       "    <tr>\n",
       "      <th>3</th>\n",
       "      <td>6</td>\n",
       "      <td>NaN</td>\n",
       "      <td>NaN</td>\n",
       "      <td>13,000 people receive #wildfires evacuation or...</td>\n",
       "      <td>1</td>\n",
       "    </tr>\n",
       "    <tr>\n",
       "      <th>4</th>\n",
       "      <td>7</td>\n",
       "      <td>NaN</td>\n",
       "      <td>NaN</td>\n",
       "      <td>Just got sent this photo from Ruby #Alaska as ...</td>\n",
       "      <td>1</td>\n",
       "    </tr>\n",
       "    <tr>\n",
       "      <th>...</th>\n",
       "      <td>...</td>\n",
       "      <td>...</td>\n",
       "      <td>...</td>\n",
       "      <td>...</td>\n",
       "      <td>...</td>\n",
       "    </tr>\n",
       "    <tr>\n",
       "      <th>7608</th>\n",
       "      <td>10869</td>\n",
       "      <td>NaN</td>\n",
       "      <td>NaN</td>\n",
       "      <td>Two giant cranes holding a bridge collapse int...</td>\n",
       "      <td>1</td>\n",
       "    </tr>\n",
       "    <tr>\n",
       "      <th>7609</th>\n",
       "      <td>10870</td>\n",
       "      <td>NaN</td>\n",
       "      <td>NaN</td>\n",
       "      <td>@aria_ahrary @TheTawniest The out of control w...</td>\n",
       "      <td>1</td>\n",
       "    </tr>\n",
       "    <tr>\n",
       "      <th>7610</th>\n",
       "      <td>10871</td>\n",
       "      <td>NaN</td>\n",
       "      <td>NaN</td>\n",
       "      <td>M1.94 [01:04 UTC]?5km S of Volcano Hawaii. htt...</td>\n",
       "      <td>1</td>\n",
       "    </tr>\n",
       "    <tr>\n",
       "      <th>7611</th>\n",
       "      <td>10872</td>\n",
       "      <td>NaN</td>\n",
       "      <td>NaN</td>\n",
       "      <td>Police investigating after an e-bike collided ...</td>\n",
       "      <td>1</td>\n",
       "    </tr>\n",
       "    <tr>\n",
       "      <th>7612</th>\n",
       "      <td>10873</td>\n",
       "      <td>NaN</td>\n",
       "      <td>NaN</td>\n",
       "      <td>The Latest: More Homes Razed by Northern Calif...</td>\n",
       "      <td>1</td>\n",
       "    </tr>\n",
       "  </tbody>\n",
       "</table>\n",
       "<p>7613 rows × 5 columns</p>\n",
       "</div>"
      ],
      "text/plain": [
       "         id keyword location  \\\n",
       "0         1     NaN      NaN   \n",
       "1         4     NaN      NaN   \n",
       "2         5     NaN      NaN   \n",
       "3         6     NaN      NaN   \n",
       "4         7     NaN      NaN   \n",
       "...     ...     ...      ...   \n",
       "7608  10869     NaN      NaN   \n",
       "7609  10870     NaN      NaN   \n",
       "7610  10871     NaN      NaN   \n",
       "7611  10872     NaN      NaN   \n",
       "7612  10873     NaN      NaN   \n",
       "\n",
       "                                                   text  target  \n",
       "0     Our Deeds are the Reason of this #earthquake M...       1  \n",
       "1                Forest fire near La Ronge Sask. Canada       1  \n",
       "2     All residents asked to 'shelter in place' are ...       1  \n",
       "3     13,000 people receive #wildfires evacuation or...       1  \n",
       "4     Just got sent this photo from Ruby #Alaska as ...       1  \n",
       "...                                                 ...     ...  \n",
       "7608  Two giant cranes holding a bridge collapse int...       1  \n",
       "7609  @aria_ahrary @TheTawniest The out of control w...       1  \n",
       "7610  M1.94 [01:04 UTC]?5km S of Volcano Hawaii. htt...       1  \n",
       "7611  Police investigating after an e-bike collided ...       1  \n",
       "7612  The Latest: More Homes Razed by Northern Calif...       1  \n",
       "\n",
       "[7613 rows x 5 columns]"
      ]
     },
     "execution_count": 31,
     "metadata": {},
     "output_type": "execute_result"
    }
   ],
   "source": [
    "X"
   ]
  },
  {
   "cell_type": "code",
   "execution_count": 32,
   "id": "c255a87b",
   "metadata": {
    "ExecuteTime": {
     "end_time": "2022-06-02T07:51:04.307061Z",
     "start_time": "2022-06-02T07:51:04.293200Z"
    }
   },
   "outputs": [],
   "source": [
    "X = X[\"text\"]"
   ]
  },
  {
   "cell_type": "code",
   "execution_count": 33,
   "id": "222416e1",
   "metadata": {
    "ExecuteTime": {
     "end_time": "2022-06-02T07:51:04.322596Z",
     "start_time": "2022-06-02T07:51:04.309033Z"
    }
   },
   "outputs": [
    {
     "data": {
      "text/plain": [
       "0    Our Deeds are the Reason of this #earthquake M...\n",
       "1               Forest fire near La Ronge Sask. Canada\n",
       "2    All residents asked to 'shelter in place' are ...\n",
       "3    13,000 people receive #wildfires evacuation or...\n",
       "4    Just got sent this photo from Ruby #Alaska as ...\n",
       "Name: text, dtype: object"
      ]
     },
     "execution_count": 33,
     "metadata": {},
     "output_type": "execute_result"
    }
   ],
   "source": [
    "X[:5]"
   ]
  },
  {
   "cell_type": "markdown",
   "id": "2b65b6a7",
   "metadata": {},
   "source": [
    "## Delete noise"
   ]
  },
  {
   "cell_type": "code",
   "execution_count": 34,
   "id": "611599a5",
   "metadata": {
    "ExecuteTime": {
     "end_time": "2022-06-02T07:51:04.480059Z",
     "start_time": "2022-06-02T07:51:04.324575Z"
    }
   },
   "outputs": [],
   "source": [
    "def clean_text(text):\n",
    "    '''Make text lowercase, remove text in square brackets,remove links,remove punctuation\n",
    "    and remove words containing numbers.'''\n",
    "    text = text.lower()\n",
    "    text = re.sub('\\[.*?\\]', '', text) \n",
    "    text = re.sub('https?://\\S+|www\\.\\S+', '', text)\n",
    "    text = re.sub('<.*?>+', '', text)\n",
    "    text = re.sub('[%s]' % re.escape(string.punctuation), '', text)\n",
    "    text = re.sub('\\n', '', text)\n",
    "    text = re.sub('\\w*\\d\\w*', '', text)\n",
    "    return text\n",
    "X = pd.Series(map(clean_text, X))"
   ]
  },
  {
   "cell_type": "code",
   "execution_count": 35,
   "id": "58c99d3a",
   "metadata": {
    "ExecuteTime": {
     "end_time": "2022-06-02T07:51:04.495241Z",
     "start_time": "2022-06-02T07:51:04.481057Z"
    }
   },
   "outputs": [
    {
     "data": {
      "text/plain": [
       "0    our deeds are the reason of this earthquake ma...\n",
       "1                forest fire near la ronge sask canada\n",
       "2    all residents asked to shelter in place are be...\n",
       "3     people receive wildfires evacuation orders in...\n",
       "4    just got sent this photo from ruby alaska as s...\n",
       "dtype: object"
      ]
     },
     "execution_count": 35,
     "metadata": {},
     "output_type": "execute_result"
    }
   ],
   "source": [
    "X[:5]"
   ]
  },
  {
   "cell_type": "markdown",
   "id": "3bbb4dd9",
   "metadata": {},
   "source": [
    "# Tokenize"
   ]
  },
  {
   "cell_type": "code",
   "execution_count": 36,
   "id": "ae55a0f8",
   "metadata": {
    "ExecuteTime": {
     "end_time": "2022-06-02T07:51:05.177572Z",
     "start_time": "2022-06-02T07:51:04.497207Z"
    }
   },
   "outputs": [],
   "source": [
    "X = [nltk.word_tokenize(sentence) for sentence in X]"
   ]
  },
  {
   "cell_type": "code",
   "execution_count": 37,
   "id": "7645eb00",
   "metadata": {
    "ExecuteTime": {
     "end_time": "2022-06-02T07:51:05.208641Z",
     "start_time": "2022-06-02T07:51:05.179465Z"
    }
   },
   "outputs": [
    {
     "data": {
      "text/html": [
       "<div>\n",
       "<style scoped>\n",
       "    .dataframe tbody tr th:only-of-type {\n",
       "        vertical-align: middle;\n",
       "    }\n",
       "\n",
       "    .dataframe tbody tr th {\n",
       "        vertical-align: top;\n",
       "    }\n",
       "\n",
       "    .dataframe thead th {\n",
       "        text-align: right;\n",
       "    }\n",
       "</style>\n",
       "<table border=\"1\" class=\"dataframe\">\n",
       "  <thead>\n",
       "    <tr style=\"text-align: right;\">\n",
       "      <th></th>\n",
       "      <th>0</th>\n",
       "      <th>1</th>\n",
       "      <th>2</th>\n",
       "      <th>3</th>\n",
       "      <th>4</th>\n",
       "      <th>5</th>\n",
       "      <th>6</th>\n",
       "      <th>7</th>\n",
       "      <th>8</th>\n",
       "      <th>9</th>\n",
       "      <th>...</th>\n",
       "      <th>12</th>\n",
       "      <th>13</th>\n",
       "      <th>14</th>\n",
       "      <th>15</th>\n",
       "      <th>16</th>\n",
       "      <th>17</th>\n",
       "      <th>18</th>\n",
       "      <th>19</th>\n",
       "      <th>20</th>\n",
       "      <th>21</th>\n",
       "    </tr>\n",
       "  </thead>\n",
       "  <tbody>\n",
       "    <tr>\n",
       "      <th>0</th>\n",
       "      <td>our</td>\n",
       "      <td>deeds</td>\n",
       "      <td>are</td>\n",
       "      <td>the</td>\n",
       "      <td>reason</td>\n",
       "      <td>of</td>\n",
       "      <td>this</td>\n",
       "      <td>earthquake</td>\n",
       "      <td>may</td>\n",
       "      <td>allah</td>\n",
       "      <td>...</td>\n",
       "      <td>all</td>\n",
       "      <td>None</td>\n",
       "      <td>None</td>\n",
       "      <td>None</td>\n",
       "      <td>None</td>\n",
       "      <td>None</td>\n",
       "      <td>None</td>\n",
       "      <td>None</td>\n",
       "      <td>None</td>\n",
       "      <td>None</td>\n",
       "    </tr>\n",
       "    <tr>\n",
       "      <th>1</th>\n",
       "      <td>forest</td>\n",
       "      <td>fire</td>\n",
       "      <td>near</td>\n",
       "      <td>la</td>\n",
       "      <td>ronge</td>\n",
       "      <td>sask</td>\n",
       "      <td>canada</td>\n",
       "      <td>None</td>\n",
       "      <td>None</td>\n",
       "      <td>None</td>\n",
       "      <td>...</td>\n",
       "      <td>None</td>\n",
       "      <td>None</td>\n",
       "      <td>None</td>\n",
       "      <td>None</td>\n",
       "      <td>None</td>\n",
       "      <td>None</td>\n",
       "      <td>None</td>\n",
       "      <td>None</td>\n",
       "      <td>None</td>\n",
       "      <td>None</td>\n",
       "    </tr>\n",
       "    <tr>\n",
       "      <th>2</th>\n",
       "      <td>all</td>\n",
       "      <td>residents</td>\n",
       "      <td>asked</td>\n",
       "      <td>to</td>\n",
       "      <td>shelter</td>\n",
       "      <td>in</td>\n",
       "      <td>place</td>\n",
       "      <td>are</td>\n",
       "      <td>being</td>\n",
       "      <td>notified</td>\n",
       "      <td>...</td>\n",
       "      <td>no</td>\n",
       "      <td>other</td>\n",
       "      <td>evacuation</td>\n",
       "      <td>or</td>\n",
       "      <td>shelter</td>\n",
       "      <td>in</td>\n",
       "      <td>place</td>\n",
       "      <td>orders</td>\n",
       "      <td>are</td>\n",
       "      <td>expected</td>\n",
       "    </tr>\n",
       "    <tr>\n",
       "      <th>3</th>\n",
       "      <td>people</td>\n",
       "      <td>receive</td>\n",
       "      <td>wildfires</td>\n",
       "      <td>evacuation</td>\n",
       "      <td>orders</td>\n",
       "      <td>in</td>\n",
       "      <td>california</td>\n",
       "      <td>None</td>\n",
       "      <td>None</td>\n",
       "      <td>None</td>\n",
       "      <td>...</td>\n",
       "      <td>None</td>\n",
       "      <td>None</td>\n",
       "      <td>None</td>\n",
       "      <td>None</td>\n",
       "      <td>None</td>\n",
       "      <td>None</td>\n",
       "      <td>None</td>\n",
       "      <td>None</td>\n",
       "      <td>None</td>\n",
       "      <td>None</td>\n",
       "    </tr>\n",
       "    <tr>\n",
       "      <th>4</th>\n",
       "      <td>just</td>\n",
       "      <td>got</td>\n",
       "      <td>sent</td>\n",
       "      <td>this</td>\n",
       "      <td>photo</td>\n",
       "      <td>from</td>\n",
       "      <td>ruby</td>\n",
       "      <td>alaska</td>\n",
       "      <td>as</td>\n",
       "      <td>smoke</td>\n",
       "      <td>...</td>\n",
       "      <td>pours</td>\n",
       "      <td>into</td>\n",
       "      <td>a</td>\n",
       "      <td>school</td>\n",
       "      <td>None</td>\n",
       "      <td>None</td>\n",
       "      <td>None</td>\n",
       "      <td>None</td>\n",
       "      <td>None</td>\n",
       "      <td>None</td>\n",
       "    </tr>\n",
       "  </tbody>\n",
       "</table>\n",
       "<p>5 rows × 22 columns</p>\n",
       "</div>"
      ],
      "text/plain": [
       "       0          1          2           3        4     5           6   \\\n",
       "0     our      deeds        are         the   reason    of        this   \n",
       "1  forest       fire       near          la    ronge  sask      canada   \n",
       "2     all  residents      asked          to  shelter    in       place   \n",
       "3  people    receive  wildfires  evacuation   orders    in  california   \n",
       "4    just        got       sent        this    photo  from        ruby   \n",
       "\n",
       "           7      8         9   ...     12     13          14      15  \\\n",
       "0  earthquake    may     allah  ...    all   None        None    None   \n",
       "1        None   None      None  ...   None   None        None    None   \n",
       "2         are  being  notified  ...     no  other  evacuation      or   \n",
       "3        None   None      None  ...   None   None        None    None   \n",
       "4      alaska     as     smoke  ...  pours   into           a  school   \n",
       "\n",
       "        16    17     18      19    20        21  \n",
       "0     None  None   None    None  None      None  \n",
       "1     None  None   None    None  None      None  \n",
       "2  shelter    in  place  orders   are  expected  \n",
       "3     None  None   None    None  None      None  \n",
       "4     None  None   None    None  None      None  \n",
       "\n",
       "[5 rows x 22 columns]"
      ]
     },
     "execution_count": 37,
     "metadata": {},
     "output_type": "execute_result"
    }
   ],
   "source": [
    "pd.DataFrame(X[:5])"
   ]
  },
  {
   "cell_type": "markdown",
   "id": "b2b173fe",
   "metadata": {},
   "source": [
    "## Delete stopwords"
   ]
  },
  {
   "cell_type": "code",
   "execution_count": 38,
   "id": "fe603850",
   "metadata": {
    "ExecuteTime": {
     "end_time": "2022-06-02T07:51:05.224230Z",
     "start_time": "2022-06-02T07:51:05.212630Z"
    }
   },
   "outputs": [
    {
     "data": {
      "text/plain": [
       "['i', 'me', 'my', 'myself', 'we']"
      ]
     },
     "execution_count": 38,
     "metadata": {},
     "output_type": "execute_result"
    }
   ],
   "source": [
    "nltk.corpus.stopwords.words('english')[:5]"
   ]
  },
  {
   "cell_type": "code",
   "execution_count": 39,
   "id": "130e2b4b",
   "metadata": {
    "ExecuteTime": {
     "end_time": "2022-06-02T07:51:23.076562Z",
     "start_time": "2022-06-02T07:51:05.226248Z"
    }
   },
   "outputs": [],
   "source": [
    "def remove_stopwords(text):\n",
    "    words = [w for w in text if w not in nltk.corpus.stopwords.words('english')]\n",
    "    return words\n",
    "\n",
    "X = list(map(remove_stopwords, X))"
   ]
  },
  {
   "cell_type": "code",
   "execution_count": 40,
   "id": "1e749714",
   "metadata": {
    "ExecuteTime": {
     "end_time": "2022-06-02T07:51:23.091419Z",
     "start_time": "2022-06-02T07:51:23.077456Z"
    }
   },
   "outputs": [
    {
     "data": {
      "text/html": [
       "<div>\n",
       "<style scoped>\n",
       "    .dataframe tbody tr th:only-of-type {\n",
       "        vertical-align: middle;\n",
       "    }\n",
       "\n",
       "    .dataframe tbody tr th {\n",
       "        vertical-align: top;\n",
       "    }\n",
       "\n",
       "    .dataframe thead th {\n",
       "        text-align: right;\n",
       "    }\n",
       "</style>\n",
       "<table border=\"1\" class=\"dataframe\">\n",
       "  <thead>\n",
       "    <tr style=\"text-align: right;\">\n",
       "      <th></th>\n",
       "      <th>0</th>\n",
       "      <th>1</th>\n",
       "      <th>2</th>\n",
       "      <th>3</th>\n",
       "      <th>4</th>\n",
       "      <th>5</th>\n",
       "      <th>6</th>\n",
       "      <th>7</th>\n",
       "      <th>8</th>\n",
       "      <th>9</th>\n",
       "      <th>10</th>\n",
       "    </tr>\n",
       "  </thead>\n",
       "  <tbody>\n",
       "    <tr>\n",
       "      <th>0</th>\n",
       "      <td>deeds</td>\n",
       "      <td>reason</td>\n",
       "      <td>earthquake</td>\n",
       "      <td>may</td>\n",
       "      <td>allah</td>\n",
       "      <td>forgive</td>\n",
       "      <td>us</td>\n",
       "      <td>None</td>\n",
       "      <td>None</td>\n",
       "      <td>None</td>\n",
       "      <td>None</td>\n",
       "    </tr>\n",
       "    <tr>\n",
       "      <th>1</th>\n",
       "      <td>forest</td>\n",
       "      <td>fire</td>\n",
       "      <td>near</td>\n",
       "      <td>la</td>\n",
       "      <td>ronge</td>\n",
       "      <td>sask</td>\n",
       "      <td>canada</td>\n",
       "      <td>None</td>\n",
       "      <td>None</td>\n",
       "      <td>None</td>\n",
       "      <td>None</td>\n",
       "    </tr>\n",
       "    <tr>\n",
       "      <th>2</th>\n",
       "      <td>residents</td>\n",
       "      <td>asked</td>\n",
       "      <td>shelter</td>\n",
       "      <td>place</td>\n",
       "      <td>notified</td>\n",
       "      <td>officers</td>\n",
       "      <td>evacuation</td>\n",
       "      <td>shelter</td>\n",
       "      <td>place</td>\n",
       "      <td>orders</td>\n",
       "      <td>expected</td>\n",
       "    </tr>\n",
       "    <tr>\n",
       "      <th>3</th>\n",
       "      <td>people</td>\n",
       "      <td>receive</td>\n",
       "      <td>wildfires</td>\n",
       "      <td>evacuation</td>\n",
       "      <td>orders</td>\n",
       "      <td>california</td>\n",
       "      <td>None</td>\n",
       "      <td>None</td>\n",
       "      <td>None</td>\n",
       "      <td>None</td>\n",
       "      <td>None</td>\n",
       "    </tr>\n",
       "    <tr>\n",
       "      <th>4</th>\n",
       "      <td>got</td>\n",
       "      <td>sent</td>\n",
       "      <td>photo</td>\n",
       "      <td>ruby</td>\n",
       "      <td>alaska</td>\n",
       "      <td>smoke</td>\n",
       "      <td>wildfires</td>\n",
       "      <td>pours</td>\n",
       "      <td>school</td>\n",
       "      <td>None</td>\n",
       "      <td>None</td>\n",
       "    </tr>\n",
       "  </tbody>\n",
       "</table>\n",
       "</div>"
      ],
      "text/plain": [
       "          0        1           2           3         4           5   \\\n",
       "0      deeds   reason  earthquake         may     allah     forgive   \n",
       "1     forest     fire        near          la     ronge        sask   \n",
       "2  residents    asked     shelter       place  notified    officers   \n",
       "3     people  receive   wildfires  evacuation    orders  california   \n",
       "4        got     sent       photo        ruby    alaska       smoke   \n",
       "\n",
       "           6        7       8       9         10  \n",
       "0          us     None    None    None      None  \n",
       "1      canada     None    None    None      None  \n",
       "2  evacuation  shelter   place  orders  expected  \n",
       "3        None     None    None    None      None  \n",
       "4   wildfires    pours  school    None      None  "
      ]
     },
     "execution_count": 40,
     "metadata": {},
     "output_type": "execute_result"
    }
   ],
   "source": [
    "pd.DataFrame(X[:5])"
   ]
  },
  {
   "cell_type": "markdown",
   "id": "4730707a",
   "metadata": {},
   "source": [
    "# Tensorflow hub Word2vec"
   ]
  },
  {
   "cell_type": "code",
   "execution_count": 13,
   "id": "5e90757d",
   "metadata": {
    "ExecuteTime": {
     "end_time": "2022-06-02T07:46:03.036450Z",
     "start_time": "2022-06-02T07:46:00.401154Z"
    }
   },
   "outputs": [],
   "source": [
    "embed = hub.load(\"https://tfhub.dev/google/Wiki-words-250/2\")\n",
    "embeddings = embed([\"cat is on the mat\", \"dog is in the fog\"])"
   ]
  },
  {
   "cell_type": "code",
   "execution_count": 382,
   "id": "a455b552",
   "metadata": {
    "ExecuteTime": {
     "end_time": "2022-06-02T07:36:19.634556Z",
     "start_time": "2022-06-02T07:36:19.622688Z"
    }
   },
   "outputs": [
    {
     "data": {
      "text/plain": [
       "array([[-0.08799809, -0.0858438 ,  0.10788755, ...,  0.04565184,\n",
       "         0.01294351, -0.01602245],\n",
       "       [-0.06259975, -0.01230032,  0.07308406, ...,  0.03657548,\n",
       "         0.03782785,  0.02362303],\n",
       "       [-0.08326939, -0.05621659,  0.03247604, ...,  0.02686087,\n",
       "        -0.06714934, -0.03165756],\n",
       "       ...,\n",
       "       [-0.09174909,  0.06146185, -0.00974257, ..., -0.02225812,\n",
       "        -0.08056538,  0.00302481],\n",
       "       [-0.1161094 , -0.00886208,  0.10882459, ...,  0.04372574,\n",
       "        -0.01066343,  0.01358622],\n",
       "       [-0.1149641 , -0.02637827,  0.07625245, ...,  0.03208056,\n",
       "        -0.04156599, -0.03963792]], dtype=float32)"
      ]
     },
     "execution_count": 382,
     "metadata": {},
     "output_type": "execute_result"
    }
   ],
   "source": [
    "np.array(embed(X[0]))"
   ]
  },
  {
   "cell_type": "code",
   "execution_count": 391,
   "id": "a7020485",
   "metadata": {
    "ExecuteTime": {
     "end_time": "2022-06-02T07:37:10.474071Z",
     "start_time": "2022-06-02T07:37:10.455522Z"
    }
   },
   "outputs": [
    {
     "data": {
      "text/plain": [
       "(7, 250)"
      ]
     },
     "execution_count": 391,
     "metadata": {},
     "output_type": "execute_result"
    }
   ],
   "source": [
    "np.array(embed(X[0])).shape"
   ]
  },
  {
   "cell_type": "code",
   "execution_count": 396,
   "id": "1bc67d62",
   "metadata": {
    "ExecuteTime": {
     "end_time": "2022-06-02T07:37:47.286543Z",
     "start_time": "2022-06-02T07:37:47.262965Z"
    }
   },
   "outputs": [
    {
     "data": {
      "text/plain": [
       "(14, 250)"
      ]
     },
     "execution_count": 396,
     "metadata": {},
     "output_type": "execute_result"
    }
   ],
   "source": [
    "np.concatenate((np.array(embed(X[0])), np.array(embed(X[0]))), axis=0).shape"
   ]
  },
  {
   "cell_type": "code",
   "execution_count": 330,
   "id": "f90630be",
   "metadata": {
    "ExecuteTime": {
     "end_time": "2022-06-02T07:28:16.411136Z",
     "start_time": "2022-06-02T07:28:16.404153Z"
    }
   },
   "outputs": [
    {
     "data": {
      "text/plain": [
       "(2, 250)"
      ]
     },
     "execution_count": 330,
     "metadata": {},
     "output_type": "execute_result"
    }
   ],
   "source": [
    "embeddings.numpy().shape"
   ]
  },
  {
   "cell_type": "code",
   "execution_count": 331,
   "id": "6eb5bc7e",
   "metadata": {
    "ExecuteTime": {
     "end_time": "2022-06-02T07:29:23.725873Z",
     "start_time": "2022-06-02T07:29:05.039220Z"
    }
   },
   "outputs": [],
   "source": [
    "for i in range(len(X)):\n",
    "    X[i] = embed(X[i]).numpy()"
   ]
  },
  {
   "cell_type": "code",
   "execution_count": 337,
   "id": "1814c7db",
   "metadata": {
    "ExecuteTime": {
     "end_time": "2022-06-02T07:30:34.046043Z",
     "start_time": "2022-06-02T07:30:34.032079Z"
    }
   },
   "outputs": [
    {
     "name": "stderr",
     "output_type": "stream",
     "text": [
      "C:\\Users\\hjhhi\\AppData\\Local\\Temp\\ipykernel_12104\\55319187.py:1: VisibleDeprecationWarning: Creating an ndarray from ragged nested sequences (which is a list-or-tuple of lists-or-tuples-or ndarrays with different lengths or shapes) is deprecated. If you meant to do this, you must specify 'dtype=object' when creating the ndarray.\n",
      "  X = np.array(X)\n"
     ]
    }
   ],
   "source": [
    "X = np.array(X)"
   ]
  },
  {
   "cell_type": "markdown",
   "id": "141abe0f",
   "metadata": {},
   "source": [
    "# Integer encoding"
   ]
  },
  {
   "cell_type": "code",
   "execution_count": 167,
   "id": "add175cc",
   "metadata": {
    "ExecuteTime": {
     "end_time": "2022-06-01T14:06:29.143428Z",
     "start_time": "2022-06-01T14:06:28.977379Z"
    }
   },
   "outputs": [],
   "source": [
    "tokenizer = keras.preprocessing.text.Tokenizer()\n",
    "tokenizer.fit_on_texts(X)\n",
    "X = tokenizer.texts_to_sequences(X)"
   ]
  },
  {
   "cell_type": "code",
   "execution_count": 168,
   "id": "fbfbc1fe",
   "metadata": {
    "ExecuteTime": {
     "end_time": "2022-06-01T14:06:29.189334Z",
     "start_time": "2022-06-01T14:06:29.146420Z"
    }
   },
   "outputs": [
    {
     "data": {
      "text/html": [
       "<div>\n",
       "<style scoped>\n",
       "    .dataframe tbody tr th:only-of-type {\n",
       "        vertical-align: middle;\n",
       "    }\n",
       "\n",
       "    .dataframe tbody tr th {\n",
       "        vertical-align: top;\n",
       "    }\n",
       "\n",
       "    .dataframe thead th {\n",
       "        text-align: right;\n",
       "    }\n",
       "</style>\n",
       "<table border=\"1\" class=\"dataframe\">\n",
       "  <thead>\n",
       "    <tr style=\"text-align: right;\">\n",
       "      <th></th>\n",
       "      <th>0</th>\n",
       "      <th>1</th>\n",
       "      <th>2</th>\n",
       "      <th>3</th>\n",
       "      <th>4</th>\n",
       "      <th>5</th>\n",
       "      <th>6</th>\n",
       "      <th>7</th>\n",
       "      <th>8</th>\n",
       "      <th>9</th>\n",
       "      <th>10</th>\n",
       "    </tr>\n",
       "  </thead>\n",
       "  <tbody>\n",
       "    <tr>\n",
       "      <th>0</th>\n",
       "      <td>4164</td>\n",
       "      <td>724</td>\n",
       "      <td>143</td>\n",
       "      <td>53</td>\n",
       "      <td>1512</td>\n",
       "      <td>4165</td>\n",
       "      <td>12.0</td>\n",
       "      <td>NaN</td>\n",
       "      <td>NaN</td>\n",
       "      <td>NaN</td>\n",
       "      <td>NaN</td>\n",
       "    </tr>\n",
       "    <tr>\n",
       "      <th>1</th>\n",
       "      <td>95</td>\n",
       "      <td>4</td>\n",
       "      <td>125</td>\n",
       "      <td>579</td>\n",
       "      <td>6288</td>\n",
       "      <td>6289</td>\n",
       "      <td>1188.0</td>\n",
       "      <td>NaN</td>\n",
       "      <td>NaN</td>\n",
       "      <td>NaN</td>\n",
       "      <td>NaN</td>\n",
       "    </tr>\n",
       "    <tr>\n",
       "      <th>2</th>\n",
       "      <td>1513</td>\n",
       "      <td>1391</td>\n",
       "      <td>1881</td>\n",
       "      <td>530</td>\n",
       "      <td>6290</td>\n",
       "      <td>1514</td>\n",
       "      <td>149.0</td>\n",
       "      <td>1881.0</td>\n",
       "      <td>530.0</td>\n",
       "      <td>1189.0</td>\n",
       "      <td>911.0</td>\n",
       "    </tr>\n",
       "    <tr>\n",
       "      <th>3</th>\n",
       "      <td>8</td>\n",
       "      <td>4166</td>\n",
       "      <td>1190</td>\n",
       "      <td>149</td>\n",
       "      <td>1189</td>\n",
       "      <td>23</td>\n",
       "      <td>NaN</td>\n",
       "      <td>NaN</td>\n",
       "      <td>NaN</td>\n",
       "      <td>NaN</td>\n",
       "      <td>NaN</td>\n",
       "    </tr>\n",
       "    <tr>\n",
       "      <th>4</th>\n",
       "      <td>20</td>\n",
       "      <td>1021</td>\n",
       "      <td>228</td>\n",
       "      <td>6291</td>\n",
       "      <td>1882</td>\n",
       "      <td>156</td>\n",
       "      <td>1190.0</td>\n",
       "      <td>6292.0</td>\n",
       "      <td>96.0</td>\n",
       "      <td>NaN</td>\n",
       "      <td>NaN</td>\n",
       "    </tr>\n",
       "  </tbody>\n",
       "</table>\n",
       "</div>"
      ],
      "text/plain": [
       "     0     1     2     3     4     5       6       7      8       9      10\n",
       "0  4164   724   143    53  1512  4165    12.0     NaN    NaN     NaN    NaN\n",
       "1    95     4   125   579  6288  6289  1188.0     NaN    NaN     NaN    NaN\n",
       "2  1513  1391  1881   530  6290  1514   149.0  1881.0  530.0  1189.0  911.0\n",
       "3     8  4166  1190   149  1189    23     NaN     NaN    NaN     NaN    NaN\n",
       "4    20  1021   228  6291  1882   156  1190.0  6292.0   96.0     NaN    NaN"
      ]
     },
     "execution_count": 168,
     "metadata": {},
     "output_type": "execute_result"
    }
   ],
   "source": [
    "pd.DataFrame(X[:5])"
   ]
  },
  {
   "cell_type": "code",
   "execution_count": 169,
   "id": "b3652e46",
   "metadata": {
    "ExecuteTime": {
     "end_time": "2022-06-01T14:06:29.235211Z",
     "start_time": "2022-06-01T14:06:29.191329Z"
    }
   },
   "outputs": [
    {
     "data": {
      "text/plain": [
       "{'like': 1,\n",
       " 'amp': 2,\n",
       " 'im': 3,\n",
       " 'fire': 4,\n",
       " 'get': 5,\n",
       " 'new': 6,\n",
       " 'via': 7,\n",
       " 'people': 8,\n",
       " 'one': 9,\n",
       " 'dont': 10,\n",
       " 'news': 11,\n",
       " 'us': 12,\n",
       " 'video': 13,\n",
       " 'emergency': 14,\n",
       " 'disaster': 15,\n",
       " 'police': 16,\n",
       " 'would': 17,\n",
       " 'still': 18,\n",
       " 'body': 19,\n",
       " 'got': 20,\n",
       " 'burning': 21,\n",
       " 'back': 22,\n",
       " 'california': 23,\n",
       " 'crash': 24,\n",
       " 'suicide': 25,\n",
       " 'storm': 26,\n",
       " 'time': 27,\n",
       " 'know': 28,\n",
       " 'man': 29,\n",
       " 'day': 30,\n",
       " 'first': 31,\n",
       " 'buildings': 32,\n",
       " 'rt': 33,\n",
       " 'going': 34,\n",
       " 'bomb': 35,\n",
       " 'cant': 36,\n",
       " 'world': 37,\n",
       " 'see': 38,\n",
       " 'nuclear': 39,\n",
       " 'fires': 40,\n",
       " 'love': 41,\n",
       " 'youtube': 42,\n",
       " 'attack': 43,\n",
       " 'two': 44,\n",
       " 'killed': 45,\n",
       " 'go': 46,\n",
       " 'dead': 47,\n",
       " 'train': 48,\n",
       " 'full': 49,\n",
       " 'car': 50,\n",
       " 'war': 51,\n",
       " 'families': 52,\n",
       " 'may': 53,\n",
       " 'accident': 54,\n",
       " 'good': 55,\n",
       " 'today': 56,\n",
       " 'hiroshima': 57,\n",
       " 'think': 58,\n",
       " 'life': 59,\n",
       " 'many': 60,\n",
       " 'say': 61,\n",
       " 'watch': 62,\n",
       " 'last': 63,\n",
       " 'could': 64,\n",
       " 'u': 65,\n",
       " 'na': 66,\n",
       " 'years': 67,\n",
       " 'want': 68,\n",
       " 'make': 69,\n",
       " 'way': 70,\n",
       " 'collapse': 71,\n",
       " 'home': 72,\n",
       " 'work': 73,\n",
       " 'look': 74,\n",
       " 'need': 75,\n",
       " 'wildfire': 76,\n",
       " 'help': 77,\n",
       " 'even': 78,\n",
       " 'best': 79,\n",
       " 'really': 80,\n",
       " 'death': 81,\n",
       " 'army': 82,\n",
       " 'year': 83,\n",
       " 'another': 84,\n",
       " 'take': 85,\n",
       " 'mass': 86,\n",
       " 'please': 87,\n",
       " 'pm': 88,\n",
       " 'right': 89,\n",
       " 'lol': 90,\n",
       " '\\x89û': 91,\n",
       " 'bombing': 92,\n",
       " 'youre': 93,\n",
       " 'hot': 94,\n",
       " 'forest': 95,\n",
       " 'school': 96,\n",
       " 'much': 97,\n",
       " 'northern': 98,\n",
       " 'fatal': 99,\n",
       " 'obama': 100,\n",
       " 'water': 101,\n",
       " 'legionnaires': 102,\n",
       " 'great': 103,\n",
       " 'never': 104,\n",
       " 'wreck': 105,\n",
       " 'let': 106,\n",
       " 'homes': 107,\n",
       " 'bomber': 108,\n",
       " 'live': 109,\n",
       " 'city': 110,\n",
       " 'every': 111,\n",
       " 'latest': 112,\n",
       " 'old': 113,\n",
       " 'atomic': 114,\n",
       " 'read': 115,\n",
       " 'said': 116,\n",
       " 'flames': 117,\n",
       " 'floods': 118,\n",
       " 'getting': 119,\n",
       " 'shit': 120,\n",
       " 'come': 121,\n",
       " 'thats': 122,\n",
       " 'feel': 123,\n",
       " 'fear': 124,\n",
       " 'near': 125,\n",
       " 'flood': 126,\n",
       " 'ever': 127,\n",
       " 'content': 128,\n",
       " 'top': 129,\n",
       " 'japan': 130,\n",
       " 'oil': 131,\n",
       " 'everyone': 132,\n",
       " 'found': 133,\n",
       " 'hit': 134,\n",
       " 'since': 135,\n",
       " 'military': 136,\n",
       " 'coming': 137,\n",
       " 'damage': 138,\n",
       " 'weather': 139,\n",
       " 'without': 140,\n",
       " 'hope': 141,\n",
       " 'ass': 142,\n",
       " 'earthquake': 143,\n",
       " 'flooding': 144,\n",
       " 'god': 145,\n",
       " 'debris': 146,\n",
       " 'injured': 147,\n",
       " 'malaysia': 148,\n",
       " 'evacuation': 149,\n",
       " 'night': 150,\n",
       " 'next': 151,\n",
       " 'truck': 152,\n",
       " 'stop': 153,\n",
       " 'state': 154,\n",
       " 'well': 155,\n",
       " 'smoke': 156,\n",
       " 'set': 157,\n",
       " 'black': 158,\n",
       " 'times': 159,\n",
       " 'cause': 160,\n",
       " 'plan': 161,\n",
       " 'gon': 162,\n",
       " 'little': 163,\n",
       " 'movie': 164,\n",
       " 'wounded': 165,\n",
       " 'cross': 166,\n",
       " 'confirmed': 167,\n",
       " 'thunderstorm': 168,\n",
       " 'severe': 169,\n",
       " 'always': 170,\n",
       " 'fucking': 171,\n",
       " 'looks': 172,\n",
       " 'food': 173,\n",
       " 'wild': 174,\n",
       " 'reddit': 175,\n",
       " 'theres': 176,\n",
       " 'w': 177,\n",
       " 'face': 178,\n",
       " 'bad': 179,\n",
       " 'natural': 180,\n",
       " 'rain': 181,\n",
       " 'heat': 182,\n",
       " 'bloody': 183,\n",
       " 'family': 184,\n",
       " 'services': 185,\n",
       " 'hes': 186,\n",
       " 'liked': 187,\n",
       " 'says': 188,\n",
       " 'fall': 189,\n",
       " 'weapons': 190,\n",
       " 'injuries': 191,\n",
       " 'thunder': 192,\n",
       " 'ive': 193,\n",
       " 'also': 194,\n",
       " 'screaming': 195,\n",
       " 'house': 196,\n",
       " 'warning': 197,\n",
       " 'missing': 198,\n",
       " 'weapon': 199,\n",
       " 'lightning': 200,\n",
       " 'sinking': 201,\n",
       " 'evacuate': 202,\n",
       " 'spill': 203,\n",
       " 'summer': 204,\n",
       " 'check': 205,\n",
       " 'change': 206,\n",
       " 'boy': 207,\n",
       " 'made': 208,\n",
       " 'bags': 209,\n",
       " 'trapped': 210,\n",
       " 'collided': 211,\n",
       " 'refugees': 212,\n",
       " 'loud': 213,\n",
       " 'end': 214,\n",
       " 'head': 215,\n",
       " 'free': 216,\n",
       " 'murder': 217,\n",
       " 'destroy': 218,\n",
       " 'blood': 219,\n",
       " 'run': 220,\n",
       " 'whole': 221,\n",
       " 'survive': 222,\n",
       " 'high': 223,\n",
       " 'released': 224,\n",
       " 'attacked': 225,\n",
       " 'wreckage': 226,\n",
       " 'outbreak': 227,\n",
       " 'photo': 228,\n",
       " 'explosion': 229,\n",
       " 'someone': 230,\n",
       " 'air': 231,\n",
       " 'save': 232,\n",
       " 'destroyed': 233,\n",
       " 'saudi': 234,\n",
       " 'bag': 235,\n",
       " 'hurricane': 236,\n",
       " 'bridge': 237,\n",
       " 'derailment': 238,\n",
       " 'failure': 239,\n",
       " 'rescue': 240,\n",
       " 'deaths': 241,\n",
       " 'panic': 242,\n",
       " 'fatalities': 243,\n",
       " 'sinkhole': 244,\n",
       " 'breaking': 245,\n",
       " '\\x89ûò': 246,\n",
       " 'burned': 247,\n",
       " 'trauma': 248,\n",
       " 'ambulance': 249,\n",
       " 'charged': 250,\n",
       " 'fuck': 251,\n",
       " 'terrorist': 252,\n",
       " 'keep': 253,\n",
       " 'lives': 254,\n",
       " 'migrants': 255,\n",
       " 'wrecked': 256,\n",
       " 'county': 257,\n",
       " 'area': 258,\n",
       " 'around': 259,\n",
       " 'tonight': 260,\n",
       " 'road': 261,\n",
       " 'island': 262,\n",
       " 'survivors': 263,\n",
       " 'destruction': 264,\n",
       " 'girl': 265,\n",
       " 'big': 266,\n",
       " 'post': 267,\n",
       " 'explode': 268,\n",
       " 'ruin': 269,\n",
       " 'service': 270,\n",
       " 'catastrophe': 271,\n",
       " 'rescued': 272,\n",
       " 'survived': 273,\n",
       " 'dust': 274,\n",
       " 'twister': 275,\n",
       " 'bus': 276,\n",
       " 'week': 277,\n",
       " 'call': 278,\n",
       " 'armageddon': 279,\n",
       " 'show': 280,\n",
       " 'violent': 281,\n",
       " 'white': 282,\n",
       " 'story': 283,\n",
       " 'put': 284,\n",
       " 'boat': 285,\n",
       " 'drought': 286,\n",
       " 'collapsed': 287,\n",
       " 'harm': 288,\n",
       " 'landslide': 289,\n",
       " 'danger': 290,\n",
       " 'deluge': 291,\n",
       " 'investigators': 292,\n",
       " 'hostages': 293,\n",
       " 'structural': 294,\n",
       " 'whirlwind': 295,\n",
       " 'least': 296,\n",
       " 'injury': 297,\n",
       " 'came': 298,\n",
       " 'suspect': 299,\n",
       " 'crashed': 300,\n",
       " 'phone': 301,\n",
       " 'saw': 302,\n",
       " 'hail': 303,\n",
       " 'things': 304,\n",
       " 'real': 305,\n",
       " 'report': 306,\n",
       " 'rescuers': 307,\n",
       " 'rioting': 308,\n",
       " 'riot': 309,\n",
       " 'curfew': 310,\n",
       " 'drowning': 311,\n",
       " 'engulfed': 312,\n",
       " 'screamed': 313,\n",
       " 'mudslide': 314,\n",
       " 'quarantine': 315,\n",
       " 'quarantined': 316,\n",
       " 'sandstorm': 317,\n",
       " 'sunk': 318,\n",
       " 'better': 319,\n",
       " 'horrible': 320,\n",
       " 'past': 321,\n",
       " 'ill': 322,\n",
       " 'heard': 323,\n",
       " 'game': 324,\n",
       " 'thing': 325,\n",
       " 'kills': 326,\n",
       " 'national': 327,\n",
       " 'red': 328,\n",
       " 'mosque': 329,\n",
       " 'woman': 330,\n",
       " 'wan': 331,\n",
       " 'bleeding': 332,\n",
       " 'tragedy': 333,\n",
       " 'anniversary': 334,\n",
       " 'bombed': 335,\n",
       " 'displaced': 336,\n",
       " 'traumatised': 337,\n",
       " 'hazardous': 338,\n",
       " 'crush': 339,\n",
       " 'stock': 340,\n",
       " 'derail': 341,\n",
       " 'devastation': 342,\n",
       " 'exploded': 343,\n",
       " 'famine': 344,\n",
       " 'windstorm': 345,\n",
       " 'update': 346,\n",
       " 'wave': 347,\n",
       " 'airplane': 348,\n",
       " 'iran': 349,\n",
       " 'heart': 350,\n",
       " 'part': 351,\n",
       " 'twitter': 352,\n",
       " 'group': 353,\n",
       " 'battle': 354,\n",
       " 'fedex': 355,\n",
       " 'oh': 356,\n",
       " 'blew': 357,\n",
       " 'wind': 358,\n",
       " 'blown': 359,\n",
       " 'hazard': 360,\n",
       " 'casualties': 361,\n",
       " 'cliff': 362,\n",
       " 'wounds': 363,\n",
       " 'hundreds': 364,\n",
       " 'electrocuted': 365,\n",
       " 'bang': 366,\n",
       " 'inundated': 367,\n",
       " 'lava': 368,\n",
       " 'reunion': 369,\n",
       " 'ebay': 370,\n",
       " 'ok': 371,\n",
       " 'lot': 372,\n",
       " 'went': 373,\n",
       " 'august': 374,\n",
       " 'id': 375,\n",
       " 'long': 376,\n",
       " 'away': 377,\n",
       " 'power': 378,\n",
       " 'bioterror': 379,\n",
       " 'women': 380,\n",
       " 'hostage': 381,\n",
       " 'drown': 382,\n",
       " 'half': 383,\n",
       " 'catastrophic': 384,\n",
       " 'affected': 385,\n",
       " 'chemical': 386,\n",
       " 'collide': 387,\n",
       " 'derailed': 388,\n",
       " 'desolation': 389,\n",
       " 'trouble': 390,\n",
       " 'detonate': 391,\n",
       " 'evacuated': 392,\n",
       " 'flattened': 393,\n",
       " 'panicking': 394,\n",
       " 'thank': 395,\n",
       " 'left': 396,\n",
       " 'possible': 397,\n",
       " 'plane': 398,\n",
       " 'must': 399,\n",
       " 'soon': 400,\n",
       " 'apocalypse': 401,\n",
       " 'calgary': 402,\n",
       " 'market': 403,\n",
       " 'land': 404,\n",
       " 'send': 405,\n",
       " 'baby': 406,\n",
       " 'typhoon': 407,\n",
       " 'demolish': 408,\n",
       " 'hijacking': 409,\n",
       " 'massacre': 410,\n",
       " 'razed': 411,\n",
       " 'screams': 412,\n",
       " 'tornado': 413,\n",
       " 'cool': 414,\n",
       " 'care': 415,\n",
       " 'something': 416,\n",
       " 'traffic': 417,\n",
       " 'use': 418,\n",
       " 'meltdown': 419,\n",
       " 'goes': 420,\n",
       " 'government': 421,\n",
       " 'annihilated': 422,\n",
       " 'thought': 423,\n",
       " 'zone': 424,\n",
       " 'sure': 425,\n",
       " 'longer': 426,\n",
       " 'security': 427,\n",
       " 'lets': 428,\n",
       " 'song': 429,\n",
       " 'light': 430,\n",
       " 'bagging': 431,\n",
       " 'pkk': 432,\n",
       " 'caused': 433,\n",
       " 'responders': 434,\n",
       " 'collision': 435,\n",
       " 'detonation': 436,\n",
       " 'hijacker': 437,\n",
       " 'pandemonium': 438,\n",
       " 'detonated': 439,\n",
       " 'due': 440,\n",
       " 'st': 441,\n",
       " 'used': 442,\n",
       " 'didnt': 443,\n",
       " 'issues': 444,\n",
       " 'minute': 445,\n",
       " 'airport': 446,\n",
       " 'river': 447,\n",
       " 'kill': 448,\n",
       " 'tomorrow': 449,\n",
       " 'fan': 450,\n",
       " 'sound': 451,\n",
       " 'terrorism': 452,\n",
       " 'yet': 453,\n",
       " 'beautiful': 454,\n",
       " 'shoulder': 455,\n",
       " 'blast': 456,\n",
       " 'demolished': 457,\n",
       " 'demolition': 458,\n",
       " 'drowned': 459,\n",
       " 'volcano': 460,\n",
       " 'tsunami': 461,\n",
       " 'fatality': 462,\n",
       " 'prebreak': 463,\n",
       " 'obliterate': 464,\n",
       " 'obliterated': 465,\n",
       " 'building': 466,\n",
       " 'three': 467,\n",
       " 'thanks': 468,\n",
       " 'kids': 469,\n",
       " 'shooting': 470,\n",
       " 'already': 471,\n",
       " 'making': 472,\n",
       " 'fun': 473,\n",
       " 'arson': 474,\n",
       " 'remember': 475,\n",
       " 'blazing': 476,\n",
       " 'nothing': 477,\n",
       " 'ur': 478,\n",
       " 'officer': 479,\n",
       " 'crushed': 480,\n",
       " 'eyewitness': 481,\n",
       " 'hellfire': 482,\n",
       " 'murderer': 483,\n",
       " 'obliteration': 484,\n",
       " 'died': 485,\n",
       " 'far': 486,\n",
       " 'days': 487,\n",
       " 'ablaze': 488,\n",
       " 'inside': 489,\n",
       " 'leave': 490,\n",
       " 'actually': 491,\n",
       " 'done': 492,\n",
       " 'believe': 493,\n",
       " 'wake': 494,\n",
       " 'sirens': 495,\n",
       " 'fight': 496,\n",
       " 'start': 497,\n",
       " 'stay': 498,\n",
       " 'officials': 499,\n",
       " 'israeli': 500,\n",
       " 'media': 501,\n",
       " 'person': 502,\n",
       " 'guys': 503,\n",
       " 'music': 504,\n",
       " 'words': 505,\n",
       " 'policy': 506,\n",
       " 'turkey': 507,\n",
       " 'bush': 508,\n",
       " 'hijack': 509,\n",
       " 'sue': 510,\n",
       " 'rainstorm': 511,\n",
       " 'upheaval': 512,\n",
       " 'south': 513,\n",
       " 'whats': 514,\n",
       " 'site': 515,\n",
       " 'shot': 516,\n",
       " 'north': 517,\n",
       " 'bc': 518,\n",
       " 'hell': 519,\n",
       " 'hours': 520,\n",
       " 'india': 521,\n",
       " 'lab': 522,\n",
       " 'doesnt': 523,\n",
       " 're\\x89û': 524,\n",
       " 'nearby': 525,\n",
       " 'cyclone': 526,\n",
       " 'declares': 527,\n",
       " 'seismic': 528,\n",
       " 'electrocute': 529,\n",
       " 'place': 530,\n",
       " 'wait': 531,\n",
       " 'second': 532,\n",
       " '\\x89ûó': 533,\n",
       " 'nowplaying': 534,\n",
       " 'plans': 535,\n",
       " 'gets': 536,\n",
       " 'brown': 537,\n",
       " 'play': 538,\n",
       " 'men': 539,\n",
       " 'ago': 540,\n",
       " 'wont': 541,\n",
       " 'horror': 542,\n",
       " 'trying': 543,\n",
       " 'avalanche': 544,\n",
       " 'health': 545,\n",
       " 'yes': 546,\n",
       " 'mp': 547,\n",
       " 'casualty': 548,\n",
       " 'deluged': 549,\n",
       " 'reactor': 550,\n",
       " 'rubble': 551,\n",
       " 'swallowed': 552,\n",
       " 'outside': 553,\n",
       " 'n': 554,\n",
       " 'tell': 555,\n",
       " 'job': 556,\n",
       " 'almost': 557,\n",
       " 'aircraft': 558,\n",
       " 'helicopter': 559,\n",
       " 'history': 560,\n",
       " 'peace': 561,\n",
       " 'data': 562,\n",
       " 'children': 563,\n",
       " 'anything': 564,\n",
       " 'american': 565,\n",
       " 'business': 566,\n",
       " 'deal': 567,\n",
       " 'pic': 568,\n",
       " 'line': 569,\n",
       " 'watching': 570,\n",
       " 'bigger': 571,\n",
       " 'memories': 572,\n",
       " 'isis': 573,\n",
       " 'abc': 574,\n",
       " 'typhoondevastated': 575,\n",
       " 'saipan': 576,\n",
       " 'snowstorm': 577,\n",
       " 'conclusively': 578,\n",
       " 'la': 579,\n",
       " 'street': 580,\n",
       " 'west': 581,\n",
       " 'support': 582,\n",
       " 'bar': 583,\n",
       " 'maybe': 584,\n",
       " 'order': 585,\n",
       " 'pick': 586,\n",
       " 'makes': 587,\n",
       " 'yeah': 588,\n",
       " 'transport': 589,\n",
       " 'blight': 590,\n",
       " 'searching': 591,\n",
       " 'low': 592,\n",
       " 'money': 593,\n",
       " 'photos': 594,\n",
       " 'find': 595,\n",
       " 'hear': 596,\n",
       " 'rise': 597,\n",
       " 'waves': 598,\n",
       " 'bodies': 599,\n",
       " 'projected': 600,\n",
       " 'siren': 601,\n",
       " 'stretcher': 602,\n",
       " 'bestnaijamade': 603,\n",
       " 'lost': 604,\n",
       " 'center': 605,\n",
       " 'finally': 606,\n",
       " 'book': 607,\n",
       " 'die': 608,\n",
       " 'anyone': 609,\n",
       " 'theyre': 610,\n",
       " 'might': 611,\n",
       " 'reuters': 612,\n",
       " 'everything': 613,\n",
       " 'hey': 614,\n",
       " 'tv': 615,\n",
       " 'amid': 616,\n",
       " 'feeling': 617,\n",
       " 'literally': 618,\n",
       " 'bioterrorism': 619,\n",
       " 'hollywood': 620,\n",
       " 'pretty': 621,\n",
       " 'move': 622,\n",
       " 'online': 623,\n",
       " 'probably': 624,\n",
       " 'saved': 625,\n",
       " 'crews': 626,\n",
       " 'signs': 627,\n",
       " 'effect': 628,\n",
       " 'manslaughter': 629,\n",
       " 'fast': 630,\n",
       " 'happy': 631,\n",
       " 'feared': 632,\n",
       " 'country': 633,\n",
       " 'seen': 634,\n",
       " 'annihilation': 635,\n",
       " 'name': 636,\n",
       " 'crisis': 637,\n",
       " 'leather': 638,\n",
       " 'caught': 639,\n",
       " 'town': 640,\n",
       " 'blaze': 641,\n",
       " 'okay': 642,\n",
       " 'damn': 643,\n",
       " 'team': 644,\n",
       " 'space': 645,\n",
       " 'though': 646,\n",
       " 'spot': 647,\n",
       " 'trains': 648,\n",
       " 'soudelor': 649,\n",
       " 'desolate': 650,\n",
       " 'trench': 651,\n",
       " 'refugio': 652,\n",
       " 'costlier': 653,\n",
       " 'miners': 654,\n",
       " 'side': 655,\n",
       " 'cars': 656,\n",
       " 'others': 657,\n",
       " 'huge': 658,\n",
       " 'jobs': 659,\n",
       " 'eyes': 660,\n",
       " 'shes': 661,\n",
       " 'omg': 662,\n",
       " 'ship': 663,\n",
       " 'crazy': 664,\n",
       " 'hate': 665,\n",
       " 'ball': 666,\n",
       " 'case': 667,\n",
       " 'self': 668,\n",
       " 'major': 669,\n",
       " 'child': 670,\n",
       " 'called': 671,\n",
       " 'class': 672,\n",
       " 'isnt': 673,\n",
       " 'womens': 674,\n",
       " 'texas': 675,\n",
       " 'youth': 676,\n",
       " 'needs': 677,\n",
       " 'nearly': 678,\n",
       " 'giant': 679,\n",
       " 'course': 680,\n",
       " 'banned': 681,\n",
       " 'picking': 682,\n",
       " 'offensive': 683,\n",
       " 'closed': 684,\n",
       " 'heavy': 685,\n",
       " 'flash': 686,\n",
       " 'across': 687,\n",
       " 'haha': 688,\n",
       " 'flag': 689,\n",
       " 'lord': 690,\n",
       " 'hard': 691,\n",
       " 'rd': 692,\n",
       " 'mom': 693,\n",
       " 'win': 694,\n",
       " 'wrong': 695,\n",
       " 'pakistan': 696,\n",
       " 'sorry': 697,\n",
       " 'usa': 698,\n",
       " 'stand': 699,\n",
       " 'toddler': 700,\n",
       " 'united': 701,\n",
       " 'gt': 702,\n",
       " 'control': 703,\n",
       " 'east': 704,\n",
       " 'gun': 705,\n",
       " 'worst': 706,\n",
       " 'listen': 707,\n",
       " 'anthrax': 708,\n",
       " 'computers': 709,\n",
       " 'entire': 710,\n",
       " 'level': 711,\n",
       " 'morning': 712,\n",
       " 'meek': 713,\n",
       " 'russian': 714,\n",
       " 'gbbo': 715,\n",
       " 'houses': 716,\n",
       " 'become': 717,\n",
       " 'chance': 718,\n",
       " 'angry': 719,\n",
       " 'ignition': 720,\n",
       " 'knock': 721,\n",
       " 'hailstorm': 722,\n",
       " 'mayhem': 723,\n",
       " 'reason': 724,\n",
       " 'try': 725,\n",
       " 'talk': 726,\n",
       " 'vehicle': 727,\n",
       " 'daily': 728,\n",
       " 'guy': 729,\n",
       " 'couple': 730,\n",
       " 'poor': 731,\n",
       " 'radio': 732,\n",
       " 'totally': 733,\n",
       " 'b': 734,\n",
       " 'blue': 735,\n",
       " 'learn': 736,\n",
       " 'beach': 737,\n",
       " 'reports': 738,\n",
       " 'christian': 739,\n",
       " 'temple': 740,\n",
       " 'view': 741,\n",
       " 'star': 742,\n",
       " 'taken': 743,\n",
       " 'playing': 744,\n",
       " 'mishaps': 745,\n",
       " 'action': 746,\n",
       " 'public': 747,\n",
       " 'running': 748,\n",
       " 'looking': 749,\n",
       " 'cake': 750,\n",
       " 'pain': 751,\n",
       " 'blizzard': 752,\n",
       " 'pay': 753,\n",
       " 'wow': 754,\n",
       " 'ladies': 755,\n",
       " 'appears': 756,\n",
       " 'centre': 757,\n",
       " 'village': 758,\n",
       " 'aug': 759,\n",
       " 'friends': 760,\n",
       " 'takes': 761,\n",
       " 'china': 762,\n",
       " 'emmerdale': 763,\n",
       " 'declaration': 764,\n",
       " 'islam': 765,\n",
       " 'disea': 766,\n",
       " 'myanmar': 767,\n",
       " 'wanted': 768,\n",
       " 'thousands': 769,\n",
       " 'alone': 770,\n",
       " 'arsonist': 771,\n",
       " 'front': 772,\n",
       " 'climate': 773,\n",
       " 'else': 774,\n",
       " 'america': 775,\n",
       " 'property': 776,\n",
       " 'happened': 777,\n",
       " 'drive': 778,\n",
       " 'global': 779,\n",
       " 'experts': 780,\n",
       " 'official': 781,\n",
       " 'ready': 782,\n",
       " 'vs': 783,\n",
       " 'film': 784,\n",
       " 'till': 785,\n",
       " 'friend': 786,\n",
       " 'green': 787,\n",
       " 'muslims': 788,\n",
       " 'mount': 789,\n",
       " 'fukushima': 790,\n",
       " 'favorite': 791,\n",
       " 'eye': 792,\n",
       " 'germs': 793,\n",
       " 'mad': 794,\n",
       " 'link': 795,\n",
       " 'large': 796,\n",
       " 'drake': 797,\n",
       " 'marks': 798,\n",
       " 'thursday': 799,\n",
       " 'downtown': 800,\n",
       " 'insurance': 801,\n",
       " 'instead': 802,\n",
       " 'coaches': 803,\n",
       " 'issued': 804,\n",
       " 'flight': 805,\n",
       " 'quiz': 806,\n",
       " 'devastated': 807,\n",
       " 'reddits': 808,\n",
       " 'virgin': 809,\n",
       " 'chile': 810,\n",
       " 'bring': 811,\n",
       " 'taking': 812,\n",
       " 'r': 813,\n",
       " 'behind': 814,\n",
       " 'four': 815,\n",
       " 'israel': 816,\n",
       " 'park': 817,\n",
       " 'sign': 818,\n",
       " 'following': 819,\n",
       " 'comes': 820,\n",
       " 'scared': 821,\n",
       " 'escape': 822,\n",
       " 'govt': 823,\n",
       " 'hiring': 824,\n",
       " 'true': 825,\n",
       " 'theater': 826,\n",
       " 'gave': 827,\n",
       " 'gop': 828,\n",
       " 'driving': 829,\n",
       " 'added': 830,\n",
       " 'turn': 831,\n",
       " 'aint': 832,\n",
       " 'nagasaki': 833,\n",
       " 'outrage': 834,\n",
       " 'sounds': 835,\n",
       " 'ppl': 836,\n",
       " 'british': 837,\n",
       " 'landing': 838,\n",
       " 'download': 839,\n",
       " 'york': 840,\n",
       " 'patience': 841,\n",
       " 'former': 842,\n",
       " 'madhya': 843,\n",
       " 'pradesh': 844,\n",
       " 'led': 845,\n",
       " 'gems': 846,\n",
       " 'funtenna': 847,\n",
       " 'ancient': 848,\n",
       " 'subreddits': 849,\n",
       " 'colorado': 850,\n",
       " 'awesome': 851,\n",
       " 'upon': 852,\n",
       " 'reported': 853,\n",
       " 'risk': 854,\n",
       " 'turned': 855,\n",
       " 'seeing': 856,\n",
       " 'moment': 857,\n",
       " 'thinking': 858,\n",
       " 'early': 859,\n",
       " 'pakistani': 860,\n",
       " 'dog': 861,\n",
       " 'trust': 862,\n",
       " 'driver': 863,\n",
       " 'potus': 864,\n",
       " 'disease': 865,\n",
       " 'give': 866,\n",
       " 'bed': 867,\n",
       " 'hand': 868,\n",
       " 'working': 869,\n",
       " 'russia': 870,\n",
       " 'date': 871,\n",
       " 'mop': 872,\n",
       " 'shows': 873,\n",
       " 'lmao': 874,\n",
       " 'claims': 875,\n",
       " 'militants': 876,\n",
       " 'bombs': 877,\n",
       " 'pamela': 878,\n",
       " 'miss': 879,\n",
       " 'ebola': 880,\n",
       " 'niggas': 881,\n",
       " 'tweet': 882,\n",
       " 'enough': 883,\n",
       " 'follow': 884,\n",
       " 'told': 885,\n",
       " 'soul': 886,\n",
       " 'biggest': 887,\n",
       " 'fashion': 888,\n",
       " 'middle': 889,\n",
       " 'pray': 890,\n",
       " 'holding': 891,\n",
       " 'likely': 892,\n",
       " 'businesses': 893,\n",
       " 'camp': 894,\n",
       " 'human': 895,\n",
       " 'room': 896,\n",
       " 'uk': 897,\n",
       " 'tree': 898,\n",
       " 'wonder': 899,\n",
       " 'rules': 900,\n",
       " 'lamp': 901,\n",
       " 'nws': 902,\n",
       " 'bayelsa': 903,\n",
       " 'nigerian': 904,\n",
       " 'parole': 905,\n",
       " 'unconfirmed': 906,\n",
       " 'neighbours': 907,\n",
       " 'chinas': 908,\n",
       " 'rly': 909,\n",
       " 'galactic': 910,\n",
       " 'expected': 911,\n",
       " 'london': 912,\n",
       " 'sky': 913,\n",
       " 'ave': 914,\n",
       " 'shots': 915,\n",
       " 'secret': 916,\n",
       " 'scene': 917,\n",
       " 'guess': 918,\n",
       " 'wants': 919,\n",
       " 'tried': 920,\n",
       " 'france': 921,\n",
       " 'members': 922,\n",
       " 'mode': 923,\n",
       " 'safety': 924,\n",
       " 'wasnt': 925,\n",
       " 'share': 926,\n",
       " 'started': 927,\n",
       " 'dad': 928,\n",
       " 'series': 929,\n",
       " 'department': 930,\n",
       " 'japanese': 931,\n",
       " 'victims': 932,\n",
       " 'arrested': 933,\n",
       " 'ca': 934,\n",
       " 'terror': 935,\n",
       " 'shift': 936,\n",
       " 'waving': 937,\n",
       " 'geller': 938,\n",
       " 'playlist': 939,\n",
       " 'young': 940,\n",
       " 'research': 941,\n",
       " 'cut': 942,\n",
       " 'ahead': 943,\n",
       " 'firefighters': 944,\n",
       " 'party': 945,\n",
       " 'dude': 946,\n",
       " 'info': 947,\n",
       " 'rock': 948,\n",
       " 'super': 949,\n",
       " 'tote': 950,\n",
       " 'handbag': 951,\n",
       " 'point': 952,\n",
       " 'investigating': 953,\n",
       " 'washington': 954,\n",
       " 'worse': 955,\n",
       " 'sex': 956,\n",
       " 'sad': 957,\n",
       " 'don\\x89ûªt': 958,\n",
       " 'gas': 959,\n",
       " 'fans': 960,\n",
       " 'sea': 961,\n",
       " 'passengers': 962,\n",
       " 'alarm': 963,\n",
       " 'break': 964,\n",
       " 'apollo': 965,\n",
       " 'cree': 966,\n",
       " 'sick': 967,\n",
       " 'cdt': 968,\n",
       " 'lake': 969,\n",
       " 'aba': 970,\n",
       " 'season': 971,\n",
       " 'dies': 972,\n",
       " 'dance': 973,\n",
       " 'wednesday': 974,\n",
       " 'twelve': 975,\n",
       " 'earth': 976,\n",
       " 'prepare': 977,\n",
       " 'direction': 978,\n",
       " 'internet': 979,\n",
       " 'act': 980,\n",
       " 'album': 981,\n",
       " 'general': 982,\n",
       " 'occurred': 983,\n",
       " 'king': 984,\n",
       " 'australia': 985,\n",
       " 'problem': 986,\n",
       " 'lady': 987,\n",
       " 'falling': 988,\n",
       " 'arent': 989,\n",
       " 'deep': 990,\n",
       " 'open': 991,\n",
       " 'art': 992,\n",
       " 'walk': 993,\n",
       " 'mean': 994,\n",
       " 'winds': 995,\n",
       " 'strike': 996,\n",
       " 'glad': 997,\n",
       " 'record': 998,\n",
       " 'idea': 999,\n",
       " 'libya': 1000,\n",
       " ...}"
      ]
     },
     "execution_count": 169,
     "metadata": {},
     "output_type": "execute_result"
    }
   ],
   "source": [
    "tokenizer.word_index"
   ]
  },
  {
   "cell_type": "code",
   "execution_count": 170,
   "id": "ee54557e",
   "metadata": {
    "ExecuteTime": {
     "end_time": "2022-06-01T14:06:29.402185Z",
     "start_time": "2022-06-01T14:06:29.237206Z"
    }
   },
   "outputs": [
    {
     "name": "stdout",
     "output_type": "stream",
     "text": [
      "Average langth of tweet: 8.932221200577958\n"
     ]
    },
    {
     "data": {
      "text/plain": [
       "(array([2.160e+02, 6.370e+02, 1.172e+03, 2.213e+03, 1.472e+03, 1.160e+03,\n",
       "        6.730e+02, 6.200e+01, 6.000e+00, 2.000e+00]),\n",
       " array([ 0. ,  2.3,  4.6,  6.9,  9.2, 11.5, 13.8, 16.1, 18.4, 20.7, 23. ]),\n",
       " <BarContainer object of 10 artists>)"
      ]
     },
     "execution_count": 170,
     "metadata": {},
     "output_type": "execute_result"
    },
    {
     "data": {
      "image/png": "[encoded data removed]",
      "text/plain": [
       "<Figure size 432x288 with 1 Axes>"
      ]
     },
     "metadata": {
      "needs_background": "light"
     },
     "output_type": "display_data"
    }
   ],
   "source": [
    "print(\"Average langth of tweet:\", sum(map(len, X))/len(X))\n",
    "plt.hist([len(tweet) for tweet in X])"
   ]
  },
  {
   "cell_type": "code",
   "execution_count": 171,
   "id": "59a817d3",
   "metadata": {
    "ExecuteTime": {
     "end_time": "2022-06-01T14:06:29.772179Z",
     "start_time": "2022-06-01T14:06:29.404179Z"
    }
   },
   "outputs": [
    {
     "data": {
      "text/plain": [
       "Text(0.5, 1.0, 'Fake')"
      ]
     },
     "execution_count": 171,
     "metadata": {},
     "output_type": "execute_result"
    },
    {
     "data": {
      "image/png": "[encoded data removed]",
      "text/plain": [
       "<Figure size 720x360 with 2 Axes>"
      ]
     },
     "metadata": {
      "needs_background": "light"
     },
     "output_type": "display_data"
    }
   ],
   "source": [
    "fig,(ax1,ax2) = plt.subplots(1,2,figsize=(10,5))\n",
    "ax1.hist([len(X[i]) for i in range(len(X)) if y[i]==1])\n",
    "ax1.set_title(\"Real\")\n",
    "ax2.hist([len(X[i]) for i in range(len(X)) if y[i]==0], color=\"orange\")\n",
    "ax2.set_title(\"Fake\")"
   ]
  },
  {
   "cell_type": "code",
   "execution_count": 172,
   "id": "25040265",
   "metadata": {
    "ExecuteTime": {
     "end_time": "2022-06-01T14:06:29.788139Z",
     "start_time": "2022-06-01T14:06:29.774175Z"
    }
   },
   "outputs": [
    {
     "name": "stdout",
     "output_type": "stream",
     "text": [
      "0.9997372914751084\n"
     ]
    }
   ],
   "source": [
    "count=0\n",
    "for tweet in X:\n",
    "    if len(tweet) > 20:\n",
    "        count+=1\n",
    "print((len(X)-count) / len(X))"
   ]
  },
  {
   "cell_type": "code",
   "execution_count": 173,
   "id": "4ea2c106",
   "metadata": {
    "ExecuteTime": {
     "end_time": "2022-06-01T14:06:29.835704Z",
     "start_time": "2022-06-01T14:06:29.792127Z"
    }
   },
   "outputs": [],
   "source": [
    "X = keras.preprocessing.sequence.pad_sequences(X, maxlen=20, padding=\"post\")"
   ]
  },
  {
   "cell_type": "code",
   "execution_count": 174,
   "id": "ca927481",
   "metadata": {
    "ExecuteTime": {
     "end_time": "2022-06-01T14:06:29.850691Z",
     "start_time": "2022-06-01T14:06:29.837730Z"
    }
   },
   "outputs": [],
   "source": [
    "def preprocess(text_sequence):\n",
    "    text_sequence = pd.Series(map(clean_text, text_sequence))    \n",
    "    text_sequence = [nltk.word_tokenize(sentence) for sentence in text_sequence]\n",
    "    text_sequence = list(map(remove_stopwords, text_sequence))    \n",
    "    text_sequence =  tokenizer.texts_to_sequences(text_sequence)\n",
    "    text_sequence = keras.preprocessing.sequence.pad_sequences(text_sequence, maxlen=20, padding=\"post\") \n",
    "    return text_sequence"
   ]
  },
  {
   "cell_type": "markdown",
   "id": "a3a5445f",
   "metadata": {},
   "source": [
    "# Model tuning  \n",
    "이전의 모델이 1번의 LSTM 반복, 100개의 은닉상태, 30epoch를 사용하였으므로 이를 똑같이 사용하여 성능 비교"
   ]
  },
  {
   "cell_type": "code",
   "execution_count": 44,
   "id": "62b54a72",
   "metadata": {
    "ExecuteTime": {
     "end_time": "2022-06-02T07:51:56.091299Z",
     "start_time": "2022-06-02T07:51:56.066414Z"
    }
   },
   "outputs": [
    {
     "ename": "AttributeError",
     "evalue": "'list' object has no attribute 'dtype'",
     "output_type": "error",
     "traceback": [
      "\u001b[1;31m---------------------------------------------------------------------------\u001b[0m",
      "\u001b[1;31mAttributeError\u001b[0m                            Traceback (most recent call last)",
      "Input \u001b[1;32mIn [44]\u001b[0m, in \u001b[0;36m<cell line: 1>\u001b[1;34m()\u001b[0m\n\u001b[1;32m----> 1\u001b[0m \u001b[43mX\u001b[49m\u001b[38;5;241;43m.\u001b[39;49m\u001b[43mdtype\u001b[49m\n",
      "\u001b[1;31mAttributeError\u001b[0m: 'list' object has no attribute 'dtype'"
     ]
    }
   ],
   "source": [
    "X.dtype"
   ]
  },
  {
   "cell_type": "code",
   "execution_count": 45,
   "id": "8e6ad807",
   "metadata": {
    "ExecuteTime": {
     "end_time": "2022-06-02T07:52:46.895793Z",
     "start_time": "2022-06-02T07:52:46.735122Z"
    }
   },
   "outputs": [],
   "source": [
    "X, y = tf.ragged.constant(X),tf.ragged.constant(y)"
   ]
  },
  {
   "cell_type": "code",
   "execution_count": 52,
   "id": "2b01701d",
   "metadata": {
    "ExecuteTime": {
     "end_time": "2022-06-02T07:53:19.111660Z",
     "start_time": "2022-06-02T07:53:19.099757Z"
    }
   },
   "outputs": [
    {
     "data": {
      "text/plain": [
       "TensorShape([7613, None])"
      ]
     },
     "execution_count": 52,
     "metadata": {},
     "output_type": "execute_result"
    }
   ],
   "source": [
    "X.shape"
   ]
  },
  {
   "cell_type": "code",
   "execution_count": 50,
   "id": "255391d7",
   "metadata": {
    "ExecuteTime": {
     "end_time": "2022-06-02T07:53:10.610384Z",
     "start_time": "2022-06-02T07:53:10.535117Z"
    }
   },
   "outputs": [
    {
     "ename": "TypeError",
     "evalue": "Only integers, slices (`:`), ellipsis (`...`), tf.newaxis (`None`) and scalar tf.int32/tf.int64 tensors are valid indices, got array([7285, 2553, 2494, ..., 5380, 4356, 1941], dtype=int64)",
     "output_type": "error",
     "traceback": [
      "\u001b[1;31m---------------------------------------------------------------------------\u001b[0m",
      "\u001b[1;31mTypeError\u001b[0m                                 Traceback (most recent call last)",
      "Input \u001b[1;32mIn [50]\u001b[0m, in \u001b[0;36m<cell line: 1>\u001b[1;34m()\u001b[0m\n\u001b[1;32m----> 1\u001b[0m X_train, X_valid, y_train, y_valid \u001b[38;5;241m=\u001b[39m \u001b[43mtrain_test_split\u001b[49m\u001b[43m(\u001b[49m\u001b[43mX\u001b[49m\u001b[43m,\u001b[49m\u001b[43m \u001b[49m\u001b[43my\u001b[49m\u001b[43m,\u001b[49m\u001b[43m \u001b[49m\u001b[43mstratify\u001b[49m\u001b[38;5;241;43m=\u001b[39;49m\u001b[43my\u001b[49m\u001b[43m)\u001b[49m\n",
      "File \u001b[1;32m~\\anaconda3\\envs\\python3.9.0\\lib\\site-packages\\sklearn\\model_selection\\_split.py:2443\u001b[0m, in \u001b[0;36mtrain_test_split\u001b[1;34m(test_size, train_size, random_state, shuffle, stratify, *arrays)\u001b[0m\n\u001b[0;32m   2439\u001b[0m     cv \u001b[38;5;241m=\u001b[39m CVClass(test_size\u001b[38;5;241m=\u001b[39mn_test, train_size\u001b[38;5;241m=\u001b[39mn_train, random_state\u001b[38;5;241m=\u001b[39mrandom_state)\n\u001b[0;32m   2441\u001b[0m     train, test \u001b[38;5;241m=\u001b[39m \u001b[38;5;28mnext\u001b[39m(cv\u001b[38;5;241m.\u001b[39msplit(X\u001b[38;5;241m=\u001b[39marrays[\u001b[38;5;241m0\u001b[39m], y\u001b[38;5;241m=\u001b[39mstratify))\n\u001b[1;32m-> 2443\u001b[0m \u001b[38;5;28;01mreturn\u001b[39;00m \u001b[38;5;28;43mlist\u001b[39;49m\u001b[43m(\u001b[49m\n\u001b[0;32m   2444\u001b[0m \u001b[43m    \u001b[49m\u001b[43mchain\u001b[49m\u001b[38;5;241;43m.\u001b[39;49m\u001b[43mfrom_iterable\u001b[49m\u001b[43m(\u001b[49m\n\u001b[0;32m   2445\u001b[0m \u001b[43m        \u001b[49m\u001b[43m(\u001b[49m\u001b[43m_safe_indexing\u001b[49m\u001b[43m(\u001b[49m\u001b[43ma\u001b[49m\u001b[43m,\u001b[49m\u001b[43m \u001b[49m\u001b[43mtrain\u001b[49m\u001b[43m)\u001b[49m\u001b[43m,\u001b[49m\u001b[43m \u001b[49m\u001b[43m_safe_indexing\u001b[49m\u001b[43m(\u001b[49m\u001b[43ma\u001b[49m\u001b[43m,\u001b[49m\u001b[43m \u001b[49m\u001b[43mtest\u001b[49m\u001b[43m)\u001b[49m\u001b[43m)\u001b[49m\u001b[43m \u001b[49m\u001b[38;5;28;43;01mfor\u001b[39;49;00m\u001b[43m \u001b[49m\u001b[43ma\u001b[49m\u001b[43m \u001b[49m\u001b[38;5;129;43;01min\u001b[39;49;00m\u001b[43m \u001b[49m\u001b[43marrays\u001b[49m\n\u001b[0;32m   2446\u001b[0m \u001b[43m    \u001b[49m\u001b[43m)\u001b[49m\n\u001b[0;32m   2447\u001b[0m \u001b[43m\u001b[49m\u001b[43m)\u001b[49m\n",
      "File \u001b[1;32m~\\anaconda3\\envs\\python3.9.0\\lib\\site-packages\\sklearn\\model_selection\\_split.py:2445\u001b[0m, in \u001b[0;36m<genexpr>\u001b[1;34m(.0)\u001b[0m\n\u001b[0;32m   2439\u001b[0m     cv \u001b[38;5;241m=\u001b[39m CVClass(test_size\u001b[38;5;241m=\u001b[39mn_test, train_size\u001b[38;5;241m=\u001b[39mn_train, random_state\u001b[38;5;241m=\u001b[39mrandom_state)\n\u001b[0;32m   2441\u001b[0m     train, test \u001b[38;5;241m=\u001b[39m \u001b[38;5;28mnext\u001b[39m(cv\u001b[38;5;241m.\u001b[39msplit(X\u001b[38;5;241m=\u001b[39marrays[\u001b[38;5;241m0\u001b[39m], y\u001b[38;5;241m=\u001b[39mstratify))\n\u001b[0;32m   2443\u001b[0m \u001b[38;5;28;01mreturn\u001b[39;00m \u001b[38;5;28mlist\u001b[39m(\n\u001b[0;32m   2444\u001b[0m     chain\u001b[38;5;241m.\u001b[39mfrom_iterable(\n\u001b[1;32m-> 2445\u001b[0m         (\u001b[43m_safe_indexing\u001b[49m\u001b[43m(\u001b[49m\u001b[43ma\u001b[49m\u001b[43m,\u001b[49m\u001b[43m \u001b[49m\u001b[43mtrain\u001b[49m\u001b[43m)\u001b[49m, _safe_indexing(a, test)) \u001b[38;5;28;01mfor\u001b[39;00m a \u001b[38;5;129;01min\u001b[39;00m arrays\n\u001b[0;32m   2446\u001b[0m     )\n\u001b[0;32m   2447\u001b[0m )\n",
      "File \u001b[1;32m~\\anaconda3\\envs\\python3.9.0\\lib\\site-packages\\sklearn\\utils\\__init__.py:378\u001b[0m, in \u001b[0;36m_safe_indexing\u001b[1;34m(X, indices, axis)\u001b[0m\n\u001b[0;32m    376\u001b[0m     \u001b[38;5;28;01mreturn\u001b[39;00m _pandas_indexing(X, indices, indices_dtype, axis\u001b[38;5;241m=\u001b[39maxis)\n\u001b[0;32m    377\u001b[0m \u001b[38;5;28;01melif\u001b[39;00m \u001b[38;5;28mhasattr\u001b[39m(X, \u001b[38;5;124m\"\u001b[39m\u001b[38;5;124mshape\u001b[39m\u001b[38;5;124m\"\u001b[39m):\n\u001b[1;32m--> 378\u001b[0m     \u001b[38;5;28;01mreturn\u001b[39;00m \u001b[43m_array_indexing\u001b[49m\u001b[43m(\u001b[49m\u001b[43mX\u001b[49m\u001b[43m,\u001b[49m\u001b[43m \u001b[49m\u001b[43mindices\u001b[49m\u001b[43m,\u001b[49m\u001b[43m \u001b[49m\u001b[43mindices_dtype\u001b[49m\u001b[43m,\u001b[49m\u001b[43m \u001b[49m\u001b[43maxis\u001b[49m\u001b[38;5;241;43m=\u001b[39;49m\u001b[43maxis\u001b[49m\u001b[43m)\u001b[49m\n\u001b[0;32m    379\u001b[0m \u001b[38;5;28;01melse\u001b[39;00m:\n\u001b[0;32m    380\u001b[0m     \u001b[38;5;28;01mreturn\u001b[39;00m _list_indexing(X, indices, indices_dtype)\n",
      "File \u001b[1;32m~\\anaconda3\\envs\\python3.9.0\\lib\\site-packages\\sklearn\\utils\\__init__.py:202\u001b[0m, in \u001b[0;36m_array_indexing\u001b[1;34m(array, key, key_dtype, axis)\u001b[0m\n\u001b[0;32m    200\u001b[0m \u001b[38;5;28;01mif\u001b[39;00m \u001b[38;5;28misinstance\u001b[39m(key, \u001b[38;5;28mtuple\u001b[39m):\n\u001b[0;32m    201\u001b[0m     key \u001b[38;5;241m=\u001b[39m \u001b[38;5;28mlist\u001b[39m(key)\n\u001b[1;32m--> 202\u001b[0m \u001b[38;5;28;01mreturn\u001b[39;00m \u001b[43marray\u001b[49m\u001b[43m[\u001b[49m\u001b[43mkey\u001b[49m\u001b[43m]\u001b[49m \u001b[38;5;28;01mif\u001b[39;00m axis \u001b[38;5;241m==\u001b[39m \u001b[38;5;241m0\u001b[39m \u001b[38;5;28;01melse\u001b[39;00m array[:, key]\n",
      "File \u001b[1;32m~\\anaconda3\\envs\\python3.9.0\\lib\\site-packages\\tensorflow\\python\\util\\traceback_utils.py:153\u001b[0m, in \u001b[0;36mfilter_traceback.<locals>.error_handler\u001b[1;34m(*args, **kwargs)\u001b[0m\n\u001b[0;32m    151\u001b[0m \u001b[38;5;28;01mexcept\u001b[39;00m \u001b[38;5;167;01mException\u001b[39;00m \u001b[38;5;28;01mas\u001b[39;00m e:\n\u001b[0;32m    152\u001b[0m   filtered_tb \u001b[38;5;241m=\u001b[39m _process_traceback_frames(e\u001b[38;5;241m.\u001b[39m__traceback__)\n\u001b[1;32m--> 153\u001b[0m   \u001b[38;5;28;01mraise\u001b[39;00m e\u001b[38;5;241m.\u001b[39mwith_traceback(filtered_tb) \u001b[38;5;28;01mfrom\u001b[39;00m \u001b[38;5;28mNone\u001b[39m\n\u001b[0;32m    154\u001b[0m \u001b[38;5;28;01mfinally\u001b[39;00m:\n\u001b[0;32m    155\u001b[0m   \u001b[38;5;28;01mdel\u001b[39;00m filtered_tb\n",
      "File \u001b[1;32m~\\anaconda3\\envs\\python3.9.0\\lib\\site-packages\\tensorflow\\python\\ops\\array_ops.py:889\u001b[0m, in \u001b[0;36m_check_index\u001b[1;34m(idx)\u001b[0m\n\u001b[0;32m    884\u001b[0m dtype \u001b[38;5;241m=\u001b[39m \u001b[38;5;28mgetattr\u001b[39m(idx, \u001b[38;5;124m\"\u001b[39m\u001b[38;5;124mdtype\u001b[39m\u001b[38;5;124m\"\u001b[39m, \u001b[38;5;28;01mNone\u001b[39;00m)\n\u001b[0;32m    885\u001b[0m \u001b[38;5;28;01mif\u001b[39;00m (dtype \u001b[38;5;129;01mis\u001b[39;00m \u001b[38;5;28;01mNone\u001b[39;00m \u001b[38;5;129;01mor\u001b[39;00m dtypes\u001b[38;5;241m.\u001b[39mas_dtype(dtype) \u001b[38;5;129;01mnot\u001b[39;00m \u001b[38;5;129;01min\u001b[39;00m _SUPPORTED_SLICE_DTYPES \u001b[38;5;129;01mor\u001b[39;00m\n\u001b[0;32m    886\u001b[0m     idx\u001b[38;5;241m.\u001b[39mshape \u001b[38;5;129;01mand\u001b[39;00m \u001b[38;5;28mlen\u001b[39m(idx\u001b[38;5;241m.\u001b[39mshape) \u001b[38;5;241m==\u001b[39m \u001b[38;5;241m1\u001b[39m):\n\u001b[0;32m    887\u001b[0m   \u001b[38;5;66;03m# TODO(slebedev): IndexError seems more appropriate here, but it\u001b[39;00m\n\u001b[0;32m    888\u001b[0m   \u001b[38;5;66;03m# will break `_slice_helper` contract.\u001b[39;00m\n\u001b[1;32m--> 889\u001b[0m   \u001b[38;5;28;01mraise\u001b[39;00m \u001b[38;5;167;01mTypeError\u001b[39;00m(_SLICE_TYPE_ERROR \u001b[38;5;241m+\u001b[39m \u001b[38;5;124m\"\u001b[39m\u001b[38;5;124m, got \u001b[39m\u001b[38;5;132;01m{!r}\u001b[39;00m\u001b[38;5;124m\"\u001b[39m\u001b[38;5;241m.\u001b[39mformat(idx))\n",
      "\u001b[1;31mTypeError\u001b[0m: Only integers, slices (`:`), ellipsis (`...`), tf.newaxis (`None`) and scalar tf.int32/tf.int64 tensors are valid indices, got array([7285, 2553, 2494, ..., 5380, 4356, 1941], dtype=int64)"
     ]
    }
   ],
   "source": [
    "X_train, X_valid, y_train, y_valid = train_test_split(X, y, stratify=y)"
   ]
  },
  {
   "cell_type": "code",
   "execution_count": 21,
   "id": "d68823c6",
   "metadata": {
    "ExecuteTime": {
     "end_time": "2022-06-02T07:48:44.519313Z",
     "start_time": "2022-06-02T07:48:44.506274Z"
    }
   },
   "outputs": [
    {
     "data": {
      "text/plain": [
       "str"
      ]
     },
     "execution_count": 21,
     "metadata": {},
     "output_type": "execute_result"
    }
   ],
   "source": [
    "type(X_train[0][0])"
   ]
  },
  {
   "cell_type": "code",
   "execution_count": 25,
   "id": "4a37489e",
   "metadata": {
    "ExecuteTime": {
     "end_time": "2022-06-02T07:49:14.729134Z",
     "start_time": "2022-06-02T07:49:14.719318Z"
    }
   },
   "outputs": [],
   "source": [
    "def make_model(iter = 1, hidden=100):\n",
    "#     Input = keras.Input(shape=[None,250])\n",
    "    Input = hub.KerasLayer(\"https://tfhub.dev/google/Wiki-words-250/2\", output_shape=[None, 250], dtype=tf.string)\n",
    "\n",
    "#     x = keras.layers.Reshape((20, 1))(Input)\n",
    "    \n",
    "    for _ in range(iter):\n",
    "        x = keras.layers.LSTM(hidden, return_sequences=True)(Input)\n",
    "        \n",
    "    x = keras.layers.LSTM(hidden)(x)\n",
    "    x = keras.layers.Dense((hidden+40)/2, activation=\"relu\")(x)\n",
    "    output = keras.layers.Dense(1, activation=\"sigmoid\")(x)\n",
    "\n",
    "    model = keras.Model(inputs=Input, outputs=output)\n",
    "    model.compile(loss=\"binary_crossentropy\", metrics=\"accuracy\", optimizer=\"adam\")\n",
    "    return model"
   ]
  },
  {
   "cell_type": "code",
   "execution_count": 406,
   "id": "ee9b5beb",
   "metadata": {
    "ExecuteTime": {
     "end_time": "2022-06-02T07:40:24.943296Z",
     "start_time": "2022-06-02T07:40:24.926766Z"
    }
   },
   "outputs": [
    {
     "data": {
      "text/plain": [
       "(5709,)"
      ]
     },
     "execution_count": 406,
     "metadata": {},
     "output_type": "execute_result"
    }
   ],
   "source": [
    "X_train.shape"
   ]
  },
  {
   "cell_type": "code",
   "execution_count": 353,
   "id": "8e86ed07",
   "metadata": {
    "ExecuteTime": {
     "end_time": "2022-06-02T07:32:03.487237Z",
     "start_time": "2022-06-02T07:32:03.481366Z"
    }
   },
   "outputs": [
    {
     "data": {
      "text/plain": [
       "dtype('float32')"
      ]
     },
     "execution_count": 353,
     "metadata": {},
     "output_type": "execute_result"
    }
   ],
   "source": [
    "X_train[0].dtype"
   ]
  },
  {
   "cell_type": "code",
   "execution_count": 53,
   "id": "f38ad4e9",
   "metadata": {
    "ExecuteTime": {
     "end_time": "2022-06-02T07:53:44.587189Z",
     "start_time": "2022-06-02T07:53:42.677306Z"
    }
   },
   "outputs": [
    {
     "ename": "TypeError",
     "evalue": "Inputs to a layer should be tensors. Got: <tensorflow_hub.keras_layer.KerasLayer object at 0x00000251F81B77F0>",
     "output_type": "error",
     "traceback": [
      "\u001b[1;31m---------------------------------------------------------------------------\u001b[0m",
      "\u001b[1;31mTypeError\u001b[0m                                 Traceback (most recent call last)",
      "Input \u001b[1;32mIn [53]\u001b[0m, in \u001b[0;36m<cell line: 1>\u001b[1;34m()\u001b[0m\n\u001b[1;32m----> 1\u001b[0m model \u001b[38;5;241m=\u001b[39m \u001b[43mmake_model\u001b[49m\u001b[43m(\u001b[49m\u001b[38;5;241;43m1\u001b[39;49m\u001b[43m,\u001b[49m\u001b[43m \u001b[49m\u001b[38;5;241;43m100\u001b[39;49m\u001b[43m)\u001b[49m\n\u001b[0;32m      2\u001b[0m history \u001b[38;5;241m=\u001b[39m model\u001b[38;5;241m.\u001b[39mfit(X,y, epochs\u001b[38;5;241m=\u001b[39m\u001b[38;5;241m30\u001b[39m)\n",
      "Input \u001b[1;32mIn [25]\u001b[0m, in \u001b[0;36mmake_model\u001b[1;34m(iter, hidden)\u001b[0m\n\u001b[0;32m      5\u001b[0m \u001b[38;5;66;03m#     x = keras.layers.Reshape((20, 1))(Input)\u001b[39;00m\n\u001b[0;32m      7\u001b[0m     \u001b[38;5;28;01mfor\u001b[39;00m _ \u001b[38;5;129;01min\u001b[39;00m \u001b[38;5;28mrange\u001b[39m(\u001b[38;5;28miter\u001b[39m):\n\u001b[1;32m----> 8\u001b[0m         x \u001b[38;5;241m=\u001b[39m \u001b[43mkeras\u001b[49m\u001b[38;5;241;43m.\u001b[39;49m\u001b[43mlayers\u001b[49m\u001b[38;5;241;43m.\u001b[39;49m\u001b[43mLSTM\u001b[49m\u001b[43m(\u001b[49m\u001b[43mhidden\u001b[49m\u001b[43m,\u001b[49m\u001b[43m \u001b[49m\u001b[43mreturn_sequences\u001b[49m\u001b[38;5;241;43m=\u001b[39;49m\u001b[38;5;28;43;01mTrue\u001b[39;49;00m\u001b[43m)\u001b[49m\u001b[43m(\u001b[49m\u001b[43mInput\u001b[49m\u001b[43m)\u001b[49m\n\u001b[0;32m     10\u001b[0m     x \u001b[38;5;241m=\u001b[39m keras\u001b[38;5;241m.\u001b[39mlayers\u001b[38;5;241m.\u001b[39mLSTM(hidden)(x)\n\u001b[0;32m     11\u001b[0m     x \u001b[38;5;241m=\u001b[39m keras\u001b[38;5;241m.\u001b[39mlayers\u001b[38;5;241m.\u001b[39mDense((hidden\u001b[38;5;241m+\u001b[39m\u001b[38;5;241m40\u001b[39m)\u001b[38;5;241m/\u001b[39m\u001b[38;5;241m2\u001b[39m, activation\u001b[38;5;241m=\u001b[39m\u001b[38;5;124m\"\u001b[39m\u001b[38;5;124mrelu\u001b[39m\u001b[38;5;124m\"\u001b[39m)(x)\n",
      "File \u001b[1;32m~\\anaconda3\\envs\\python3.9.0\\lib\\site-packages\\keras\\layers\\recurrent.py:659\u001b[0m, in \u001b[0;36mRNN.__call__\u001b[1;34m(self, inputs, initial_state, constants, **kwargs)\u001b[0m\n\u001b[0;32m    653\u001b[0m inputs, initial_state, constants \u001b[38;5;241m=\u001b[39m _standardize_args(inputs,\n\u001b[0;32m    654\u001b[0m                                                      initial_state,\n\u001b[0;32m    655\u001b[0m                                                      constants,\n\u001b[0;32m    656\u001b[0m                                                      \u001b[38;5;28mself\u001b[39m\u001b[38;5;241m.\u001b[39m_num_constants)\n\u001b[0;32m    658\u001b[0m \u001b[38;5;28;01mif\u001b[39;00m initial_state \u001b[38;5;129;01mis\u001b[39;00m \u001b[38;5;28;01mNone\u001b[39;00m \u001b[38;5;129;01mand\u001b[39;00m constants \u001b[38;5;129;01mis\u001b[39;00m \u001b[38;5;28;01mNone\u001b[39;00m:\n\u001b[1;32m--> 659\u001b[0m   \u001b[38;5;28;01mreturn\u001b[39;00m \u001b[38;5;28msuper\u001b[39m(RNN, \u001b[38;5;28mself\u001b[39m)\u001b[38;5;241m.\u001b[39m\u001b[38;5;21m__call__\u001b[39m(inputs, \u001b[38;5;241m*\u001b[39m\u001b[38;5;241m*\u001b[39mkwargs)\n\u001b[0;32m    661\u001b[0m \u001b[38;5;66;03m# If any of `initial_state` or `constants` are specified and are Keras\u001b[39;00m\n\u001b[0;32m    662\u001b[0m \u001b[38;5;66;03m# tensors, then add them to the inputs and temporarily modify the\u001b[39;00m\n\u001b[0;32m    663\u001b[0m \u001b[38;5;66;03m# input_spec to include them.\u001b[39;00m\n\u001b[0;32m    665\u001b[0m additional_inputs \u001b[38;5;241m=\u001b[39m []\n",
      "File \u001b[1;32m~\\anaconda3\\envs\\python3.9.0\\lib\\site-packages\\keras\\engine\\base_layer.py:1020\u001b[0m, in \u001b[0;36mLayer.__call__\u001b[1;34m(self, *args, **kwargs)\u001b[0m\n\u001b[0;32m   1013\u001b[0m eager \u001b[38;5;241m=\u001b[39m tf\u001b[38;5;241m.\u001b[39mexecuting_eagerly()\n\u001b[0;32m   1014\u001b[0m \u001b[38;5;28;01mwith\u001b[39;00m call_context\u001b[38;5;241m.\u001b[39menter(\n\u001b[0;32m   1015\u001b[0m     layer\u001b[38;5;241m=\u001b[39m\u001b[38;5;28mself\u001b[39m,\n\u001b[0;32m   1016\u001b[0m     inputs\u001b[38;5;241m=\u001b[39minputs,\n\u001b[0;32m   1017\u001b[0m     build_graph\u001b[38;5;241m=\u001b[39m\u001b[38;5;129;01mnot\u001b[39;00m eager,\n\u001b[0;32m   1018\u001b[0m     training\u001b[38;5;241m=\u001b[39mtraining_mode):\n\u001b[1;32m-> 1020\u001b[0m   \u001b[43minput_spec\u001b[49m\u001b[38;5;241;43m.\u001b[39;49m\u001b[43massert_input_compatibility\u001b[49m\u001b[43m(\u001b[49m\u001b[38;5;28;43mself\u001b[39;49m\u001b[38;5;241;43m.\u001b[39;49m\u001b[43minput_spec\u001b[49m\u001b[43m,\u001b[49m\u001b[43m \u001b[49m\u001b[43minputs\u001b[49m\u001b[43m,\u001b[49m\u001b[43m \u001b[49m\u001b[38;5;28;43mself\u001b[39;49m\u001b[38;5;241;43m.\u001b[39;49m\u001b[43mname\u001b[49m\u001b[43m)\u001b[49m\n\u001b[0;32m   1021\u001b[0m   \u001b[38;5;28;01mif\u001b[39;00m eager:\n\u001b[0;32m   1022\u001b[0m     call_fn \u001b[38;5;241m=\u001b[39m \u001b[38;5;28mself\u001b[39m\u001b[38;5;241m.\u001b[39mcall\n",
      "File \u001b[1;32m~\\anaconda3\\envs\\python3.9.0\\lib\\site-packages\\keras\\engine\\input_spec.py:196\u001b[0m, in \u001b[0;36massert_input_compatibility\u001b[1;34m(input_spec, inputs, layer_name)\u001b[0m\n\u001b[0;32m    190\u001b[0m \u001b[38;5;28;01mfor\u001b[39;00m x \u001b[38;5;129;01min\u001b[39;00m inputs:\n\u001b[0;32m    191\u001b[0m   \u001b[38;5;66;03m# Having a shape/dtype is the only commonality of the various tensor-like\u001b[39;00m\n\u001b[0;32m    192\u001b[0m   \u001b[38;5;66;03m# objects that may be passed. The most common kind of invalid type we are\u001b[39;00m\n\u001b[0;32m    193\u001b[0m   \u001b[38;5;66;03m# guarding for is a Layer instance (Functional API), which does not\u001b[39;00m\n\u001b[0;32m    194\u001b[0m   \u001b[38;5;66;03m# have a `shape` attribute.\u001b[39;00m\n\u001b[0;32m    195\u001b[0m   \u001b[38;5;28;01mif\u001b[39;00m \u001b[38;5;129;01mnot\u001b[39;00m \u001b[38;5;28mhasattr\u001b[39m(x, \u001b[38;5;124m'\u001b[39m\u001b[38;5;124mshape\u001b[39m\u001b[38;5;124m'\u001b[39m):\n\u001b[1;32m--> 196\u001b[0m     \u001b[38;5;28;01mraise\u001b[39;00m \u001b[38;5;167;01mTypeError\u001b[39;00m(\u001b[38;5;124m'\u001b[39m\u001b[38;5;124mInputs to a layer should be tensors. Got: \u001b[39m\u001b[38;5;132;01m%s\u001b[39;00m\u001b[38;5;124m'\u001b[39m \u001b[38;5;241m%\u001b[39m (x,))\n\u001b[0;32m    198\u001b[0m \u001b[38;5;28;01mif\u001b[39;00m \u001b[38;5;28mlen\u001b[39m(inputs) \u001b[38;5;241m!=\u001b[39m \u001b[38;5;28mlen\u001b[39m(input_spec):\n\u001b[0;32m    199\u001b[0m   \u001b[38;5;28;01mraise\u001b[39;00m \u001b[38;5;167;01mValueError\u001b[39;00m(\u001b[38;5;124m'\u001b[39m\u001b[38;5;124mLayer \u001b[39m\u001b[38;5;124m'\u001b[39m \u001b[38;5;241m+\u001b[39m layer_name \u001b[38;5;241m+\u001b[39m \u001b[38;5;124m'\u001b[39m\u001b[38;5;124m expects \u001b[39m\u001b[38;5;124m'\u001b[39m \u001b[38;5;241m+\u001b[39m\n\u001b[0;32m    200\u001b[0m                    \u001b[38;5;28mstr\u001b[39m(\u001b[38;5;28mlen\u001b[39m(input_spec)) \u001b[38;5;241m+\u001b[39m \u001b[38;5;124m'\u001b[39m\u001b[38;5;124m input(s), \u001b[39m\u001b[38;5;124m'\u001b[39m\n\u001b[0;32m    201\u001b[0m                    \u001b[38;5;124m'\u001b[39m\u001b[38;5;124mbut it received \u001b[39m\u001b[38;5;124m'\u001b[39m \u001b[38;5;241m+\u001b[39m \u001b[38;5;28mstr\u001b[39m(\u001b[38;5;28mlen\u001b[39m(inputs)) \u001b[38;5;241m+\u001b[39m\n\u001b[0;32m    202\u001b[0m                    \u001b[38;5;124m'\u001b[39m\u001b[38;5;124m input tensors. Inputs received: \u001b[39m\u001b[38;5;124m'\u001b[39m \u001b[38;5;241m+\u001b[39m \u001b[38;5;28mstr\u001b[39m(inputs))\n",
      "\u001b[1;31mTypeError\u001b[0m: Inputs to a layer should be tensors. Got: <tensorflow_hub.keras_layer.KerasLayer object at 0x00000251F81B77F0>"
     ]
    }
   ],
   "source": [
    "model = make_model(1, 100)\n",
    "history = model.fit(X_train, y_train, validation_data=(X_valid, y_valid), epochs=30)"
   ]
  },
  {
   "cell_type": "code",
   "execution_count": 178,
   "id": "6dbe0434",
   "metadata": {
    "ExecuteTime": {
     "end_time": "2022-06-01T14:11:13.855219Z",
     "start_time": "2022-06-01T14:11:13.714684Z"
    }
   },
   "outputs": [
    {
     "data": {
      "text/plain": [
       "<matplotlib.legend.Legend at 0x29823c59970>"
      ]
     },
     "execution_count": 178,
     "metadata": {},
     "output_type": "execute_result"
    },
    {
     "data": {
      "image/png": "[encoded data removed]",
      "text/plain": [
       "<Figure size 1008x720 with 1 Axes>"
      ]
     },
     "metadata": {
      "needs_background": "light"
     },
     "output_type": "display_data"
    }
   ],
   "source": [
    "plt.figure(figsize=(14, 10))\n",
    "plt.plot(history.history[\"accuracy\"], label=\"Train\")\n",
    "plt.plot(history.history[\"val_accuracy\"], label=\"Valid\")\n",
    "plt.legend()"
   ]
  },
  {
   "cell_type": "code",
   "execution_count": 179,
   "id": "d128fec2",
   "metadata": {
    "ExecuteTime": {
     "end_time": "2022-06-01T14:13:43.593026Z",
     "start_time": "2022-06-01T14:13:43.180467Z"
    }
   },
   "outputs": [
    {
     "name": "stdout",
     "output_type": "stream",
     "text": [
      "60/60 [==============================] - 0s 6ms/step - loss: 0.6809 - accuracy: 0.6071\n"
     ]
    },
    {
     "data": {
      "text/plain": [
       "[0.6809261441230774, 0.6071428656578064]"
      ]
     },
     "execution_count": 179,
     "metadata": {},
     "output_type": "execute_result"
    }
   ],
   "source": [
    "model.evaluate(X_valid, y_valid)"
   ]
  },
  {
   "cell_type": "code",
   "execution_count": 127,
   "id": "f9a8930a",
   "metadata": {
    "ExecuteTime": {
     "end_time": "2022-06-01T13:48:38.715476Z",
     "start_time": "2022-06-01T13:47:44.570357Z"
    }
   },
   "outputs": [
    {
     "name": "stdout",
     "output_type": "stream",
     "text": [
      "Epoch 1/30\n",
      "238/238 [==============================] - 5s 8ms/step - loss: 0.6770 - accuracy: 0.5661\n",
      "Epoch 2/30\n",
      "238/238 [==============================] - 2s 7ms/step - loss: 0.6683 - accuracy: 0.5898\n",
      "Epoch 3/30\n",
      "238/238 [==============================] - 2s 7ms/step - loss: 0.6641 - accuracy: 0.5978\n",
      "Epoch 4/30\n",
      "238/238 [==============================] - 2s 7ms/step - loss: 0.6639 - accuracy: 0.6000\n",
      "Epoch 5/30\n",
      "238/238 [==============================] - 2s 7ms/step - loss: 0.6607 - accuracy: 0.6042\n",
      "Epoch 6/30\n",
      "238/238 [==============================] - 2s 7ms/step - loss: 0.6590 - accuracy: 0.6082\n",
      "Epoch 7/30\n",
      "238/238 [==============================] - 2s 7ms/step - loss: 0.6596 - accuracy: 0.6066\n",
      "Epoch 8/30\n",
      "238/238 [==============================] - 2s 7ms/step - loss: 0.6612 - accuracy: 0.6067\n",
      "Epoch 9/30\n",
      "238/238 [==============================] - 2s 7ms/step - loss: 0.6599 - accuracy: 0.6020\n",
      "Epoch 10/30\n",
      "238/238 [==============================] - 2s 7ms/step - loss: 0.6579 - accuracy: 0.6050\n",
      "Epoch 11/30\n",
      "238/238 [==============================] - 2s 7ms/step - loss: 0.6569 - accuracy: 0.6109\n",
      "Epoch 12/30\n",
      "238/238 [==============================] - 2s 7ms/step - loss: 0.6553 - accuracy: 0.6067\n",
      "Epoch 13/30\n",
      "238/238 [==============================] - 2s 7ms/step - loss: 0.6551 - accuracy: 0.6080\n",
      "Epoch 14/30\n",
      "238/238 [==============================] - 2s 7ms/step - loss: 0.6549 - accuracy: 0.6109\n",
      "Epoch 15/30\n",
      "238/238 [==============================] - 2s 7ms/step - loss: 0.6548 - accuracy: 0.6107\n",
      "Epoch 16/30\n",
      "238/238 [==============================] - 2s 7ms/step - loss: 0.6558 - accuracy: 0.6079\n",
      "Epoch 17/30\n",
      "238/238 [==============================] - 2s 7ms/step - loss: 0.6533 - accuracy: 0.6121\n",
      "Epoch 18/30\n",
      "238/238 [==============================] - 2s 7ms/step - loss: 0.6536 - accuracy: 0.6116\n",
      "Epoch 19/30\n",
      "238/238 [==============================] - 2s 7ms/step - loss: 0.6534 - accuracy: 0.6082\n",
      "Epoch 20/30\n",
      "238/238 [==============================] - 2s 7ms/step - loss: 0.6512 - accuracy: 0.6159\n",
      "Epoch 21/30\n",
      "238/238 [==============================] - 2s 7ms/step - loss: 0.6509 - accuracy: 0.6151\n",
      "Epoch 22/30\n",
      "238/238 [==============================] - 2s 7ms/step - loss: 0.6483 - accuracy: 0.6200\n",
      "Epoch 23/30\n",
      "238/238 [==============================] - 2s 7ms/step - loss: 0.6510 - accuracy: 0.6134\n",
      "Epoch 24/30\n",
      "238/238 [==============================] - 2s 7ms/step - loss: 0.6525 - accuracy: 0.6082: 0s\n",
      "Epoch 25/30\n",
      "238/238 [==============================] - 2s 7ms/step - loss: 0.6510 - accuracy: 0.6113\n",
      "Epoch 26/30\n",
      "238/238 [==============================] - 2s 7ms/step - loss: 0.6520 - accuracy: 0.6080\n",
      "Epoch 27/30\n",
      "238/238 [==============================] - 2s 7ms/step - loss: 0.6490 - accuracy: 0.6155\n",
      "Epoch 28/30\n",
      "238/238 [==============================] - 2s 7ms/step - loss: 0.6470 - accuracy: 0.6167\n",
      "Epoch 29/30\n",
      "238/238 [==============================] - 2s 7ms/step - loss: 0.6458 - accuracy: 0.6175\n",
      "Epoch 30/30\n",
      "238/238 [==============================] - 2s 7ms/step - loss: 0.6446 - accuracy: 0.6208\n"
     ]
    },
    {
     "data": {
      "text/plain": [
       "<keras.callbacks.History at 0x2968c345280>"
      ]
     },
     "execution_count": 127,
     "metadata": {},
     "output_type": "execute_result"
    }
   ],
   "source": [
    "model = make_model(1, 100)\n",
    "model.fit(X,y, epochs=30)"
   ]
  },
  {
   "cell_type": "code",
   "execution_count": 151,
   "id": "5a595e73",
   "metadata": {
    "ExecuteTime": {
     "end_time": "2022-06-01T14:00:53.025201Z",
     "start_time": "2022-06-01T14:00:53.009371Z"
    }
   },
   "outputs": [
    {
     "data": {
      "text/plain": [
       "[0.6003151535987854,\n",
       " 0.6239495873451233,\n",
       " 0.6160714030265808,\n",
       " 0.6171218752861023,\n",
       " 0.605567216873169]"
      ]
     },
     "execution_count": 151,
     "metadata": {},
     "output_type": "execute_result"
    }
   ],
   "source": [
    "history.history[\"val_accuracy\"][-5:]"
   ]
  },
  {
   "cell_type": "code",
   "execution_count": 128,
   "id": "3a355f0b",
   "metadata": {
    "ExecuteTime": {
     "end_time": "2022-06-01T13:48:49.707038Z",
     "start_time": "2022-06-01T13:48:41.590434Z"
    }
   },
   "outputs": [],
   "source": [
    "X_test = preprocess(X_test[\"text\"])"
   ]
  },
  {
   "cell_type": "code",
   "execution_count": 129,
   "id": "d5786271",
   "metadata": {
    "ExecuteTime": {
     "end_time": "2022-06-01T13:48:53.089944Z",
     "start_time": "2022-06-01T13:48:52.069887Z"
    }
   },
   "outputs": [],
   "source": [
    "submission[\"target\"] = (model.predict(X_test)>0.5).astype(\"int32\")"
   ]
  },
  {
   "cell_type": "code",
   "execution_count": 130,
   "id": "a6451827",
   "metadata": {
    "ExecuteTime": {
     "end_time": "2022-06-01T13:49:02.325254Z",
     "start_time": "2022-06-01T13:49:02.310266Z"
    }
   },
   "outputs": [],
   "source": [
    "submission.to_csv(\"./rnn_with_preprocess.csv\", index=None)"
   ]
  },
  {
   "cell_type": "code",
   "execution_count": 132,
   "id": "d44696ee",
   "metadata": {
    "ExecuteTime": {
     "end_time": "2022-06-01T13:49:29.998199Z",
     "start_time": "2022-06-01T13:49:29.990220Z"
    }
   },
   "outputs": [
    {
     "data": {
      "text/plain": [
       "0    2559\n",
       "1     704\n",
       "Name: target, dtype: int64"
      ]
     },
     "execution_count": 132,
     "metadata": {},
     "output_type": "execute_result"
    }
   ],
   "source": [
    "submission[\"target\"].value_counts()"
   ]
  },
  {
   "cell_type": "code",
   "execution_count": null,
   "id": "fbe55084",
   "metadata": {},
   "outputs": [],
   "source": []
  }
 ],
 "metadata": {
  "kernelspec": {
   "display_name": "=python3.9.0",
   "language": "python",
   "name": "python3.9.0"
  },
  "language_info": {
   "codemirror_mode": {
    "name": "ipython",
    "version": 3
   },
   "file_extension": ".py",
   "mimetype": "text/x-python",
   "name": "python",
   "nbconvert_exporter": "python",
   "pygments_lexer": "ipython3",
   "version": "3.9.12"
  },
  "toc": {
   "base_numbering": 1,
   "nav_menu": {},
   "number_sections": true,
   "sideBar": true,
   "skip_h1_title": false,
   "title_cell": "Table of Contents",
   "title_sidebar": "Contents",
   "toc_cell": false,
   "toc_position": {},
   "toc_section_display": true,
   "toc_window_display": true
  },
  "varInspector": {
   "cols": {
    "lenName": 16,
    "lenType": 16,
    "lenVar": 40
   },
   "kernels_config": {
    "python": {
     "delete_cmd_postfix": "",
     "delete_cmd_prefix": "del ",
     "library": "var_list.py",
     "varRefreshCmd": "print(var_dic_list())"
    },
    "r": {
     "delete_cmd_postfix": ") ",
     "delete_cmd_prefix": "rm(",
     "library": "var_list.r",
     "varRefreshCmd": "cat(var_dic_list()) "
    }
   },
   "types_to_exclude": [
    "module",
    "function",
    "builtin_function_or_method",
    "instance",
    "_Feature"
   ],
   "window_display": false
  }
 },
 "nbformat": 4,
 "nbformat_minor": 5
}
